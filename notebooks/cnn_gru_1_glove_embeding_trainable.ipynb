{
 "cells": [
  {
   "cell_type": "code",
   "execution_count": 1,
   "metadata": {
    "collapsed": false
   },
   "outputs": [
    {
     "name": "stderr",
     "output_type": "stream",
     "text": [
      "Using TensorFlow backend.\n"
     ]
    },
    {
     "name": "stdout",
     "output_type": "stream",
     "text": [
      "(95851, 6)\n"
     ]
    }
   ],
   "source": [
    "# ref: https://www.kaggle.com/jacklinggu/lstm-with-glove-embedding-public-lb-score-0-049\n",
    "\n",
    "import numpy as np # linear algebra\n",
    "import pandas as pd # data processing, CSV file I/O (e.g. pd.read_csv)\n",
    "import re\n",
    "from keras.models import Model, load_model\n",
    "from keras.layers import Dense, Embedding, Input\n",
    "from keras.layers import GRU, Bidirectional, GlobalMaxPool1D, Dropout,GlobalAveragePooling1D,Conv1D\n",
    "from keras.preprocessing import text, sequence\n",
    "from keras.callbacks import EarlyStopping, ModelCheckpoint\n",
    "\n",
    "max_features = 40000\n",
    "maxlen = 150\n",
    "\n",
    "def clean_text( text ):\n",
    "    text = text.lower().split()\n",
    "    text = \" \".join(text)\n",
    "    text = re.sub(r\"[^A-Za-z0-9^,!.\\/'+\\-=]\", \" \", text)\n",
    "    text = re.sub(r\"what's\", \"what is \", text)\n",
    "    text = re.sub(r\"\\'s\", \" \", text)\n",
    "    text = re.sub(r\"\\'ve\", \" have \", text)\n",
    "    text = re.sub(r\"can't\", \"cannot \", text)\n",
    "    text = re.sub(r\"n't\", \" not \", text)\n",
    "    text = re.sub(r\"i'm\", \"i am \", text)\n",
    "    text = re.sub(r\"\\'re\", \" are \", text)\n",
    "    text = re.sub(r\"\\'d\", \" would \", text)\n",
    "    text = re.sub(r\"\\'ll\", \" will \", text)\n",
    "    text = re.sub(r\",\", \" \", text)\n",
    "    text = re.sub(r\"\\.\", \" \", text)\n",
    "    text = re.sub(r\"!\", \" ! \", text)\n",
    "    text = re.sub(r\"\\/\", \" \", text)\n",
    "    text = re.sub(r\"\\^\", \" ^ \", text)\n",
    "    text = re.sub(r\"\\+\", \" + \", text)\n",
    "    text = re.sub(r\"\\-\", \" - \", text)\n",
    "    text = re.sub(r\"\\=\", \" = \", text)\n",
    "    text = re.sub(r\"'\", \" \", text)\n",
    "    text = re.sub(r\"(\\d+)(k)\", r\"\\g<1>000\", text)\n",
    "    text = re.sub(r\":\", \" : \", text)\n",
    "    text = re.sub(r\" e g \", \" eg \", text)\n",
    "    text = re.sub(r\" b g \", \" bg \", text)\n",
    "    text = re.sub(r\" u s \", \" american \", text)\n",
    "    text = re.sub(r\"\\0s\", \"0\", text)\n",
    "    text = re.sub(r\" 9 11 \", \"911\", text)\n",
    "    text = re.sub(r\"e - mail\", \"email\", text)\n",
    "    text = re.sub(r\"j k\", \"jk\", text)\n",
    "    text = re.sub(r\"\\s{2,}\", \" \", text)\n",
    "    #\n",
    "    return text\n",
    "\n",
    "train = pd.read_csv(\"../input/train.csv\")\n",
    "test = pd.read_csv(\"../input/test.csv\")\n",
    "\n",
    "list_sentences_train = train[\"comment_text\"].fillna(\"CVxTz\").apply(clean_text).values\n",
    "list_classes = [\"toxic\", \"severe_toxic\", \"obscene\", \"threat\", \"insult\", \"identity_hate\"]\n",
    "y = train[list_classes].values\n",
    "list_sentences_test = test[\"comment_text\"].fillna(\"CVxTz\").apply(clean_text).values\n",
    "print(y.shape)"
   ]
  },
  {
   "cell_type": "code",
   "execution_count": 2,
   "metadata": {
    "collapsed": false
   },
   "outputs": [
    {
     "data": {
      "text/plain": [
       "array([ 'nonsense kiss off geek what i said is true i will have your account terminated ',\n",
       "       ' please do not vandalize pages as you did with this edit to w s merwin if you continue to do so you will be blocked from editing ',\n",
       "       ' points of interest i removed the points of interest section you added because it seemed kind of spammy i know you probably did not mean to disobey the rules but generally a point of interest tends to be rather touristy and quite irrelevant to an area culture that just my opinion though if you want to reply just put your reply here and add talkback jamiegraham08 on my talkpage ',\n",
       "       'asking some his nationality is a racial offence wow was not aware of it blocking me has shown your support towards your community thanku for that',\n",
       "       'the reader here is not going by my say so for ethereal vocal style and dark lyrical content the cited sources in the external links are saying those things if you feel the sources are unreliable or i did not represent what they said correctly rewrite or delete it '], dtype=object)"
      ]
     },
     "execution_count": 2,
     "metadata": {},
     "output_type": "execute_result"
    }
   ],
   "source": [
    "list_sentences_train[:5]"
   ]
  },
  {
   "cell_type": "code",
   "execution_count": 3,
   "metadata": {
    "collapsed": false
   },
   "outputs": [
    {
     "name": "stdout",
     "output_type": "stream",
     "text": [
      "test len 226998\n"
     ]
    }
   ],
   "source": [
    "print('test len',len(test))"
   ]
  },
  {
   "cell_type": "code",
   "execution_count": 4,
   "metadata": {
    "collapsed": false
   },
   "outputs": [
    {
     "name": "stdout",
     "output_type": "stream",
     "text": [
      "(95851, 150) (226998, 150)\n"
     ]
    }
   ],
   "source": [
    "tokenizer = text.Tokenizer(num_words=max_features)\n",
    "tokenizer.fit_on_texts(list(list_sentences_train))\n",
    "list_tokenized_train = tokenizer.texts_to_sequences(list_sentences_train)\n",
    "list_tokenized_test = tokenizer.texts_to_sequences(list_sentences_test)\n",
    "X_train = sequence.pad_sequences(list_tokenized_train, maxlen=maxlen)\n",
    "X_test = sequence.pad_sequences(list_tokenized_test, maxlen=maxlen)\n",
    "\n",
    "print(X_train.shape,X_test.shape)"
   ]
  },
  {
   "cell_type": "code",
   "execution_count": 5,
   "metadata": {
    "collapsed": false
   },
   "outputs": [
    {
     "name": "stdout",
     "output_type": "stream",
     "text": [
      "prosopagnosia 131249\n",
      "kindbut 103775\n",
      "relatives 6295\n",
      "tripods 75110\n",
      "ahahahahahahahahahahahahahahahahahahaha 5362\n",
      "whitcomb 98265\n"
     ]
    }
   ],
   "source": [
    "# check word_index\n",
    "tmp_cnt = 0\n",
    "for k in tokenizer.word_index:\n",
    "    print(k,tokenizer.word_index[k])\n",
    "    tmp_cnt += 1\n",
    "    if tmp_cnt >5:\n",
    "        break\n",
    "word_idx = tokenizer.word_index"
   ]
  },
  {
   "cell_type": "code",
   "execution_count": 6,
   "metadata": {
    "collapsed": false,
    "scrolled": true
   },
   "outputs": [
    {
     "name": "stdout",
     "output_type": "stream",
     "text": [
      "2196007\n",
      "Preparing embedding matrix\n",
      "Null word embeddings: 3819\n"
     ]
    }
   ],
   "source": [
    "# read word2vec\n",
    "# \n",
    "word_vec_dict = {}\n",
    "with open('../glove.840B.300d.txt') as f:\n",
    "    for line in f:\n",
    "        v_list = line.strip().split(' ')\n",
    "        k = str(v_list[0])\n",
    "        v = np.array([float(x) for x in v_list[1:]])\n",
    "        word_vec_dict[k] = v\n",
    "print(len(word_vec_dict))\n",
    "# print(word_vec_dict['is'])\n",
    "# print(word_vec_dict['are'])\n",
    "\n",
    "print('Preparing embedding matrix')\n",
    "EMBEDDING_DIM = 300\n",
    "nb_words = min(max_features,len(word_idx))\n",
    "embedding_matrix = np.zeros((nb_words, EMBEDDING_DIM))\n",
    "for word,i in word_idx.items():\n",
    "    if i >= max_features:\n",
    "        continue\n",
    "    else:\n",
    "        if word in word_vec_dict:\n",
    "            embedding_matrix[i] = word_vec_dict[word]\n",
    "print('Null word embeddings: %d' % np.sum(np.sum(embedding_matrix, axis=1) == 0))\n",
    "del word_vec_dict"
   ]
  },
  {
   "cell_type": "code",
   "execution_count": 7,
   "metadata": {
    "collapsed": false
   },
   "outputs": [
    {
     "name": "stdout",
     "output_type": "stream",
     "text": [
      "def model done\n"
     ]
    }
   ],
   "source": [
    "from sklearn.metrics import log_loss,accuracy_score\n",
    "from keras.layers import MaxPooling1D\n",
    "\n",
    "def eval_val(y,train_x):\n",
    "    res = 0\n",
    "    acc_res = 0\n",
    "    for i in range(6):\n",
    "        curr_loss = log_loss(y[:,i],train_x[:,i])\n",
    "        acc = accuracy_score(y[:,i],train_x[:,i].round())\n",
    "        print(i,curr_loss,acc)\n",
    "        res += curr_loss\n",
    "        acc_res += acc\n",
    "    print('final',res/6, acc_res/6)\n",
    "\n",
    "def get_lstm_model():\n",
    "    inp = Input(shape=(maxlen, ))\n",
    "    x = Embedding(nb_words, EMBEDDING_DIM, weights=[embedding_matrix],trainable=True)(inp)\n",
    "    main = Conv1D(filters=256, kernel_size=7, padding='same', activation='relu')(x) # change 3 to 7\n",
    "    main = MaxPooling1D(pool_size=2)(main)\n",
    "    main = GRU(64)(main)\n",
    "    main = Dense(32, activation=\"relu\")(main)\n",
    "    main = Dense(6, activation=\"sigmoid\")(main)\n",
    "    model = Model(inputs=inp, outputs=main)\n",
    "    model.compile(loss='binary_crossentropy', optimizer='adam', metrics=['accuracy'])    \n",
    "    return model\n",
    "    \n",
    "\n",
    "print('def model done')"
   ]
  },
  {
   "cell_type": "code",
   "execution_count": 8,
   "metadata": {
    "collapsed": false
   },
   "outputs": [
    {
     "name": "stdout",
     "output_type": "stream",
     "text": [
      "_________________________________________________________________\n",
      "Layer (type)                 Output Shape              Param #   \n",
      "=================================================================\n",
      "input_1 (InputLayer)         (None, 150)               0         \n",
      "_________________________________________________________________\n",
      "embedding_1 (Embedding)      (None, 150, 300)          12000000  \n",
      "_________________________________________________________________\n",
      "conv1d_1 (Conv1D)            (None, 150, 256)          537856    \n",
      "_________________________________________________________________\n",
      "max_pooling1d_1 (MaxPooling1 (None, 75, 256)           0         \n",
      "_________________________________________________________________\n",
      "gru_1 (GRU)                  (None, 64)                61632     \n",
      "_________________________________________________________________\n",
      "dense_1 (Dense)              (None, 32)                2080      \n",
      "_________________________________________________________________\n",
      "dense_2 (Dense)              (None, 6)                 198       \n",
      "=================================================================\n",
      "Total params: 12,601,766\n",
      "Trainable params: 12,601,766\n",
      "Non-trainable params: 0\n",
      "_________________________________________________________________\n"
     ]
    }
   ],
   "source": [
    "tmp_m = get_lstm_model()\n",
    "tmp_m.summary()"
   ]
  },
  {
   "cell_type": "code",
   "execution_count": 9,
   "metadata": {
    "collapsed": false,
    "scrolled": false
   },
   "outputs": [
    {
     "name": "stdout",
     "output_type": "stream",
     "text": [
      "Train on 63900 samples, validate on 31951 samples\n",
      "Epoch 1/6\n",
      "63872/63900 [============================>.] - ETA: 0s - loss: 0.0608 - acc: 0.9786Epoch 00001: val_loss improved from inf to 0.04744, saving model to weights_base.best.h5\n",
      "63900/63900 [==============================] - 139s 2ms/step - loss: 0.0608 - acc: 0.9786 - val_loss: 0.0474 - val_acc: 0.9818\n",
      "Epoch 2/6\n",
      "63872/63900 [============================>.] - ETA: 0s - loss: 0.0388 - acc: 0.9849Epoch 00002: val_loss improved from 0.04744 to 0.04580, saving model to weights_base.best.h5\n",
      "63900/63900 [==============================] - 134s 2ms/step - loss: 0.0388 - acc: 0.9849 - val_loss: 0.0458 - val_acc: 0.9824\n",
      "Epoch 3/6\n",
      "63872/63900 [============================>.] - ETA: 0s - loss: 0.0293 - acc: 0.9884Epoch 00003: val_loss did not improve\n",
      "63900/63900 [==============================] - 133s 2ms/step - loss: 0.0293 - acc: 0.9884 - val_loss: 0.0496 - val_acc: 0.9811\n",
      "Epoch 4/6\n",
      "63872/63900 [============================>.] - ETA: 0s - loss: 0.0218 - acc: 0.9915Epoch 00004: val_loss did not improve\n",
      "63900/63900 [==============================] - 133s 2ms/step - loss: 0.0218 - acc: 0.9915 - val_loss: 0.0587 - val_acc: 0.9822\n",
      "Epoch 5/6\n",
      "63872/63900 [============================>.] - ETA: 0s - loss: 0.0159 - acc: 0.9940Epoch 00005: val_loss did not improve\n",
      "63900/63900 [==============================] - 134s 2ms/step - loss: 0.0159 - acc: 0.9940 - val_loss: 0.0676 - val_acc: 0.9818\n",
      "Epoch 6/6\n",
      "63872/63900 [============================>.] - ETA: 0s - loss: 0.0115 - acc: 0.9958Epoch 00006: val_loss did not improve\n",
      "63900/63900 [==============================] - 134s 2ms/step - loss: 0.0115 - acc: 0.9958 - val_loss: 0.0716 - val_acc: 0.9801\n",
      "Train on 63901 samples, validate on 31950 samples\n",
      "Epoch 1/6\n",
      "63872/63901 [============================>.] - ETA: 0s - loss: 0.0588 - acc: 0.9793Epoch 00001: val_loss improved from inf to 0.04499, saving model to weights_base.best.h5\n",
      "63901/63901 [==============================] - 137s 2ms/step - loss: 0.0588 - acc: 0.9793 - val_loss: 0.0450 - val_acc: 0.9830\n",
      "Epoch 2/6\n",
      "63872/63901 [============================>.] - ETA: 0s - loss: 0.0383 - acc: 0.9850Epoch 00002: val_loss improved from 0.04499 to 0.04494, saving model to weights_base.best.h5\n",
      "63901/63901 [==============================] - 136s 2ms/step - loss: 0.0383 - acc: 0.9850 - val_loss: 0.0449 - val_acc: 0.9828\n",
      "Epoch 3/6\n",
      "63872/63901 [============================>.] - ETA: 0s - loss: 0.0288 - acc: 0.9888Epoch 00003: val_loss did not improve\n",
      "63901/63901 [==============================] - 135s 2ms/step - loss: 0.0288 - acc: 0.9888 - val_loss: 0.0485 - val_acc: 0.9818\n",
      "Epoch 4/6\n",
      "63872/63901 [============================>.] - ETA: 0s - loss: 0.0215 - acc: 0.9917Epoch 00004: val_loss did not improve\n",
      "63901/63901 [==============================] - 136s 2ms/step - loss: 0.0215 - acc: 0.9917 - val_loss: 0.0543 - val_acc: 0.9813\n",
      "Epoch 5/6\n",
      "63872/63901 [============================>.] - ETA: 0s - loss: 0.0152 - acc: 0.9943Epoch 00005: val_loss did not improve\n",
      "63901/63901 [==============================] - 136s 2ms/step - loss: 0.0152 - acc: 0.9943 - val_loss: 0.0630 - val_acc: 0.9818\n",
      "Epoch 6/6\n",
      "63872/63901 [============================>.] - ETA: 0s - loss: 0.0105 - acc: 0.9962Epoch 00006: val_loss did not improve\n",
      "63901/63901 [==============================] - 135s 2ms/step - loss: 0.0105 - acc: 0.9962 - val_loss: 0.0736 - val_acc: 0.9814\n",
      "Train on 63901 samples, validate on 31950 samples\n",
      "Epoch 1/6\n",
      "63872/63901 [============================>.] - ETA: 0s - loss: 0.0567 - acc: 0.9798Epoch 00001: val_loss improved from inf to 0.04752, saving model to weights_base.best.h5\n",
      "63901/63901 [==============================] - 137s 2ms/step - loss: 0.0567 - acc: 0.9798 - val_loss: 0.0475 - val_acc: 0.9819\n",
      "Epoch 2/6\n",
      "63872/63901 [============================>.] - ETA: 0s - loss: 0.0373 - acc: 0.9855Epoch 00002: val_loss improved from 0.04752 to 0.04620, saving model to weights_base.best.h5\n",
      "63901/63901 [==============================] - 136s 2ms/step - loss: 0.0373 - acc: 0.9855 - val_loss: 0.0462 - val_acc: 0.9822\n",
      "Epoch 3/6\n",
      "63872/63901 [============================>.] - ETA: 0s - loss: 0.0277 - acc: 0.9891Epoch 00003: val_loss did not improve\n",
      "63901/63901 [==============================] - 136s 2ms/step - loss: 0.0277 - acc: 0.9891 - val_loss: 0.0497 - val_acc: 0.9823\n",
      "Epoch 4/6\n",
      "63872/63901 [============================>.] - ETA: 0s - loss: 0.0201 - acc: 0.9922Epoch 00004: val_loss did not improve\n",
      "63901/63901 [==============================] - 135s 2ms/step - loss: 0.0201 - acc: 0.9922 - val_loss: 0.0573 - val_acc: 0.9821\n",
      "Epoch 5/6\n",
      "63872/63901 [============================>.] - ETA: 0s - loss: 0.0148 - acc: 0.9944Epoch 00005: val_loss did not improve\n",
      "63901/63901 [==============================] - 135s 2ms/step - loss: 0.0148 - acc: 0.9944 - val_loss: 0.0634 - val_acc: 0.9816\n",
      "Epoch 6/6\n",
      "63872/63901 [============================>.] - ETA: 0s - loss: 0.0098 - acc: 0.9965Epoch 00006: val_loss did not improve\n",
      "63901/63901 [==============================] - 136s 2ms/step - loss: 0.0098 - acc: 0.9965 - val_loss: 0.0759 - val_acc: 0.9803\n",
      "-------------------------------\n",
      "0 0.0985529038633 0.962525169273\n",
      "1 0.0247651033178 0.989139393434\n",
      "2 0.0484809360097 0.981439943245\n",
      "3 0.0113220000196 0.9968701422\n",
      "4 0.0657937290203 0.972958028607\n",
      "5 0.0249737847721 0.991820638282\n",
      "final 0.0456480761671 0.98245888584\n",
      "all eval None\n",
      "(95851, 6) (226998, 6)\n",
      "done\n"
     ]
    }
   ],
   "source": [
    "from sklearn.model_selection import KFold\n",
    "def kf_train(fold_cnt=3,rnd=1):\n",
    "    kf = KFold(n_splits=fold_cnt, shuffle=False, random_state=233*rnd)\n",
    "    train_pred, test_pred = np.zeros((95851,6)),np.zeros((226998,6))\n",
    "    for train_index, test_index in kf.split(X_train):\n",
    "        # x,y\n",
    "        curr_x,curr_y = X_train[train_index],y[train_index]\n",
    "        hold_out_x,hold_out_y = X_train[test_index],y[test_index]\n",
    "        \n",
    "        # model\n",
    "        model = get_lstm_model()\n",
    "        batch_size = 64\n",
    "        epochs = 6\n",
    "        file_path=\"weights_base.best.h5\"\n",
    "        checkpoint = ModelCheckpoint(file_path, monitor='val_loss', verbose=1, save_best_only=True, mode='min')\n",
    "        callbacks_list = [checkpoint] \n",
    "        \n",
    "        # train and pred\n",
    "        model.fit(curr_x, curr_y, batch_size=batch_size, epochs=epochs, \n",
    "                  validation_data=(hold_out_x,hold_out_y), callbacks=callbacks_list)\n",
    "        model = load_model(file_path)\n",
    "        y_test = model.predict(X_test)\n",
    "        test_pred += y_test\n",
    "        hold_out_pred = model.predict(hold_out_x)\n",
    "        train_pred[test_index] = hold_out_pred\n",
    "    test_pred = test_pred / fold_cnt\n",
    "    print('-------------------------------')\n",
    "    print('all eval',eval_val(y,train_pred))\n",
    "    return train_pred, test_pred\n",
    "\n",
    "\n",
    "train_pred,test_pred = kf_train()\n",
    "print(train_pred.shape,test_pred.shape)\n",
    "sample_submission = pd.read_csv(\"../input/sample_submission.csv\")\n",
    "sample_submission[list_classes] = test_pred\n",
    "sample_submission.to_csv(\"../results/cnn_gru_glove_1_trainable_csv.gz\", index=False, compression='gzip')\n",
    "import pickle\n",
    "with open('../features/cnn_gru_glove_1_trainable_feat.pkl','wb') as fout:\n",
    "    pickle.dump([train_pred,test_pred],fout)\n",
    "print('done')\n",
    "\n",
    "# 0.04336 0.04367 0.04425"
   ]
  },
  {
   "cell_type": "code",
   "execution_count": 10,
   "metadata": {
    "collapsed": false
   },
   "outputs": [
    {
     "data": {
      "text/plain": [
       "array([[ 0.352,  0.   ,  0.013,  0.005,  0.027,  0.003],\n",
       "       [ 0.002,  0.   ,  0.   ,  0.   ,  0.   ,  0.   ],\n",
       "       [ 0.001,  0.   ,  0.   ,  0.   ,  0.   ,  0.   ],\n",
       "       [ 0.001,  0.   ,  0.   ,  0.   ,  0.   ,  0.   ],\n",
       "       [ 0.001,  0.   ,  0.   ,  0.   ,  0.   ,  0.   ],\n",
       "       [ 0.01 ,  0.   ,  0.001,  0.   ,  0.001,  0.   ],\n",
       "       [ 0.002,  0.   ,  0.   ,  0.   ,  0.   ,  0.   ],\n",
       "       [ 0.211,  0.001,  0.008,  0.033,  0.015,  0.006],\n",
       "       [ 0.001,  0.   ,  0.   ,  0.   ,  0.   ,  0.   ],\n",
       "       [ 0.001,  0.   ,  0.   ,  0.   ,  0.   ,  0.   ]])"
      ]
     },
     "execution_count": 10,
     "metadata": {},
     "output_type": "execute_result"
    }
   ],
   "source": [
    "train_pred[:10].round(3)"
   ]
  },
  {
   "cell_type": "code",
   "execution_count": 11,
   "metadata": {
    "collapsed": false
   },
   "outputs": [
    {
     "data": {
      "text/plain": [
       "array([[1, 0, 0, 0, 0, 0],\n",
       "       [0, 0, 0, 0, 0, 0],\n",
       "       [0, 0, 0, 0, 0, 0],\n",
       "       [0, 0, 0, 0, 0, 0],\n",
       "       [0, 0, 0, 0, 0, 0],\n",
       "       [0, 0, 0, 0, 0, 0],\n",
       "       [0, 0, 0, 0, 0, 0],\n",
       "       [0, 0, 0, 0, 0, 0],\n",
       "       [0, 0, 0, 0, 0, 0],\n",
       "       [0, 0, 0, 0, 0, 0]])"
      ]
     },
     "execution_count": 11,
     "metadata": {},
     "output_type": "execute_result"
    }
   ],
   "source": [
    "y[:10]"
   ]
  }
 ],
 "metadata": {
  "kernelspec": {
   "display_name": "Python 3",
   "language": "python",
   "name": "python3"
  },
  "language_info": {
   "codemirror_mode": {
    "name": "ipython",
    "version": 3
   },
   "file_extension": ".py",
   "mimetype": "text/x-python",
   "name": "python",
   "nbconvert_exporter": "python",
   "pygments_lexer": "ipython3",
   "version": "3.5.2"
  }
 },
 "nbformat": 4,
 "nbformat_minor": 2
}
