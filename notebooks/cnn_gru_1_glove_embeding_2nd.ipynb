{
 "cells": [
  {
   "cell_type": "code",
   "execution_count": 1,
   "metadata": {},
   "outputs": [
    {
     "name": "stderr",
     "output_type": "stream",
     "text": [
      "Using TensorFlow backend.\n"
     ]
    },
    {
     "name": "stdout",
     "output_type": "stream",
     "text": [
      "(159571, 6)\n"
     ]
    }
   ],
   "source": [
    "# ref: https://www.kaggle.com/jacklinggu/lstm-with-glove-embedding-public-lb-score-0-049\n",
    "\n",
    "import numpy as np # linear algebra\n",
    "import pandas as pd # data processing, CSV file I/O (e.g. pd.read_csv)\n",
    "import re\n",
    "from keras.models import Model, load_model\n",
    "from keras.layers import Dense, Embedding, Input\n",
    "from keras.layers import GRU, Bidirectional, GlobalMaxPool1D, Dropout,GlobalAveragePooling1D,Conv1D\n",
    "from keras.preprocessing import text, sequence\n",
    "from keras.callbacks import EarlyStopping, ModelCheckpoint\n",
    "\n",
    "max_features = 40000\n",
    "maxlen = 150\n",
    "\n",
    "def clean_text( text ):\n",
    "    text = text.lower().split()\n",
    "    text = \" \".join(text)\n",
    "    text = re.sub(r\"[^A-Za-z0-9^,!.\\/'+\\-=]\", \" \", text)\n",
    "    text = re.sub(r\"what's\", \"what is \", text)\n",
    "    text = re.sub(r\"\\'s\", \" \", text)\n",
    "    text = re.sub(r\"\\'ve\", \" have \", text)\n",
    "    text = re.sub(r\"can't\", \"cannot \", text)\n",
    "    text = re.sub(r\"n't\", \" not \", text)\n",
    "    text = re.sub(r\"i'm\", \"i am \", text)\n",
    "    text = re.sub(r\"\\'re\", \" are \", text)\n",
    "    text = re.sub(r\"\\'d\", \" would \", text)\n",
    "    text = re.sub(r\"\\'ll\", \" will \", text)\n",
    "    text = re.sub(r\",\", \" \", text)\n",
    "    text = re.sub(r\"\\.\", \" \", text)\n",
    "    text = re.sub(r\"!\", \" ! \", text)\n",
    "    text = re.sub(r\"\\/\", \" \", text)\n",
    "    text = re.sub(r\"\\^\", \" ^ \", text)\n",
    "    text = re.sub(r\"\\+\", \" + \", text)\n",
    "    text = re.sub(r\"\\-\", \" - \", text)\n",
    "    text = re.sub(r\"\\=\", \" = \", text)\n",
    "    text = re.sub(r\"'\", \" \", text)\n",
    "    text = re.sub(r\"(\\d+)(k)\", r\"\\g<1>000\", text)\n",
    "    text = re.sub(r\":\", \" : \", text)\n",
    "    text = re.sub(r\" e g \", \" eg \", text)\n",
    "    text = re.sub(r\" b g \", \" bg \", text)\n",
    "    text = re.sub(r\" u s \", \" american \", text)\n",
    "    text = re.sub(r\"\\0s\", \"0\", text)\n",
    "    text = re.sub(r\" 9 11 \", \"911\", text)\n",
    "    text = re.sub(r\"e - mail\", \"email\", text)\n",
    "    text = re.sub(r\"j k\", \"jk\", text)\n",
    "    text = re.sub(r\"\\s{2,}\", \" \", text)\n",
    "    #\n",
    "    return text\n",
    "\n",
    "train = pd.read_csv(\"../input/train.csv\")\n",
    "test = pd.read_csv(\"../input/test.csv\")\n",
    "\n",
    "list_sentences_train = train[\"comment_text\"].fillna(\"CVxTz\").apply(clean_text).values\n",
    "list_classes = [\"toxic\", \"severe_toxic\", \"obscene\", \"threat\", \"insult\", \"identity_hate\"]\n",
    "y = train[list_classes].values\n",
    "list_sentences_test = test[\"comment_text\"].fillna(\"CVxTz\").apply(clean_text).values\n",
    "print(y.shape)"
   ]
  },
  {
   "cell_type": "code",
   "execution_count": 2,
   "metadata": {},
   "outputs": [
    {
     "data": {
      "text/plain": [
       "array([ 'explanation why the edits made under my username hardcore metallica fan were reverted they were not vandalisms just closure on some gas after i voted at new york dolls fac and please do not remove the template from the talk page since i am retired now 89 205 38 27',\n",
       "       'd aww ! he matches this background colour i am seemingly stuck with thanks talk 21 51 january 11 2016 utc ',\n",
       "       'hey man i am really not trying to edit war it just that this guy is constantly removing relevant information and talking to me through edits instead of my talk page he seems to care more about the formatting than the actual info ',\n",
       "       ' more i cannot make any real suggestions on improvement - i wondered if the section statistics should be later on or a subsection of types of accidents - i think the references may need tidying so that they are all in the exact same format ie date format etc i can do that later on if no - one else does first - if you have any preferences for formatting style on references or want to do it yourself please let me know there appears to be a backlog on articles for review so i guess there may be a delay until a reviewer turns up it listed in the relevant form eg wikipedia good article nominations transport ',\n",
       "       'you sir are my hero any chance you remember what page that on '], dtype=object)"
      ]
     },
     "execution_count": 2,
     "metadata": {},
     "output_type": "execute_result"
    }
   ],
   "source": [
    "list_sentences_train[:5]"
   ]
  },
  {
   "cell_type": "code",
   "execution_count": 3,
   "metadata": {},
   "outputs": [
    {
     "name": "stdout",
     "output_type": "stream",
     "text": [
      "test len 153164\n"
     ]
    }
   ],
   "source": [
    "print('test len',len(test))"
   ]
  },
  {
   "cell_type": "code",
   "execution_count": 4,
   "metadata": {},
   "outputs": [
    {
     "name": "stdout",
     "output_type": "stream",
     "text": [
      "(159571, 150) (153164, 150)\n"
     ]
    }
   ],
   "source": [
    "tokenizer = text.Tokenizer(num_words=max_features)\n",
    "tokenizer.fit_on_texts(list(list_sentences_train))\n",
    "list_tokenized_train = tokenizer.texts_to_sequences(list_sentences_train)\n",
    "list_tokenized_test = tokenizer.texts_to_sequences(list_sentences_test)\n",
    "X_train = sequence.pad_sequences(list_tokenized_train, maxlen=maxlen)\n",
    "X_test = sequence.pad_sequences(list_tokenized_test, maxlen=maxlen)\n",
    "\n",
    "print(X_train.shape,X_test.shape)"
   ]
  },
  {
   "cell_type": "code",
   "execution_count": 5,
   "metadata": {},
   "outputs": [
    {
     "name": "stdout",
     "output_type": "stream",
     "text": [
      "turbocharger 173243\n",
      "range 1561\n",
      "thole 151177\n",
      "kxii 49438\n",
      "miscegenated 129949\n",
      "kherau 154650\n"
     ]
    }
   ],
   "source": [
    "# check word_index\n",
    "tmp_cnt = 0\n",
    "for k in tokenizer.word_index:\n",
    "    print(k,tokenizer.word_index[k])\n",
    "    tmp_cnt += 1\n",
    "    if tmp_cnt >5:\n",
    "        break\n",
    "word_idx = tokenizer.word_index"
   ]
  },
  {
   "cell_type": "code",
   "execution_count": 6,
   "metadata": {
    "scrolled": true
   },
   "outputs": [
    {
     "name": "stdout",
     "output_type": "stream",
     "text": [
      "2196007\n",
      "Preparing embedding matrix\n",
      "Null word embeddings: 3388\n"
     ]
    }
   ],
   "source": [
    "# read word2vec\n",
    "# \n",
    "word_vec_dict = {}\n",
    "with open('../glove.840B.300d.txt') as f:\n",
    "    for line in f:\n",
    "        v_list = line.strip().split(' ')\n",
    "        k = str(v_list[0])\n",
    "        v = np.array([float(x) for x in v_list[1:]])\n",
    "        word_vec_dict[k] = v\n",
    "print(len(word_vec_dict))\n",
    "# print(word_vec_dict['is'])\n",
    "# print(word_vec_dict['are'])\n",
    "\n",
    "print('Preparing embedding matrix')\n",
    "EMBEDDING_DIM = 300\n",
    "nb_words = min(max_features,len(word_idx))\n",
    "embedding_matrix = np.zeros((nb_words, EMBEDDING_DIM))\n",
    "for word,i in word_idx.items():\n",
    "    if i >= max_features:\n",
    "        continue\n",
    "    else:\n",
    "        if word in word_vec_dict:\n",
    "            embedding_matrix[i] = word_vec_dict[word]\n",
    "print('Null word embeddings: %d' % np.sum(np.sum(embedding_matrix, axis=1) == 0))\n",
    "del word_vec_dict"
   ]
  },
  {
   "cell_type": "code",
   "execution_count": 7,
   "metadata": {},
   "outputs": [
    {
     "name": "stdout",
     "output_type": "stream",
     "text": [
      "def model done\n"
     ]
    }
   ],
   "source": [
    "from sklearn.metrics import log_loss,accuracy_score\n",
    "from keras.layers import MaxPooling1D\n",
    "\n",
    "def eval_val(y,train_x):\n",
    "    res = 0\n",
    "    acc_res = 0\n",
    "    for i in range(6):\n",
    "        curr_loss = log_loss(y[:,i],train_x[:,i])\n",
    "        acc = accuracy_score(y[:,i],train_x[:,i].round())\n",
    "        print(i,curr_loss,acc)\n",
    "        res += curr_loss\n",
    "        acc_res += acc\n",
    "    print('final',res/6, acc_res/6)\n",
    "\n",
    "def get_lstm_model():\n",
    "    inp = Input(shape=(maxlen, ))\n",
    "    x = Embedding(nb_words, EMBEDDING_DIM, weights=[embedding_matrix],trainable=False)(inp)\n",
    "    x = Dropout(0.2)(x)\n",
    "    main = Conv1D(filters=256, kernel_size=3, padding='same', activation='relu')(x)\n",
    "    main = MaxPooling1D(pool_size=2)(main)\n",
    "    main = GRU(64)(main)\n",
    "    main = Dense(32, activation=\"relu\")(main)\n",
    "    main = Dense(6, activation=\"sigmoid\")(main)\n",
    "    model = Model(inputs=inp, outputs=main)\n",
    "    model.compile(loss='binary_crossentropy', optimizer='adam', metrics=['accuracy'])    \n",
    "    return model\n",
    "    \n",
    "\n",
    "print('def model done')"
   ]
  },
  {
   "cell_type": "code",
   "execution_count": 8,
   "metadata": {},
   "outputs": [
    {
     "name": "stdout",
     "output_type": "stream",
     "text": [
      "_________________________________________________________________\n",
      "Layer (type)                 Output Shape              Param #   \n",
      "=================================================================\n",
      "input_1 (InputLayer)         (None, 150)               0         \n",
      "_________________________________________________________________\n",
      "embedding_1 (Embedding)      (None, 150, 300)          12000000  \n",
      "_________________________________________________________________\n",
      "dropout_1 (Dropout)          (None, 150, 300)          0         \n",
      "_________________________________________________________________\n",
      "conv1d_1 (Conv1D)            (None, 150, 256)          230656    \n",
      "_________________________________________________________________\n",
      "max_pooling1d_1 (MaxPooling1 (None, 75, 256)           0         \n",
      "_________________________________________________________________\n",
      "gru_1 (GRU)                  (None, 64)                61632     \n",
      "_________________________________________________________________\n",
      "dense_1 (Dense)              (None, 32)                2080      \n",
      "_________________________________________________________________\n",
      "dense_2 (Dense)              (None, 6)                 198       \n",
      "=================================================================\n",
      "Total params: 12,294,566\n",
      "Trainable params: 294,566\n",
      "Non-trainable params: 12,000,000\n",
      "_________________________________________________________________\n"
     ]
    }
   ],
   "source": [
    "tmp_m = get_lstm_model()\n",
    "tmp_m.summary()"
   ]
  },
  {
   "cell_type": "code",
   "execution_count": 10,
   "metadata": {
    "scrolled": false
   },
   "outputs": [
    {
     "name": "stdout",
     "output_type": "stream",
     "text": [
      "Train on 106380 samples, validate on 53191 samples\n",
      "Epoch 1/8\n",
      "106368/106380 [============================>.] - ETA: 0s - loss: 0.0540 - acc: 0.9807Epoch 00001: val_loss improved from inf to 0.04496, saving model to weights_base.best.h5\n",
      "106380/106380 [==============================] - 124s 1ms/step - loss: 0.0540 - acc: 0.9807 - val_loss: 0.0450 - val_acc: 0.9826\n",
      "Epoch 2/8\n",
      "106368/106380 [============================>.] - ETA: 0s - loss: 0.0433 - acc: 0.9833Epoch 00002: val_loss improved from 0.04496 to 0.04401, saving model to weights_base.best.h5\n",
      "106380/106380 [==============================] - 124s 1ms/step - loss: 0.0433 - acc: 0.9833 - val_loss: 0.0440 - val_acc: 0.9829\n",
      "Epoch 3/8\n",
      "106368/106380 [============================>.] - ETA: 0s - loss: 0.0397 - acc: 0.9847Epoch 00003: val_loss improved from 0.04401 to 0.04214, saving model to weights_base.best.h5\n",
      "106380/106380 [==============================] - 125s 1ms/step - loss: 0.0397 - acc: 0.9847 - val_loss: 0.0421 - val_acc: 0.9836\n",
      "Epoch 4/8\n",
      "106368/106380 [============================>.] - ETA: 0s - loss: 0.0368 - acc: 0.9855Epoch 00004: val_loss did not improve\n",
      "106380/106380 [==============================] - 125s 1ms/step - loss: 0.0368 - acc: 0.9855 - val_loss: 0.0434 - val_acc: 0.9836\n",
      "Epoch 5/8\n",
      "106368/106380 [============================>.] - ETA: 0s - loss: 0.0343 - acc: 0.9863Epoch 00005: val_loss did not improve\n",
      "106380/106380 [==============================] - 125s 1ms/step - loss: 0.0343 - acc: 0.9863 - val_loss: 0.0433 - val_acc: 0.9829\n",
      "Epoch 6/8\n",
      "106368/106380 [============================>.] - ETA: 0s - loss: 0.0315 - acc: 0.9873Epoch 00006: val_loss did not improve\n",
      "106380/106380 [==============================] - 125s 1ms/step - loss: 0.0315 - acc: 0.9873 - val_loss: 0.0445 - val_acc: 0.9829\n",
      "Epoch 7/8\n",
      "106368/106380 [============================>.] - ETA: 0s - loss: 0.0292 - acc: 0.9884Epoch 00007: val_loss did not improve\n",
      "106380/106380 [==============================] - 125s 1ms/step - loss: 0.0292 - acc: 0.9884 - val_loss: 0.0456 - val_acc: 0.9833\n",
      "Epoch 8/8\n",
      "106368/106380 [============================>.] - ETA: 0s - loss: 0.0273 - acc: 0.9890Epoch 00008: val_loss did not improve\n",
      "106380/106380 [==============================] - 125s 1ms/step - loss: 0.0273 - acc: 0.9890 - val_loss: 0.0464 - val_acc: 0.9831\n",
      "Train on 106381 samples, validate on 53190 samples\n",
      "Epoch 1/8\n",
      "106368/106381 [============================>.] - ETA: 0s - loss: 0.0581 - acc: 0.9795Epoch 00001: val_loss improved from inf to 0.04859, saving model to weights_base.best.h5\n",
      "106381/106381 [==============================] - 127s 1ms/step - loss: 0.0581 - acc: 0.9795 - val_loss: 0.0486 - val_acc: 0.9819\n",
      "Epoch 2/8\n",
      "106368/106381 [============================>.] - ETA: 0s - loss: 0.0436 - acc: 0.9832Epoch 00002: val_loss improved from 0.04859 to 0.04249, saving model to weights_base.best.h5\n",
      "106381/106381 [==============================] - 132s 1ms/step - loss: 0.0436 - acc: 0.9833 - val_loss: 0.0425 - val_acc: 0.9839\n",
      "Epoch 3/8\n",
      "106368/106381 [============================>.] - ETA: 0s - loss: 0.0399 - acc: 0.9844Epoch 00003: val_loss improved from 0.04249 to 0.04220, saving model to weights_base.best.h5\n",
      "106381/106381 [==============================] - 132s 1ms/step - loss: 0.0399 - acc: 0.9844 - val_loss: 0.0422 - val_acc: 0.9836\n",
      "Epoch 4/8\n",
      "106368/106381 [============================>.] - ETA: 0s - loss: 0.0367 - acc: 0.9855Epoch 00004: val_loss did not improve\n",
      "106381/106381 [==============================] - 132s 1ms/step - loss: 0.0367 - acc: 0.9855 - val_loss: 0.0451 - val_acc: 0.9837\n",
      "Epoch 5/8\n",
      "106368/106381 [============================>.] - ETA: 0s - loss: 0.0344 - acc: 0.9863Epoch 00005: val_loss did not improve\n",
      "106381/106381 [==============================] - 135s 1ms/step - loss: 0.0344 - acc: 0.9863 - val_loss: 0.0427 - val_acc: 0.9838\n",
      "Epoch 6/8\n",
      "106368/106381 [============================>.] - ETA: 0s - loss: 0.0316 - acc: 0.9873Epoch 00006: val_loss did not improve\n",
      "106381/106381 [==============================] - 136s 1ms/step - loss: 0.0316 - acc: 0.9873 - val_loss: 0.0443 - val_acc: 0.9839\n",
      "Epoch 7/8\n",
      "106368/106381 [============================>.] - ETA: 0s - loss: 0.0293 - acc: 0.9882Epoch 00007: val_loss did not improve\n",
      "106381/106381 [==============================] - 136s 1ms/step - loss: 0.0293 - acc: 0.9882 - val_loss: 0.0457 - val_acc: 0.9828\n",
      "Epoch 8/8\n",
      "106368/106381 [============================>.] - ETA: 0s - loss: 0.0274 - acc: 0.9888Epoch 00008: val_loss did not improve\n",
      "106381/106381 [==============================] - 136s 1ms/step - loss: 0.0274 - acc: 0.9888 - val_loss: 0.0479 - val_acc: 0.9832\n",
      "Train on 106381 samples, validate on 53190 samples\n",
      "Epoch 1/8\n",
      "106368/106381 [============================>.] - ETA: 0s - loss: 0.0578 - acc: 0.9797Epoch 00001: val_loss improved from inf to 0.04559, saving model to weights_base.best.h5\n",
      "106381/106381 [==============================] - 134s 1ms/step - loss: 0.0578 - acc: 0.9797 - val_loss: 0.0456 - val_acc: 0.9825\n",
      "Epoch 2/8\n",
      "106368/106381 [============================>.] - ETA: 0s - loss: 0.0434 - acc: 0.9834Epoch 00002: val_loss improved from 0.04559 to 0.04400, saving model to weights_base.best.h5\n",
      "106381/106381 [==============================] - 135s 1ms/step - loss: 0.0434 - acc: 0.9834 - val_loss: 0.0440 - val_acc: 0.9836\n",
      "Epoch 3/8\n",
      "106368/106381 [============================>.] - ETA: 0s - loss: 0.0396 - acc: 0.9844Epoch 00003: val_loss improved from 0.04400 to 0.04321, saving model to weights_base.best.h5\n",
      "106381/106381 [==============================] - 137s 1ms/step - loss: 0.0396 - acc: 0.9844 - val_loss: 0.0432 - val_acc: 0.9836\n",
      "Epoch 4/8\n",
      "106368/106381 [============================>.] - ETA: 0s - loss: 0.0367 - acc: 0.9854Epoch 00004: val_loss did not improve\n",
      "106381/106381 [==============================] - 131s 1ms/step - loss: 0.0367 - acc: 0.9854 - val_loss: 0.0435 - val_acc: 0.9834\n",
      "Epoch 5/8\n",
      "106368/106381 [============================>.] - ETA: 0s - loss: 0.0339 - acc: 0.9864Epoch 00005: val_loss did not improve\n",
      "106381/106381 [==============================] - 134s 1ms/step - loss: 0.0339 - acc: 0.9864 - val_loss: 0.0443 - val_acc: 0.9833\n",
      "Epoch 6/8\n",
      "106368/106381 [============================>.] - ETA: 0s - loss: 0.0314 - acc: 0.9872Epoch 00006: val_loss did not improve\n",
      "106381/106381 [==============================] - 136s 1ms/step - loss: 0.0314 - acc: 0.9872 - val_loss: 0.0454 - val_acc: 0.9822\n",
      "Epoch 7/8\n",
      "106368/106381 [============================>.] - ETA: 0s - loss: 0.0291 - acc: 0.9883Epoch 00007: val_loss did not improve\n",
      "106381/106381 [==============================] - 136s 1ms/step - loss: 0.0290 - acc: 0.9883 - val_loss: 0.0471 - val_acc: 0.9820\n",
      "Epoch 8/8\n",
      "106368/106381 [============================>.] - ETA: 0s - loss: 0.0272 - acc: 0.9890Epoch 00008: val_loss did not improve\n",
      "106381/106381 [==============================] - 136s 1ms/step - loss: 0.0272 - acc: 0.9890 - val_loss: 0.0474 - val_acc: 0.9830\n",
      "-------------------------------\n",
      "0 0.0947279290127 0.96447976136\n",
      "1 0.0220563965997 0.990612329308\n",
      "2 0.0463954565128 0.982246147483\n",
      "3 0.0100375349933 0.996935533399\n",
      "4 0.0614603032577 0.974619448396\n",
      "5 0.0204188142484 0.992837044325\n",
      "final 0.0425160724374 0.983621710712\n",
      "all eval None\n",
      "(159571, 6) (153164, 6)\n",
      "done\n"
     ]
    }
   ],
   "source": [
    "from sklearn.model_selection import KFold\n",
    "def kf_train(fold_cnt=3,rnd=1):\n",
    "    kf = KFold(n_splits=fold_cnt, shuffle=False, random_state=233*rnd)\n",
    "    # (159571, 150) (153164, 150)\n",
    "\n",
    "    train_pred, test_pred = np.zeros((159571,6)),np.zeros((153164,6))\n",
    "    for train_index, test_index in kf.split(X_train):\n",
    "        # x,y\n",
    "        curr_x,curr_y = X_train[train_index],y[train_index]\n",
    "        hold_out_x,hold_out_y = X_train[test_index],y[test_index]\n",
    "        \n",
    "        # model\n",
    "        model = get_lstm_model()\n",
    "        batch_size = 64\n",
    "        epochs = 8\n",
    "        file_path=\"weights_base.best.h5\"\n",
    "        checkpoint = ModelCheckpoint(file_path, monitor='val_loss', verbose=1, save_best_only=True, mode='min')\n",
    "        callbacks_list = [checkpoint] \n",
    "        \n",
    "        # train and pred\n",
    "        model.fit(curr_x, curr_y, batch_size=batch_size, epochs=epochs, \n",
    "                  validation_data=(hold_out_x,hold_out_y), callbacks=callbacks_list)\n",
    "        model = load_model(file_path)\n",
    "        y_test = model.predict(X_test)\n",
    "        test_pred += y_test\n",
    "        hold_out_pred = model.predict(hold_out_x)\n",
    "        train_pred[test_index] = hold_out_pred\n",
    "    test_pred = test_pred / fold_cnt\n",
    "    print('-------------------------------')\n",
    "    print('all eval',eval_val(y,train_pred))\n",
    "    return train_pred, test_pred\n",
    "\n",
    "\n",
    "train_pred,test_pred = kf_train()\n",
    "print(train_pred.shape,test_pred.shape)\n",
    "sample_submission = pd.read_csv(\"../input/sample_submission.csv\")\n",
    "sample_submission[list_classes] = test_pred\n",
    "sample_submission.to_csv(\"../results/cnn_gru_glove_1_csv.gz\", index=False, compression='gzip')\n",
    "import pickle\n",
    "with open('../features/cnn_gru_glove_1_feat.pkl','wb') as fout:\n",
    "    pickle.dump([train_pred,test_pred],fout)\n",
    "print('done')\n",
    "\n",
    "# pre 0.04337 0.04435 0.04584\n",
    "# add embed dropout\n",
    "# new 0.04377 0.04312 0.04517"
   ]
  },
  {
   "cell_type": "code",
   "execution_count": 11,
   "metadata": {},
   "outputs": [
    {
     "data": {
      "text/plain": [
       "array([[ 0.015,  0.   ,  0.002,  0.   ,  0.002,  0.   ],\n",
       "       [ 0.001,  0.   ,  0.   ,  0.   ,  0.   ,  0.   ],\n",
       "       [ 0.006,  0.   ,  0.   ,  0.   ,  0.   ,  0.   ],\n",
       "       [ 0.001,  0.   ,  0.   ,  0.   ,  0.   ,  0.   ],\n",
       "       [ 0.023,  0.   ,  0.003,  0.001,  0.005,  0.   ],\n",
       "       [ 0.   ,  0.   ,  0.   ,  0.   ,  0.   ,  0.   ],\n",
       "       [ 0.993,  0.273,  0.971,  0.007,  0.772,  0.014],\n",
       "       [ 0.03 ,  0.   ,  0.001,  0.001,  0.001,  0.   ],\n",
       "       [ 0.017,  0.   ,  0.   ,  0.   ,  0.001,  0.   ],\n",
       "       [ 0.003,  0.   ,  0.   ,  0.   ,  0.001,  0.   ]])"
      ]
     },
     "execution_count": 11,
     "metadata": {},
     "output_type": "execute_result"
    }
   ],
   "source": [
    "train_pred[:10].round(3)"
   ]
  },
  {
   "cell_type": "code",
   "execution_count": 12,
   "metadata": {},
   "outputs": [
    {
     "data": {
      "text/plain": [
       "array([[0, 0, 0, 0, 0, 0],\n",
       "       [0, 0, 0, 0, 0, 0],\n",
       "       [0, 0, 0, 0, 0, 0],\n",
       "       [0, 0, 0, 0, 0, 0],\n",
       "       [0, 0, 0, 0, 0, 0],\n",
       "       [0, 0, 0, 0, 0, 0],\n",
       "       [1, 1, 1, 0, 1, 0],\n",
       "       [0, 0, 0, 0, 0, 0],\n",
       "       [0, 0, 0, 0, 0, 0],\n",
       "       [0, 0, 0, 0, 0, 0]])"
      ]
     },
     "execution_count": 12,
     "metadata": {},
     "output_type": "execute_result"
    }
   ],
   "source": [
    "y[:10]"
   ]
  }
 ],
 "metadata": {
  "kernelspec": {
   "display_name": "Python 3",
   "language": "python",
   "name": "python3"
  },
  "language_info": {
   "codemirror_mode": {
    "name": "ipython",
    "version": 3
   },
   "file_extension": ".py",
   "mimetype": "text/x-python",
   "name": "python",
   "nbconvert_exporter": "python",
   "pygments_lexer": "ipython3",
   "version": "3.5.2"
  }
 },
 "nbformat": 4,
 "nbformat_minor": 2
}
