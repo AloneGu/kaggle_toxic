{
 "cells": [
  {
   "cell_type": "code",
   "execution_count": 12,
   "metadata": {},
   "outputs": [
    {
     "name": "stdout",
     "output_type": "stream",
     "text": [
      "sleep done\n",
      "'../features/cnn_muse_1_feat.pkl',\n",
      "'../features/cnn_muse_adj_1_feat.pkl',\n",
      "'../features/gru_muse_1_feat.pkl',\n",
      "'../features/lr_feat1.pkl',\n",
      "'../features/lr_feat2.pkl',\n",
      "'../features/lstm_1_feat.pkl',\n",
      "'../features/lstm_2_feat.pkl',\n",
      "'../features/lstm_muse_1_feat.pkl',\n",
      "'../features/lstm_muse_adj_1_feat.pkl',\n",
      "'../features/mnb_feat1.pkl',\n",
      "'../features/mnb_feat2.pkl',\n",
      "'../features/other_feat.pkl',\n",
      "'../features/simple_rnn_muse_1_feat.pkl',\n",
      "'../features/tfidf_feat1.pkl',\n",
      "'../features/tfidf_feat2.pkl',\n"
     ]
    }
   ],
   "source": [
    "import pickle\n",
    "import glob\n",
    "import pandas as pd\n",
    "import numpy as np\n",
    "from sklearn.linear_model import LogisticRegression\n",
    "from sklearn.metrics import log_loss\n",
    "from xgboost import XGBClassifier\n",
    "\n",
    "import time\n",
    "# tmp sleep\n",
    "# time.sleep(3600)\n",
    "print('sleep done')\n",
    "for f in sorted(glob.glob('../features/*.pkl')):\n",
    "    print(\"'{}',\".format(f))"
   ]
  },
  {
   "cell_type": "code",
   "execution_count": 17,
   "metadata": {},
   "outputs": [
    {
     "name": "stdout",
     "output_type": "stream",
     "text": [
      "file path ../features/cnn_muse_1_feat.pkl\n",
      "(95851, 6) (226998, 6)\n",
      "file path ../features/lstm_muse_1_feat.pkl\n",
      "(95851, 6) (226998, 6)\n",
      "file path ../features/cnn_muse_adj_1_feat.pkl\n",
      "(95851, 6) (226998, 6)\n",
      "file path ../features/lstm_muse_adj_1_feat.pkl\n",
      "(95851, 6) (226998, 6)\n",
      "file path ../features/gru_muse_1_feat.pkl\n",
      "(95851, 6) (226998, 6)\n",
      "file path ../features/simple_rnn_muse_1_feat.pkl\n",
      "(95851, 6) (226998, 6)\n",
      "file path ../features/other_feat.pkl\n",
      "(95851, 16) (226998, 16)\n",
      "(95851, 52)\n",
      "(95851, 52)\n"
     ]
    }
   ],
   "source": [
    "# load feats\n",
    "chosen_fl = [\n",
    "    '../features/cnn_muse_1_feat.pkl',\n",
    "    '../features/lstm_muse_1_feat.pkl',\n",
    "    '../features/cnn_muse_adj_1_feat.pkl',\n",
    "    '../features/lstm_muse_adj_1_feat.pkl',\n",
    "    #'../features/lstm_2_feat.pkl',\n",
    "    #'../features/lstm_1_feat.pkl',\n",
    "    '../features/gru_muse_1_feat.pkl',\n",
    "    '../features/simple_rnn_muse_1_feat.pkl',\n",
    "    '../features/other_feat.pkl',\n",
    "]\n",
    "train_x,test_x = [],[]\n",
    "for feat in chosen_fl:\n",
    "    print('file path',feat)\n",
    "    a,b = pickle.load(open(feat,'rb'))\n",
    "    print(a.shape,b.shape)\n",
    "    train_x.append(a)\n",
    "    test_x.append(b)\n",
    "train_x = np.nan_to_num(np.hstack(train_x))\n",
    "test_x = np.nan_to_num(np.hstack(test_x))\n",
    "print(train_x.shape)\n",
    "    \n",
    "# load y\n",
    "train = pd.read_csv(\"../input/train.csv\")\n",
    "list_classes = [\"toxic\", \"severe_toxic\", \"obscene\", \"threat\", \"insult\", \"identity_hate\"]\n",
    "train_y = train[list_classes].values.astype('int')\n",
    "print(train_x.shape)"
   ]
  },
  {
   "cell_type": "code",
   "execution_count": 18,
   "metadata": {},
   "outputs": [
    {
     "name": "stdout",
     "output_type": "stream",
     "text": [
      "[[1 0 0 0 0 0]\n",
      " [0 0 0 0 0 0]\n",
      " [0 0 0 0 0 0]\n",
      " [0 0 0 0 0 0]\n",
      " [0 0 0 0 0 0]\n",
      " [0 0 0 0 0 0]\n",
      " [0 0 0 0 0 0]\n",
      " [0 0 0 0 0 0]\n",
      " [0 0 0 0 0 0]\n",
      " [0 0 0 0 0 0]]\n",
      "95851\n",
      "9237\n"
     ]
    }
   ],
   "source": [
    "print(train_y[:10])\n",
    "print(len(train_y))\n",
    "print(sum(train_y[:,0]))"
   ]
  },
  {
   "cell_type": "code",
   "execution_count": 19,
   "metadata": {},
   "outputs": [
    {
     "name": "stdout",
     "output_type": "stream",
     "text": [
      "done\n"
     ]
    }
   ],
   "source": [
    "from sklearn.model_selection import KFold\n",
    "def simple_ens(model_name,k=3):\n",
    "    kf = KFold(n_splits=k, shuffle=True, random_state=42)\n",
    "    test_pred = np.zeros((226998,6))\n",
    "    all_train_loss_l,all_val_loss_l = 0,0\n",
    "    for train_index, test_index in kf.split(train_x):\n",
    "        # x,y\n",
    "        curr_x,curr_y = train_x[train_index],train_y[train_index]\n",
    "        hold_out_x,hold_out_y = train_x[test_index],train_y[test_index]\n",
    "        val_loss_l,train_loss_l = 0,0\n",
    "        \n",
    "        # train for each class\n",
    "        for i in range(6):\n",
    "            if model_name == 'lr':\n",
    "                model = LogisticRegression()\n",
    "            if model_name == 'xgb':\n",
    "                model = XGBClassifier()\n",
    "            model.fit(curr_x,curr_y[:,i])\n",
    "            print(i)\n",
    "            try:\n",
    "                curr_train_loss = log_loss(curr_y[:,i],model.predict_proba(curr_x))\n",
    "                curr_val_loss = log_loss(hold_out_y[:,i],model.predict_proba(hold_out_x))\n",
    "                print(curr_train_loss,curr_val_loss)\n",
    "                val_loss_l += curr_val_loss\n",
    "                train_loss_l += curr_train_loss\n",
    "            except:\n",
    "                pass\n",
    "            curr_test_pred = model.predict_proba(test_x)[:,1]\n",
    "            test_pred[:,i] += curr_test_pred\n",
    "            \n",
    "        # avg 6 class\n",
    "        train_loss_l = train_loss_l/6\n",
    "        val_loss_l = val_loss_l/6\n",
    "        print('this fold avg train',train_loss_l,'avg val',val_loss_l)\n",
    "        \n",
    "        # avg k fold\n",
    "        all_train_loss_l += train_loss_l/k\n",
    "        all_val_loss_l += val_loss_l/k\n",
    "        print('========================')\n",
    "    test_pred = test_pred/k\n",
    "    print('all train avg',all_train_loss_l,'all val avg',all_val_loss_l)\n",
    "    return test_pred\n",
    "\n",
    "print('done')\n",
    "            \n",
    "                \n",
    "            "
   ]
  },
  {
   "cell_type": "code",
   "execution_count": 20,
   "metadata": {},
   "outputs": [
    {
     "name": "stdout",
     "output_type": "stream",
     "text": [
      "0\n",
      "0.0856394068358 0.0876596106445\n",
      "1\n",
      "0.0183819315759 0.0226964529779\n",
      "2\n",
      "0.0459994420958 0.0473688267919\n",
      "3\n",
      "0.00507859999759 0.00899363247159\n",
      "4\n",
      "0.0563034884333 0.0631216386809\n",
      "5\n",
      "0.0164251624111 0.0195272241891\n",
      "this fold avg train 0.0379713385582 avg val 0.0415612309593\n",
      "========================\n",
      "0\n",
      "0.0839202063059 0.0917113682987\n",
      "1\n",
      "0.0184128926591 0.0222273936628\n",
      "2\n",
      "0.0443975288747 0.0507953690184\n",
      "3\n",
      "0.00543616926195 0.00855259110158\n",
      "4\n",
      "0.0572084749792 0.0605895985445\n",
      "5\n",
      "0.0161233496318 0.0205361670686\n",
      "this fold avg train 0.0375831036188 avg val 0.0424020812825\n",
      "========================\n",
      "0\n",
      "0.0840473143681 0.0911879374837\n",
      "1\n",
      "0.0183304644918 0.0227042477312\n",
      "2\n",
      "0.044209562436 0.0519885934284\n",
      "3\n",
      "0.00572753943419 0.00735698906043\n",
      "4\n",
      "0.0569121250882 0.0614976209301\n",
      "5\n",
      "0.0162421827788 0.0203828278788\n",
      "this fold avg train 0.0375781980995 avg val 0.0425197027521\n",
      "========================\n",
      "all train avg 0.0377108800922 all val avg 0.042161004998\n",
      "         id     toxic  severe_toxic   obscene    threat    insult  \\\n",
      "0   6044863  0.002497      0.000042  0.000688  0.000112  0.000446   \n",
      "1   6102620  0.005291      0.000040  0.000428  0.000066  0.000741   \n",
      "2  14563293  0.000546      0.000040  0.000553  0.000051  0.000132   \n",
      "3  21086297  0.004575      0.000040  0.001719  0.000045  0.000873   \n",
      "4  22982444  0.009336      0.000060  0.002520  0.000116  0.001731   \n",
      "\n",
      "   identity_hate  \n",
      "0       0.000109  \n",
      "1       0.000069  \n",
      "2       0.000125  \n",
      "3       0.000178  \n",
      "4       0.000142  \n",
      "save done\n"
     ]
    }
   ],
   "source": [
    "res = simple_ens('xgb',k=3)\n",
    "sample_submission = pd.read_csv(\"../input/sample_submission.csv\")\n",
    "sample_submission[list_classes] = res\n",
    "sample_submission.to_csv(\"../results/xgb_some_ens_csv.gz\", index=False, compression='gzip')\n",
    "print(sample_submission.head())\n",
    "print('save done')"
   ]
  }
 ],
 "metadata": {
  "kernelspec": {
   "display_name": "Python 3",
   "language": "python",
   "name": "python3"
  },
  "language_info": {
   "codemirror_mode": {
    "name": "ipython",
    "version": 3
   },
   "file_extension": ".py",
   "mimetype": "text/x-python",
   "name": "python",
   "nbconvert_exporter": "python",
   "pygments_lexer": "ipython3",
   "version": "3.5.2"
  }
 },
 "nbformat": 4,
 "nbformat_minor": 2
}
