{
 "cells": [
  {
   "cell_type": "code",
   "execution_count": 1,
   "metadata": {
    "collapsed": false
   },
   "outputs": [
    {
     "name": "stderr",
     "output_type": "stream",
     "text": [
      "Using TensorFlow backend.\n"
     ]
    },
    {
     "name": "stdout",
     "output_type": "stream",
     "text": [
      "(95851, 6)\n"
     ]
    }
   ],
   "source": [
    "# ref: https://www.kaggle.com/jacklinggu/lstm-with-glove-embedding-public-lb-score-0-049\n",
    "\n",
    "import numpy as np # linear algebra\n",
    "import pandas as pd # data processing, CSV file I/O (e.g. pd.read_csv)\n",
    "import re\n",
    "from keras.models import Model, load_model\n",
    "from keras.layers import Dense, Embedding, Input\n",
    "from keras.layers import LSTM, Bidirectional, GlobalMaxPool1D, Dropout,GlobalAveragePooling1D,Conv1D\n",
    "from keras.preprocessing import text, sequence\n",
    "from keras.callbacks import EarlyStopping, ModelCheckpoint\n",
    "\n",
    "max_features = 40000\n",
    "maxlen = 150\n",
    "\n",
    "def clean_text( text ):\n",
    "    text = text.lower().split()\n",
    "    text = \" \".join(text)\n",
    "    text = re.sub(r\"[^A-Za-z0-9^,!.\\/'+\\-=]\", \" \", text)\n",
    "    text = re.sub(r\"what's\", \"what is \", text)\n",
    "    text = re.sub(r\"\\'s\", \" \", text)\n",
    "    text = re.sub(r\"\\'ve\", \" have \", text)\n",
    "    text = re.sub(r\"can't\", \"cannot \", text)\n",
    "    text = re.sub(r\"n't\", \" not \", text)\n",
    "    text = re.sub(r\"i'm\", \"i am \", text)\n",
    "    text = re.sub(r\"\\'re\", \" are \", text)\n",
    "    text = re.sub(r\"\\'d\", \" would \", text)\n",
    "    text = re.sub(r\"\\'ll\", \" will \", text)\n",
    "    text = re.sub(r\",\", \" \", text)\n",
    "    text = re.sub(r\"\\.\", \" \", text)\n",
    "    text = re.sub(r\"!\", \" ! \", text)\n",
    "    text = re.sub(r\"\\/\", \" \", text)\n",
    "    text = re.sub(r\"\\^\", \" ^ \", text)\n",
    "    text = re.sub(r\"\\+\", \" + \", text)\n",
    "    text = re.sub(r\"\\-\", \" - \", text)\n",
    "    text = re.sub(r\"\\=\", \" = \", text)\n",
    "    text = re.sub(r\"'\", \" \", text)\n",
    "    text = re.sub(r\"(\\d+)(k)\", r\"\\g<1>000\", text)\n",
    "    text = re.sub(r\":\", \" : \", text)\n",
    "    text = re.sub(r\" e g \", \" eg \", text)\n",
    "    text = re.sub(r\" b g \", \" bg \", text)\n",
    "    text = re.sub(r\" u s \", \" american \", text)\n",
    "    text = re.sub(r\"\\0s\", \"0\", text)\n",
    "    text = re.sub(r\" 9 11 \", \"911\", text)\n",
    "    text = re.sub(r\"e - mail\", \"email\", text)\n",
    "    text = re.sub(r\"j k\", \"jk\", text)\n",
    "    text = re.sub(r\"\\s{2,}\", \" \", text)\n",
    "    #\n",
    "    return text\n",
    "\n",
    "train = pd.read_csv(\"../input/train.csv\")\n",
    "test = pd.read_csv(\"../input/test.csv\")\n",
    "\n",
    "list_sentences_train = train[\"comment_text\"].fillna(\"CVxTz\").apply(clean_text).values\n",
    "list_classes = [\"toxic\", \"severe_toxic\", \"obscene\", \"threat\", \"insult\", \"identity_hate\"]\n",
    "y = train[list_classes].values\n",
    "list_sentences_test = test[\"comment_text\"].fillna(\"CVxTz\").apply(clean_text).values\n",
    "print(y.shape)"
   ]
  },
  {
   "cell_type": "code",
   "execution_count": 2,
   "metadata": {
    "collapsed": false
   },
   "outputs": [
    {
     "data": {
      "text/plain": [
       "array([ 'nonsense kiss off geek what i said is true i will have your account terminated ',\n",
       "       ' please do not vandalize pages as you did with this edit to w s merwin if you continue to do so you will be blocked from editing ',\n",
       "       ' points of interest i removed the points of interest section you added because it seemed kind of spammy i know you probably did not mean to disobey the rules but generally a point of interest tends to be rather touristy and quite irrelevant to an area culture that just my opinion though if you want to reply just put your reply here and add talkback jamiegraham08 on my talkpage ',\n",
       "       'asking some his nationality is a racial offence wow was not aware of it blocking me has shown your support towards your community thanku for that',\n",
       "       'the reader here is not going by my say so for ethereal vocal style and dark lyrical content the cited sources in the external links are saying those things if you feel the sources are unreliable or i did not represent what they said correctly rewrite or delete it '], dtype=object)"
      ]
     },
     "execution_count": 2,
     "metadata": {},
     "output_type": "execute_result"
    }
   ],
   "source": [
    "list_sentences_train[:5]"
   ]
  },
  {
   "cell_type": "code",
   "execution_count": 3,
   "metadata": {
    "collapsed": false
   },
   "outputs": [
    {
     "name": "stdout",
     "output_type": "stream",
     "text": [
      "test len 226998\n"
     ]
    }
   ],
   "source": [
    "print('test len',len(test))"
   ]
  },
  {
   "cell_type": "code",
   "execution_count": 4,
   "metadata": {
    "collapsed": false
   },
   "outputs": [
    {
     "name": "stdout",
     "output_type": "stream",
     "text": [
      "(95851, 150) (226998, 150)\n"
     ]
    }
   ],
   "source": [
    "tokenizer = text.Tokenizer(num_words=max_features)\n",
    "tokenizer.fit_on_texts(list(list_sentences_train))\n",
    "list_tokenized_train = tokenizer.texts_to_sequences(list_sentences_train)\n",
    "list_tokenized_test = tokenizer.texts_to_sequences(list_sentences_test)\n",
    "X_train = sequence.pad_sequences(list_tokenized_train, maxlen=maxlen)\n",
    "X_test = sequence.pad_sequences(list_tokenized_test, maxlen=maxlen)\n",
    "\n",
    "print(X_train.shape,X_test.shape)"
   ]
  },
  {
   "cell_type": "code",
   "execution_count": 5,
   "metadata": {
    "collapsed": false
   },
   "outputs": [
    {
     "name": "stdout",
     "output_type": "stream",
     "text": [
      "isdud 119945\n",
      "slighthly 96022\n",
      "yemenite 53039\n",
      "pp388 128258\n",
      "surreptitiously 38267\n",
      "ohishi 100375\n"
     ]
    }
   ],
   "source": [
    "# check word_index\n",
    "tmp_cnt = 0\n",
    "for k in tokenizer.word_index:\n",
    "    print(k,tokenizer.word_index[k])\n",
    "    tmp_cnt += 1\n",
    "    if tmp_cnt >5:\n",
    "        break\n",
    "word_idx = tokenizer.word_index"
   ]
  },
  {
   "cell_type": "code",
   "execution_count": 6,
   "metadata": {
    "collapsed": false,
    "scrolled": true
   },
   "outputs": [
    {
     "name": "stdout",
     "output_type": "stream",
     "text": [
      "2196007\n",
      "Preparing embedding matrix\n",
      "Null word embeddings: 3819\n"
     ]
    }
   ],
   "source": [
    "# read word2vec\n",
    "# \n",
    "word_vec_dict = {}\n",
    "with open('../glove.840B.300d.txt') as f:\n",
    "    for line in f:\n",
    "        v_list = line.strip().split(' ')\n",
    "        k = str(v_list[0])\n",
    "        v = np.array([float(x) for x in v_list[1:]])\n",
    "        word_vec_dict[k] = v\n",
    "print(len(word_vec_dict))\n",
    "print('Preparing embedding matrix')\n",
    "EMBEDDING_DIM = 300\n",
    "nb_words = min(max_features,len(word_idx))\n",
    "embedding_matrix = np.zeros((nb_words, EMBEDDING_DIM))\n",
    "for word,i in word_idx.items():\n",
    "    if i >= max_features:\n",
    "        continue\n",
    "    else:\n",
    "        if word in word_vec_dict:\n",
    "            embedding_matrix[i] = word_vec_dict[word]\n",
    "print('Null word embeddings: %d' % np.sum(np.sum(embedding_matrix, axis=1) == 0))\n",
    "del word_vec_dict"
   ]
  },
  {
   "cell_type": "code",
   "execution_count": 7,
   "metadata": {
    "collapsed": false
   },
   "outputs": [
    {
     "name": "stdout",
     "output_type": "stream",
     "text": [
      "def model done\n"
     ]
    }
   ],
   "source": [
    "from sklearn.metrics import log_loss,accuracy_score\n",
    "\n",
    "def eval_val(y,train_x):\n",
    "    res = 0\n",
    "    acc_res = 0\n",
    "    for i in range(6):\n",
    "        curr_loss = log_loss(y[:,i],train_x[:,i])\n",
    "        acc = accuracy_score(y[:,i],train_x[:,i].round())\n",
    "        print(i,curr_loss,acc)\n",
    "        res += curr_loss\n",
    "        acc_res += acc\n",
    "    print('final',res/6, acc_res/6)\n",
    "\n",
    "def get_cnn_model():\n",
    "    inp = Input(shape=(maxlen, ))\n",
    "    x = Embedding(nb_words, EMBEDDING_DIM, weights=[embedding_matrix],trainable=False)(inp)\n",
    "    x = Conv1D(256,\n",
    "             9,\n",
    "             padding='valid',\n",
    "             activation='relu',\n",
    "             strides=1)(x)\n",
    "    x = GlobalMaxPool1D()(x)\n",
    "    x = Dropout(0.3)(x)\n",
    "    x = Dense(256, activation=\"relu\")(x)\n",
    "    x = Dropout(0.3)(x)\n",
    "    x = Dense(6, activation=\"sigmoid\")(x)\n",
    "    model = Model(inputs=inp, outputs=x)\n",
    "    model.compile(loss='binary_crossentropy',\n",
    "                  optimizer='adam',\n",
    "                  metrics=['accuracy'])\n",
    "\n",
    "    return model\n",
    "print('def model done')\n"
   ]
  },
  {
   "cell_type": "code",
   "execution_count": 9,
   "metadata": {
    "collapsed": false,
    "scrolled": false
   },
   "outputs": [
    {
     "name": "stdout",
     "output_type": "stream",
     "text": [
      "Train on 63900 samples, validate on 31951 samples\n",
      "Epoch 1/5\n",
      "63808/63900 [============================>.] - ETA: 0s - loss: 0.0656 - acc: 0.9775Epoch 00001: val_loss improved from inf to 0.05089, saving model to weights_base.best.h5\n",
      "63900/63900 [==============================] - 40s 633us/step - loss: 0.0656 - acc: 0.9775 - val_loss: 0.0509 - val_acc: 0.9807\n",
      "Epoch 2/5\n",
      "63808/63900 [============================>.] - ETA: 0s - loss: 0.0484 - acc: 0.9818Epoch 00002: val_loss improved from 0.05089 to 0.04779, saving model to weights_base.best.h5\n",
      "63900/63900 [==============================] - 40s 620us/step - loss: 0.0484 - acc: 0.9818 - val_loss: 0.0478 - val_acc: 0.9818\n",
      "Epoch 3/5\n",
      "63808/63900 [============================>.] - ETA: 0s - loss: 0.0426 - acc: 0.9833Epoch 00003: val_loss improved from 0.04779 to 0.04671, saving model to weights_base.best.h5\n",
      "63900/63900 [==============================] - 40s 620us/step - loss: 0.0426 - acc: 0.9833 - val_loss: 0.0467 - val_acc: 0.9820\n",
      "Epoch 4/5\n",
      "63808/63900 [============================>.] - ETA: 0s - loss: 0.0379 - acc: 0.9850Epoch 00004: val_loss did not improve\n",
      "63900/63900 [==============================] - 39s 618us/step - loss: 0.0379 - acc: 0.9850 - val_loss: 0.0471 - val_acc: 0.9825\n",
      "Epoch 5/5\n",
      "63808/63900 [============================>.] - ETA: 0s - loss: 0.0338 - acc: 0.9864Epoch 00005: val_loss did not improve\n",
      "63900/63900 [==============================] - 40s 619us/step - loss: 0.0338 - acc: 0.9865 - val_loss: 0.0482 - val_acc: 0.9817\n",
      "Train on 63901 samples, validate on 31950 samples\n",
      "Epoch 1/5\n",
      "63808/63901 [============================>.] - ETA: 0s - loss: 0.0659 - acc: 0.9771Epoch 00001: val_loss improved from inf to 0.04981, saving model to weights_base.best.h5\n",
      "63901/63901 [==============================] - 40s 629us/step - loss: 0.0659 - acc: 0.9771 - val_loss: 0.0498 - val_acc: 0.9815\n",
      "Epoch 2/5\n",
      "63808/63901 [============================>.] - ETA: 0s - loss: 0.0489 - acc: 0.9815Epoch 00002: val_loss improved from 0.04981 to 0.04690, saving model to weights_base.best.h5\n",
      "63901/63901 [==============================] - 40s 622us/step - loss: 0.0489 - acc: 0.9815 - val_loss: 0.0469 - val_acc: 0.9823\n",
      "Epoch 3/5\n",
      "63808/63901 [============================>.] - ETA: 0s - loss: 0.0428 - acc: 0.9834Epoch 00003: val_loss improved from 0.04690 to 0.04672, saving model to weights_base.best.h5\n",
      "63901/63901 [==============================] - 40s 620us/step - loss: 0.0428 - acc: 0.9834 - val_loss: 0.0467 - val_acc: 0.9825\n",
      "Epoch 4/5\n",
      "63808/63901 [============================>.] - ETA: 0s - loss: 0.0383 - acc: 0.9847Epoch 00004: val_loss did not improve\n",
      "63901/63901 [==============================] - 39s 618us/step - loss: 0.0384 - acc: 0.9847 - val_loss: 0.0481 - val_acc: 0.9824\n",
      "Epoch 5/5\n",
      "63808/63901 [============================>.] - ETA: 0s - loss: 0.0342 - acc: 0.9863Epoch 00005: val_loss did not improve\n",
      "63901/63901 [==============================] - 40s 618us/step - loss: 0.0342 - acc: 0.9863 - val_loss: 0.0492 - val_acc: 0.9824\n",
      "Train on 63901 samples, validate on 31950 samples\n",
      "Epoch 1/5\n",
      "63808/63901 [============================>.] - ETA: 0s - loss: 0.0651 - acc: 0.9774Epoch 00001: val_loss improved from inf to 0.05167, saving model to weights_base.best.h5\n",
      "63901/63901 [==============================] - 40s 625us/step - loss: 0.0651 - acc: 0.9774 - val_loss: 0.0517 - val_acc: 0.9809\n",
      "Epoch 2/5\n",
      "63808/63901 [============================>.] - ETA: 0s - loss: 0.0485 - acc: 0.9817Epoch 00002: val_loss improved from 0.05167 to 0.04999, saving model to weights_base.best.h5\n",
      "63901/63901 [==============================] - 40s 621us/step - loss: 0.0485 - acc: 0.9817 - val_loss: 0.0500 - val_acc: 0.9811\n",
      "Epoch 3/5\n",
      "63808/63901 [============================>.] - ETA: 0s - loss: 0.0428 - acc: 0.9833Epoch 00003: val_loss improved from 0.04999 to 0.04868, saving model to weights_base.best.h5\n",
      "63901/63901 [==============================] - 40s 625us/step - loss: 0.0428 - acc: 0.9833 - val_loss: 0.0487 - val_acc: 0.9817\n",
      "Epoch 4/5\n",
      "63808/63901 [============================>.] - ETA: 0s - loss: 0.0380 - acc: 0.9851Epoch 00004: val_loss did not improve\n",
      "63901/63901 [==============================] - 40s 630us/step - loss: 0.0380 - acc: 0.9851 - val_loss: 0.0533 - val_acc: 0.9815\n",
      "Epoch 5/5\n",
      "63808/63901 [============================>.] - ETA: 0s - loss: 0.0344 - acc: 0.9862Epoch 00005: val_loss did not improve\n",
      "63901/63901 [==============================] - 40s 630us/step - loss: 0.0344 - acc: 0.9862 - val_loss: 0.0506 - val_acc: 0.9815\n",
      "-------------------------------\n",
      "0 0.102975612002 0.961440151902\n",
      "1 0.0236600585251 0.990328739398\n",
      "2 0.0525321379027 0.979875014345\n",
      "3 0.013329367127 0.996901440778\n",
      "4 0.0674973445573 0.97165392119\n",
      "5 0.0242393964967 0.992258818374\n",
      "final 0.0473723194351 0.982076347665\n",
      "all eval None\n",
      "(95851, 6) (226998, 6)\n",
      "done\n"
     ]
    }
   ],
   "source": [
    "from sklearn.model_selection import KFold\n",
    "def kf_train(fold_cnt=3,rnd=1):\n",
    "    kf = KFold(n_splits=fold_cnt, shuffle=False, random_state=233*rnd)\n",
    "    train_pred, test_pred = np.zeros((95851,6)),np.zeros((226998,6))\n",
    "    for train_index, test_index in kf.split(X_train):\n",
    "        # x,y\n",
    "        curr_x,curr_y = X_train[train_index],y[train_index]\n",
    "        hold_out_x,hold_out_y = X_train[test_index],y[test_index]\n",
    "        \n",
    "        # model\n",
    "        model = get_cnn_model()\n",
    "        batch_size = 64\n",
    "        epochs = 5\n",
    "        file_path=\"weights_base.best.h5\"\n",
    "        checkpoint = ModelCheckpoint(file_path, monitor='val_loss', verbose=1, save_best_only=True, mode='min')\n",
    "        callbacks_list = [checkpoint] \n",
    "        \n",
    "        # train and pred\n",
    "        model.fit(curr_x, curr_y, batch_size=batch_size, epochs=epochs, \n",
    "                  validation_data=(hold_out_x,hold_out_y), callbacks=callbacks_list)\n",
    "        model = load_model(file_path)\n",
    "        y_test = model.predict(X_test)\n",
    "        test_pred += y_test\n",
    "        hold_out_pred = model.predict(hold_out_x)\n",
    "        train_pred[test_index] = hold_out_pred\n",
    "    test_pred = test_pred / fold_cnt\n",
    "    print('-------------------------------')\n",
    "    print('all eval',eval_val(y,train_pred))\n",
    "    return train_pred, test_pred\n",
    "\n",
    "\n",
    "train_pred,test_pred = kf_train()\n",
    "print(train_pred.shape,test_pred.shape)\n",
    "sample_submission = pd.read_csv(\"../input/sample_submission.csv\")\n",
    "sample_submission[list_classes] = test_pred\n",
    "sample_submission.to_csv(\"../results/cnn_glove_2_csv.gz\", index=False, compression='gzip')\n",
    "import pickle\n",
    "with open('../features/cnn_glove_2_feat.pkl','wb') as fout:\n",
    "    pickle.dump([train_pred,test_pred],fout)\n",
    "print('done')\n",
    "\n",
    "# muse best local cv 0.470"
   ]
  },
  {
   "cell_type": "code",
   "execution_count": 10,
   "metadata": {
    "collapsed": false
   },
   "outputs": [
    {
     "data": {
      "text/plain": [
       "array([[ 0.561,  0.   ,  0.045,  0.   ,  0.219,  0.   ],\n",
       "       [ 0.   ,  0.   ,  0.   ,  0.   ,  0.   ,  0.   ],\n",
       "       [ 0.   ,  0.   ,  0.   ,  0.   ,  0.   ,  0.   ],\n",
       "       [ 0.011,  0.   ,  0.   ,  0.   ,  0.001,  0.   ],\n",
       "       [ 0.   ,  0.   ,  0.   ,  0.   ,  0.   ,  0.   ],\n",
       "       [ 0.512,  0.002,  0.073,  0.002,  0.184,  0.005],\n",
       "       [ 0.002,  0.   ,  0.   ,  0.   ,  0.   ,  0.   ],\n",
       "       [ 0.193,  0.001,  0.028,  0.01 ,  0.065,  0.004],\n",
       "       [ 0.004,  0.   ,  0.   ,  0.   ,  0.001,  0.   ],\n",
       "       [ 0.   ,  0.   ,  0.   ,  0.   ,  0.   ,  0.   ]])"
      ]
     },
     "execution_count": 10,
     "metadata": {},
     "output_type": "execute_result"
    }
   ],
   "source": [
    "train_pred[:10].round(3)"
   ]
  },
  {
   "cell_type": "code",
   "execution_count": 11,
   "metadata": {
    "collapsed": false
   },
   "outputs": [
    {
     "data": {
      "text/plain": [
       "array([[1, 0, 0, 0, 0, 0],\n",
       "       [0, 0, 0, 0, 0, 0],\n",
       "       [0, 0, 0, 0, 0, 0],\n",
       "       [0, 0, 0, 0, 0, 0],\n",
       "       [0, 0, 0, 0, 0, 0],\n",
       "       [0, 0, 0, 0, 0, 0],\n",
       "       [0, 0, 0, 0, 0, 0],\n",
       "       [0, 0, 0, 0, 0, 0],\n",
       "       [0, 0, 0, 0, 0, 0],\n",
       "       [0, 0, 0, 0, 0, 0]])"
      ]
     },
     "execution_count": 11,
     "metadata": {},
     "output_type": "execute_result"
    }
   ],
   "source": [
    "y[:10]"
   ]
  }
 ],
 "metadata": {
  "kernelspec": {
   "display_name": "Python 3",
   "language": "python",
   "name": "python3"
  },
  "language_info": {
   "codemirror_mode": {
    "name": "ipython",
    "version": 3
   },
   "file_extension": ".py",
   "mimetype": "text/x-python",
   "name": "python",
   "nbconvert_exporter": "python",
   "pygments_lexer": "ipython3",
   "version": "3.5.2"
  }
 },
 "nbformat": 4,
 "nbformat_minor": 2
}
