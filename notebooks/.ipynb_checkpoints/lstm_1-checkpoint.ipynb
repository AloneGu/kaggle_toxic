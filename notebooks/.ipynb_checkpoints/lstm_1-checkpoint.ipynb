{
 "cells": [
  {
   "cell_type": "code",
   "execution_count": 1,
   "metadata": {},
   "outputs": [
    {
     "name": "stderr",
     "output_type": "stream",
     "text": [
      "Using TensorFlow backend.\n"
     ]
    },
    {
     "name": "stdout",
     "output_type": "stream",
     "text": [
      "(95851, 6)\n"
     ]
    }
   ],
   "source": [
    "import numpy as np # linear algebra\n",
    "import pandas as pd # data processing, CSV file I/O (e.g. pd.read_csv)\n",
    "\n",
    "from keras.models import Model\n",
    "from keras.layers import Dense, Embedding, Input\n",
    "from keras.layers import LSTM, Bidirectional, GlobalMaxPool1D, Dropout\n",
    "from keras.preprocessing import text, sequence\n",
    "from keras.callbacks import EarlyStopping, ModelCheckpoint\n",
    "\n",
    "max_features = 20000\n",
    "maxlen = 100\n",
    "\n",
    "\n",
    "train = pd.read_csv(\"../input/train.csv\")\n",
    "test = pd.read_csv(\"../input/test.csv\")\n",
    "train = train.sample(frac=1)\n",
    "\n",
    "list_sentences_train = train[\"comment_text\"].fillna(\"CVxTz\").values\n",
    "list_classes = [\"toxic\", \"severe_toxic\", \"obscene\", \"threat\", \"insult\", \"identity_hate\"]\n",
    "y = train[list_classes].values\n",
    "list_sentences_test = test[\"comment_text\"].fillna(\"CVxTz\").values\n",
    "print(y.shape)"
   ]
  },
  {
   "cell_type": "code",
   "execution_count": 2,
   "metadata": {},
   "outputs": [
    {
     "name": "stdout",
     "output_type": "stream",
     "text": [
      "test len 226998\n"
     ]
    }
   ],
   "source": [
    "print('test len',len(test))"
   ]
  },
  {
   "cell_type": "code",
   "execution_count": 3,
   "metadata": {},
   "outputs": [
    {
     "name": "stdout",
     "output_type": "stream",
     "text": [
      "(95851, 100) (226998, 100)\n",
      "def model done\n"
     ]
    }
   ],
   "source": [
    "tokenizer = text.Tokenizer(num_words=max_features)\n",
    "tokenizer.fit_on_texts(list(list_sentences_train))\n",
    "list_tokenized_train = tokenizer.texts_to_sequences(list_sentences_train)\n",
    "list_tokenized_test = tokenizer.texts_to_sequences(list_sentences_test)\n",
    "X_train = sequence.pad_sequences(list_tokenized_train, maxlen=maxlen)\n",
    "X_test = sequence.pad_sequences(list_tokenized_test, maxlen=maxlen)\n",
    "\n",
    "print(X_train.shape,X_test.shape)\n",
    "\n",
    "def get_lstm_model():\n",
    "    embed_size = 128\n",
    "    inp = Input(shape=(maxlen, ))\n",
    "    x = Embedding(max_features, embed_size)(inp)\n",
    "    x = Bidirectional(LSTM(64, return_sequences=True))(x)\n",
    "    x = GlobalMaxPool1D()(x)\n",
    "    x = Dropout(0.1)(x)\n",
    "    x = Dense(64, activation=\"relu\")(x)\n",
    "    x = Dropout(0.1)(x)\n",
    "    x = Dense(6, activation=\"sigmoid\")(x)\n",
    "    model = Model(inputs=inp, outputs=x)\n",
    "    model.compile(loss='binary_crossentropy',\n",
    "                  optimizer='adam',\n",
    "                  metrics=['accuracy'])\n",
    "\n",
    "    return model\n",
    "print('def model done')"
   ]
  },
  {
   "cell_type": "code",
   "execution_count": 4,
   "metadata": {},
   "outputs": [
    {
     "name": "stdout",
     "output_type": "stream",
     "text": [
      "Train on 63900 samples, validate on 31951 samples\n",
      "Epoch 1/4\n",
      "63872/63900 [============================>.] - ETA: 0s - loss: 0.1157 - acc: 0.9690Epoch 00001: val_loss improved from inf to 0.05264, saving model to weights_base.best.h5\n",
      "63900/63900 [==============================] - 116s 2ms/step - loss: 0.1157 - acc: 0.9690 - val_loss: 0.0526 - val_acc: 0.9814\n",
      "Epoch 2/4\n",
      "63872/63900 [============================>.] - ETA: 0s - loss: 0.0524 - acc: 0.9810- ETA:Epoch 00002: val_loss improved from 0.05264 to 0.05022, saving model to weights_base.best.h5\n",
      "63900/63900 [==============================] - 113s 2ms/step - loss: 0.0524 - acc: 0.9810 - val_loss: 0.0502 - val_acc: 0.9818\n",
      "Epoch 3/4\n",
      "63872/63900 [============================>.] - ETA: 0s - loss: 0.0451 - acc: 0.9831- EEpoch 00003: val_loss did not improve\n",
      "63900/63900 [==============================] - 112s 2ms/step - loss: 0.0451 - acc: 0.9831 - val_loss: 0.0525 - val_acc: 0.9818\n",
      "Epoch 4/4\n",
      "63872/63900 [============================>.] - ETA: 0s - loss: 0.0402 - acc: 0.9847Epoch 00004: val_loss did not improve\n",
      "63900/63900 [==============================] - 112s 2ms/step - loss: 0.0402 - acc: 0.9847 - val_loss: 0.0549 - val_acc: 0.9816\n",
      "Train on 63901 samples, validate on 31950 samples\n",
      "Epoch 1/4\n",
      "63872/63901 [============================>.] - ETA: 0s - loss: 0.1188 - acc: 0.9641Epoch 00001: val_loss improved from inf to 0.05945, saving model to weights_base.best.h5\n",
      "63901/63901 [==============================] - 117s 2ms/step - loss: 0.1188 - acc: 0.9641 - val_loss: 0.0595 - val_acc: 0.9797\n",
      "Epoch 2/4\n",
      "63872/63901 [============================>.] - ETA: 0s - loss: 0.0522 - acc: 0.9815Epoch 00002: val_loss improved from 0.05945 to 0.05173, saving model to weights_base.best.h5\n",
      "63901/63901 [==============================] - 116s 2ms/step - loss: 0.0522 - acc: 0.9815 - val_loss: 0.0517 - val_acc: 0.9813\n",
      "Epoch 3/4\n",
      "63872/63901 [============================>.] - ETA: 0s - loss: 0.0440 - acc: 0.9835- ETA: 1s - loss: 0.0440 - accEpoch 00003: val_loss did not improve\n",
      "63901/63901 [==============================] - 115s 2ms/step - loss: 0.0440 - acc: 0.9835 - val_loss: 0.0519 - val_acc: 0.9811\n",
      "Epoch 4/4\n",
      "63872/63901 [============================>.] - ETA: 0s - loss: 0.0394 - acc: 0.9851- ETA: 5s - Epoch 00004: val_loss did not improve\n",
      "63901/63901 [==============================] - 114s 2ms/step - loss: 0.0394 - acc: 0.9851 - val_loss: 0.0582 - val_acc: 0.9809\n",
      "Train on 63901 samples, validate on 31950 samples\n",
      "Epoch 1/4\n",
      "63872/63901 [============================>.] - ETA: 0s - loss: 0.1136 - acc: 0.9688Epoch 00001: val_loss improved from inf to 0.05733, saving model to weights_base.best.h5\n",
      "63901/63901 [==============================] - 114s 2ms/step - loss: 0.1136 - acc: 0.9688 - val_loss: 0.0573 - val_acc: 0.9799\n",
      "Epoch 2/4\n",
      "63872/63901 [============================>.] - ETA: 0s - loss: 0.0510 - acc: 0.9815Epoch 00002: val_loss improved from 0.05733 to 0.05376, saving model to weights_base.best.h5\n",
      "63901/63901 [==============================] - 114s 2ms/step - loss: 0.0510 - acc: 0.9815 - val_loss: 0.0538 - val_acc: 0.9813\n",
      "Epoch 3/4\n",
      "63872/63901 [============================>.] - ETA: 0s - loss: 0.0439 - acc: 0.9835- ETA: 0s - loss: 0.0440 - acc: 0.Epoch 00003: val_loss did not improve\n",
      "63901/63901 [==============================] - 112s 2ms/step - loss: 0.0439 - acc: 0.9835 - val_loss: 0.0543 - val_acc: 0.9808\n",
      "Epoch 4/4\n",
      "63872/63901 [============================>.] - ETA: 0s - loss: 0.0393 - acc: 0.9850- ETA: 3s - loss: 0.0Epoch 00004: val_loss did not improve\n",
      "63901/63901 [==============================] - 113s 2ms/step - loss: 0.0393 - acc: 0.9850 - val_loss: 0.0580 - val_acc: 0.9811\n",
      "(95851, 6) (226998, 6)\n"
     ]
    }
   ],
   "source": [
    "from sklearn.model_selection import KFold\n",
    "def kf_train(fold_cnt=3,rnd=1):\n",
    "    kf = KFold(n_splits=fold_cnt, shuffle=True, random_state=233*rnd)\n",
    "    train_pred, test_pred = np.zeros((95851,6)),np.zeros((226998,6))\n",
    "    for train_index, test_index in kf.split(X_train):\n",
    "        # x,y\n",
    "        curr_x,curr_y = X_train[train_index],y[train_index]\n",
    "        hold_out_x,hold_out_y = X_train[test_index],y[test_index]\n",
    "        \n",
    "        # model\n",
    "        model = get_lstm_model()\n",
    "        batch_size = 128\n",
    "        epochs = 4\n",
    "        file_path=\"weights_base.best.h5\"\n",
    "        checkpoint = ModelCheckpoint(file_path, monitor='val_loss', verbose=1, save_weights_only=True,\n",
    "                                     save_best_only=True, mode='min')\n",
    "        callbacks_list = [checkpoint] \n",
    "        \n",
    "        # train and pred\n",
    "        model.fit(curr_x, curr_y, batch_size=batch_size, epochs=epochs, \n",
    "                  validation_data=(hold_out_x,hold_out_y), callbacks=callbacks_list)\n",
    "        model.load_weights(file_path)\n",
    "        y_test = model.predict(X_test)\n",
    "        test_pred += y_test\n",
    "        train_pred[test_index] = model.predict(hold_out_x)\n",
    "    test_pred = test_pred / fold_cnt\n",
    "    return train_pred, test_pred\n",
    "\n",
    "\n",
    "train_pred,test_pred = kf_train()\n",
    "print(train_pred.shape,test_pred.shape)"
   ]
  },
  {
   "cell_type": "code",
   "execution_count": 6,
   "metadata": {},
   "outputs": [],
   "source": [
    "sample_submission = pd.read_csv(\"../input/sample_submission.csv\")\n",
    "sample_submission[list_classes] = test_pred\n",
    "sample_submission.to_csv(\"../results/lstm_1_csv.gz\", index=False, compression='gzip')\n",
    "import pickle\n",
    "with open('../features/lstm_1_feat.pkl','wb') as fout:\n",
    "    pickle.dump([train_pred,test_pred],fout)\n",
    "print('done')"
   ]
  }
 ],
 "metadata": {
  "kernelspec": {
   "display_name": "Python 3",
   "language": "python",
   "name": "python3"
  },
  "language_info": {
   "codemirror_mode": {
    "name": "ipython",
    "version": 3
   },
   "file_extension": ".py",
   "mimetype": "text/x-python",
   "name": "python",
   "nbconvert_exporter": "python",
   "pygments_lexer": "ipython3",
   "version": "3.5.2"
  }
 },
 "nbformat": 4,
 "nbformat_minor": 2
}
