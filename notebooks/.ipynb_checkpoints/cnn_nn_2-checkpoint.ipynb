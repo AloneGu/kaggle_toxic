{
 "cells": [
  {
   "cell_type": "code",
   "execution_count": 2,
   "metadata": {},
   "outputs": [
    {
     "name": "stdout",
     "output_type": "stream",
     "text": [
      "WP:ENGVAR \n",
      "\n",
      "Why isn't this article written in BrEng?\n",
      "wp:engvar--\n",
      "\n",
      "why \n",
      "\n",
      "why--isn't isn't--this this--article article--written written--in in--breng?\n",
      "(95851, 6)\n"
     ]
    }
   ],
   "source": [
    "import numpy as np # linear algebra\n",
    "import pandas as pd # data processing, CSV file I/O (e.g. pd.read_csv)\n",
    "\n",
    "from keras.models import Model\n",
    "from keras.layers import Dense, Embedding, Input\n",
    "from keras.layers import LSTM, Bidirectional, GlobalMaxPool1D, Dropout,GlobalAveragePooling1D,Conv1D\n",
    "from keras.preprocessing import text, sequence\n",
    "from keras.callbacks import EarlyStopping, ModelCheckpoint\n",
    "\n",
    "max_features = 20000\n",
    "maxlen = 100\n",
    "\n",
    "\n",
    "train = pd.read_csv(\"../input/train.csv\")\n",
    "test = pd.read_csv(\"../input/test.csv\")\n",
    "train = train.sample(frac=1)\n",
    "\n",
    "def trans_text(s):\n",
    "    s = s.replace(\"' \", \" ' \")\n",
    "    p = ['. ', '; ', '\" ', '! ', '? ', ', ',': ']\n",
    "    for tmp_p in p:\n",
    "        s=s.replace(tmp_p,' {}'.format(tmp_p))\n",
    "    s = s.lower()\n",
    "    words = s.split(' ')\n",
    "    word_cnt = len(words)\n",
    "    new_words = []\n",
    "    for i in range(word_cnt-1):\n",
    "        new_words.append('{}--{}'.format(words[i],words[i+1]))\n",
    "    return ' '.join(new_words)\n",
    "\n",
    "print(train[\"comment_text\"].values[0])\n",
    "list_sentences_train = train[\"comment_text\"].fillna(\"CVxTz\").apply(trans_text).values\n",
    "list_classes = [\"toxic\", \"severe_toxic\", \"obscene\", \"threat\", \"insult\", \"identity_hate\"]\n",
    "y = train[list_classes].values\n",
    "list_sentences_test = test[\"comment_text\"].fillna(\"CVxTz\").apply(trans_text).values\n",
    "print(list_sentences_train[0])\n",
    "print(y.shape)"
   ]
  },
  {
   "cell_type": "code",
   "execution_count": 3,
   "metadata": {},
   "outputs": [
    {
     "name": "stdout",
     "output_type": "stream",
     "text": [
      "test len 226998\n"
     ]
    }
   ],
   "source": [
    "print('test len',len(test))"
   ]
  },
  {
   "cell_type": "code",
   "execution_count": 4,
   "metadata": {},
   "outputs": [
    {
     "name": "stdout",
     "output_type": "stream",
     "text": [
      "(95851, 100) (226998, 100)\n"
     ]
    }
   ],
   "source": [
    "tokenizer = text.Tokenizer(num_words=max_features)\n",
    "tokenizer.fit_on_texts(list(list_sentences_train))\n",
    "list_tokenized_train = tokenizer.texts_to_sequences(list_sentences_train)\n",
    "list_tokenized_test = tokenizer.texts_to_sequences(list_sentences_test)\n",
    "X_train = sequence.pad_sequences(list_tokenized_train, maxlen=maxlen)\n",
    "X_test = sequence.pad_sequences(list_tokenized_test, maxlen=maxlen)\n",
    "\n",
    "print(X_train.shape,X_test.shape)"
   ]
  },
  {
   "cell_type": "code",
   "execution_count": 5,
   "metadata": {},
   "outputs": [
    {
     "name": "stdout",
     "output_type": "stream",
     "text": [
      "def model done\n"
     ]
    }
   ],
   "source": [
    "def get_cnn_model():\n",
    "    embed_size = 128\n",
    "    inp = Input(shape=(maxlen, ))\n",
    "    x = Embedding(max_features, embed_size)(inp)\n",
    "    x = Conv1D(64,\n",
    "             3,\n",
    "             padding='valid',\n",
    "             activation='relu',\n",
    "             strides=1)(x)\n",
    "    x = GlobalMaxPool1D()(x)\n",
    "    x = Dropout(0.1)(x)\n",
    "    x = Dense(32, activation=\"relu\")(x)\n",
    "    x = Dropout(0.1)(x)\n",
    "    x = Dense(6, activation=\"sigmoid\")(x)\n",
    "    model = Model(inputs=inp, outputs=x)\n",
    "    model.compile(loss='binary_crossentropy',\n",
    "                  optimizer='adam',\n",
    "                  metrics=['accuracy'])\n",
    "\n",
    "    return model\n",
    "print('def model done')"
   ]
  },
  {
   "cell_type": "code",
   "execution_count": 6,
   "metadata": {
    "scrolled": true
   },
   "outputs": [
    {
     "name": "stdout",
     "output_type": "stream",
     "text": [
      "Train on 63900 samples, validate on 31951 samples\n",
      "Epoch 1/10\n",
      "63808/63900 [============================>.] - ETA: 0s - loss: 0.0964 - acc: 0.9694Epoch 00001: val_loss improved from inf to 0.05643, saving model to weights_base.best.h5\n",
      "63900/63900 [==============================] - 11s 167us/step - loss: 0.0964 - acc: 0.9694 - val_loss: 0.0564 - val_acc: 0.9806\n",
      "Epoch 2/10\n",
      "63552/63900 [============================>.] - ETA: 0s - loss: 0.0544 - acc: 0.9807Epoch 00002: val_loss improved from 0.05643 to 0.05402, saving model to weights_base.best.h5\n",
      "63900/63900 [==============================] - 9s 142us/step - loss: 0.0544 - acc: 0.9807 - val_loss: 0.0540 - val_acc: 0.9811\n",
      "Epoch 3/10\n",
      "63552/63900 [============================>.] - ETA: 0s - loss: 0.0454 - acc: 0.9828Epoch 00003: val_loss did not improve\n",
      "63900/63900 [==============================] - 9s 142us/step - loss: 0.0454 - acc: 0.9828 - val_loss: 0.0543 - val_acc: 0.9814\n",
      "Epoch 4/10\n",
      "63808/63900 [============================>.] - ETA: 0s - loss: 0.0380 - acc: 0.9853Epoch 00004: val_loss did not improve\n",
      "63900/63900 [==============================] - 9s 143us/step - loss: 0.0380 - acc: 0.9853 - val_loss: 0.0593 - val_acc: 0.9811\n",
      "Epoch 5/10\n",
      "63616/63900 [============================>.] - ETA: 0s - loss: 0.0325 - acc: 0.9870Epoch 00005: val_loss did not improve\n",
      "63900/63900 [==============================] - 9s 144us/step - loss: 0.0325 - acc: 0.9870 - val_loss: 0.0641 - val_acc: 0.9802\n",
      "Epoch 6/10\n",
      "63616/63900 [============================>.] - ETA: 0s - loss: 0.0278 - acc: 0.9889Epoch 00006: val_loss did not improve\n",
      "63900/63900 [==============================] - 9s 144us/step - loss: 0.0278 - acc: 0.9889 - val_loss: 0.0716 - val_acc: 0.9803\n",
      "Epoch 7/10\n",
      "63808/63900 [============================>.] - ETA: 0s - loss: 0.0241 - acc: 0.9903Epoch 00007: val_loss did not improve\n",
      "63900/63900 [==============================] - 9s 143us/step - loss: 0.0241 - acc: 0.9903 - val_loss: 0.0787 - val_acc: 0.9799\n",
      "Epoch 8/10\n",
      "63872/63900 [============================>.] - ETA: 0s - loss: 0.0208 - acc: 0.9917Epoch 00008: val_loss did not improve\n",
      "63900/63900 [==============================] - 9s 144us/step - loss: 0.0208 - acc: 0.9917 - val_loss: 0.0856 - val_acc: 0.9791\n",
      "Epoch 9/10\n",
      "63872/63900 [============================>.] - ETA: 0s - loss: 0.0182 - acc: 0.9928Epoch 00009: val_loss did not improve\n",
      "63900/63900 [==============================] - 9s 144us/step - loss: 0.0182 - acc: 0.9928 - val_loss: 0.0896 - val_acc: 0.9791\n",
      "Epoch 10/10\n",
      "63552/63900 [============================>.] - ETA: 0s - loss: 0.0157 - acc: 0.9938Epoch 00010: val_loss did not improve\n",
      "63900/63900 [==============================] - 9s 145us/step - loss: 0.0157 - acc: 0.9938 - val_loss: 0.1019 - val_acc: 0.9791\n",
      "Train on 63901 samples, validate on 31950 samples\n",
      "Epoch 1/10\n",
      "63808/63901 [============================>.] - ETA: 0s - loss: 0.0953 - acc: 0.9717Epoch 00001: val_loss improved from inf to 0.05897, saving model to weights_base.best.h5\n",
      "63901/63901 [==============================] - 10s 154us/step - loss: 0.0952 - acc: 0.9717 - val_loss: 0.0590 - val_acc: 0.9798\n",
      "Epoch 2/10\n",
      "63808/63901 [============================>.] - ETA: 0s - loss: 0.0532 - acc: 0.9811Epoch 00002: val_loss improved from 0.05897 to 0.05700, saving model to weights_base.best.h5\n",
      "63901/63901 [==============================] - 9s 145us/step - loss: 0.0532 - acc: 0.9811 - val_loss: 0.0570 - val_acc: 0.9805\n",
      "Epoch 3/10\n",
      "63808/63901 [============================>.] - ETA: 0s - loss: 0.0456 - acc: 0.9831Epoch 00003: val_loss did not improve\n",
      "63901/63901 [==============================] - 9s 144us/step - loss: 0.0456 - acc: 0.9831 - val_loss: 0.0592 - val_acc: 0.9801\n",
      "Epoch 4/10\n",
      "63616/63901 [============================>.] - ETA: 0s - loss: 0.0389 - acc: 0.9848Epoch 00004: val_loss did not improve\n",
      "63901/63901 [==============================] - 9s 145us/step - loss: 0.0388 - acc: 0.9848 - val_loss: 0.0618 - val_acc: 0.9791\n",
      "Epoch 5/10\n",
      "63744/63901 [============================>.] - ETA: 0s - loss: 0.0333 - acc: 0.9870Epoch 00005: val_loss did not improve\n",
      "63901/63901 [==============================] - 9s 148us/step - loss: 0.0333 - acc: 0.9870 - val_loss: 0.0658 - val_acc: 0.9792\n",
      "Epoch 6/10\n",
      "63680/63901 [============================>.] - ETA: 0s - loss: 0.0284 - acc: 0.9885Epoch 00006: val_loss did not improve\n",
      "63901/63901 [==============================] - 9s 143us/step - loss: 0.0284 - acc: 0.9885 - val_loss: 0.0719 - val_acc: 0.9787\n",
      "Epoch 7/10\n",
      "63552/63901 [============================>.] - ETA: 0s - loss: 0.0244 - acc: 0.9902Epoch 00007: val_loss did not improve\n",
      "63901/63901 [==============================] - 9s 142us/step - loss: 0.0244 - acc: 0.9902 - val_loss: 0.0858 - val_acc: 0.9786\n",
      "Epoch 8/10\n",
      "63808/63901 [============================>.] - ETA: 0s - loss: 0.0214 - acc: 0.9915Epoch 00008: val_loss did not improve\n",
      "63901/63901 [==============================] - 9s 142us/step - loss: 0.0214 - acc: 0.9915 - val_loss: 0.0906 - val_acc: 0.9782\n",
      "Epoch 9/10\n",
      "63552/63901 [============================>.] - ETA: 0s - loss: 0.0185 - acc: 0.9927Epoch 00009: val_loss did not improve\n",
      "63901/63901 [==============================] - 10s 150us/step - loss: 0.0185 - acc: 0.9926 - val_loss: 0.1018 - val_acc: 0.9781\n",
      "Epoch 10/10\n",
      "63744/63901 [============================>.] - ETA: 0s - loss: 0.0163 - acc: 0.9936Epoch 00010: val_loss did not improve\n",
      "63901/63901 [==============================] - 9s 148us/step - loss: 0.0163 - acc: 0.9936 - val_loss: 0.1002 - val_acc: 0.9761\n",
      "Train on 63901 samples, validate on 31950 samples\n",
      "Epoch 1/10\n",
      "63552/63901 [============================>.] - ETA: 0s - loss: 0.0971 - acc: 0.9714Epoch 00001: val_loss improved from inf to 0.05895, saving model to weights_base.best.h5\n",
      "63901/63901 [==============================] - 10s 151us/step - loss: 0.0969 - acc: 0.9715 - val_loss: 0.0589 - val_acc: 0.9800\n",
      "Epoch 2/10\n",
      "63808/63901 [============================>.] - ETA: 0s - loss: 0.0539 - acc: 0.9809Epoch 00002: val_loss improved from 0.05895 to 0.05597, saving model to weights_base.best.h5\n",
      "63901/63901 [==============================] - 9s 145us/step - loss: 0.0539 - acc: 0.9809 - val_loss: 0.0560 - val_acc: 0.9806\n",
      "Epoch 3/10\n",
      "63872/63901 [============================>.] - ETA: 0s - loss: 0.0453 - acc: 0.9830Epoch 00003: val_loss did not improve\n",
      "63901/63901 [==============================] - 9s 144us/step - loss: 0.0454 - acc: 0.9830 - val_loss: 0.0591 - val_acc: 0.9800\n",
      "Epoch 4/10\n",
      "63808/63901 [============================>.] - ETA: 0s - loss: 0.0384 - acc: 0.9851Epoch 00004: val_loss did not improve\n",
      "63901/63901 [==============================] - 9s 145us/step - loss: 0.0384 - acc: 0.9851 - val_loss: 0.0606 - val_acc: 0.9804\n",
      "Epoch 5/10\n",
      "63808/63901 [============================>.] - ETA: 0s - loss: 0.0333 - acc: 0.9869Epoch 00005: val_loss did not improve\n",
      "63901/63901 [==============================] - 9s 144us/step - loss: 0.0333 - acc: 0.9869 - val_loss: 0.0656 - val_acc: 0.9794\n",
      "Epoch 6/10\n",
      "63808/63901 [============================>.] - ETA: 0s - loss: 0.0289 - acc: 0.9888Epoch 00006: val_loss did not improve\n",
      "63901/63901 [==============================] - 9s 144us/step - loss: 0.0289 - acc: 0.9888 - val_loss: 0.0703 - val_acc: 0.9777\n",
      "Epoch 7/10\n",
      "63808/63901 [============================>.] - ETA: 0s - loss: 0.0251 - acc: 0.9902Epoch 00007: val_loss did not improve\n",
      "63901/63901 [==============================] - 9s 144us/step - loss: 0.0252 - acc: 0.9902 - val_loss: 0.0786 - val_acc: 0.9784\n",
      "Epoch 8/10\n",
      "63808/63901 [============================>.] - ETA: 0s - loss: 0.0218 - acc: 0.9915Epoch 00008: val_loss did not improve\n",
      "63901/63901 [==============================] - 9s 145us/step - loss: 0.0218 - acc: 0.9915 - val_loss: 0.0867 - val_acc: 0.9785\n",
      "Epoch 9/10\n",
      "63808/63901 [============================>.] - ETA: 0s - loss: 0.0182 - acc: 0.9928Epoch 00009: val_loss did not improve\n",
      "63901/63901 [==============================] - 9s 144us/step - loss: 0.0182 - acc: 0.9928 - val_loss: 0.0915 - val_acc: 0.9775\n",
      "Epoch 10/10\n",
      "63808/63901 [============================>.] - ETA: 0s - loss: 0.0166 - acc: 0.9935Epoch 00010: val_loss did not improve\n",
      "63901/63901 [==============================] - 9s 144us/step - loss: 0.0166 - acc: 0.9935 - val_loss: 0.0967 - val_acc: 0.9769\n"
     ]
    },
    {
     "name": "stdout",
     "output_type": "stream",
     "text": [
      "(95851, 6) (226998, 6)\n",
      "done\n"
     ]
    }
   ],
   "source": [
    "from sklearn.model_selection import KFold\n",
    "def kf_train(fold_cnt=3,rnd=1):\n",
    "    kf = KFold(n_splits=fold_cnt, shuffle=True, random_state=233*rnd)\n",
    "    train_pred, test_pred = np.zeros((95851,6)),np.zeros((226998,6))\n",
    "    for train_index, test_index in kf.split(X_train):\n",
    "        # x,y\n",
    "        curr_x,curr_y = X_train[train_index],y[train_index]\n",
    "        hold_out_x,hold_out_y = X_train[test_index],y[test_index]\n",
    "        \n",
    "        # model\n",
    "        model = get_cnn_model()\n",
    "        batch_size = 64\n",
    "        epochs = 6\n",
    "        file_path=\"weights_base.best.h5\"\n",
    "        checkpoint = ModelCheckpoint(file_path, monitor='val_loss', verbose=1, save_weights_only=True,\n",
    "                                     save_best_only=True, mode='min')\n",
    "        callbacks_list = [checkpoint] \n",
    "        \n",
    "        # train and pred\n",
    "        model.fit(curr_x, curr_y, batch_size=batch_size, epochs=epochs, \n",
    "                  validation_data=(hold_out_x,hold_out_y), callbacks=callbacks_list)\n",
    "        model.load_weights(file_path)\n",
    "        y_test = model.predict(X_test)\n",
    "        test_pred += y_test\n",
    "        train_pred[test_index] = model.predict(hold_out_x)\n",
    "    test_pred = test_pred / fold_cnt\n",
    "    return train_pred, test_pred\n",
    "\n",
    "\n",
    "train_pred,test_pred = kf_train()\n",
    "print(train_pred.shape,test_pred.shape)\n",
    "sample_submission = pd.read_csv(\"../input/sample_submission.csv\")\n",
    "sample_submission[list_classes] = test_pred\n",
    "sample_submission.to_csv(\"../results/cnn_2_csv.gz\", index=False, compression='gzip')\n",
    "import pickle\n",
    "with open('../features/cnn_2_feat.pkl','wb') as fout:\n",
    "    pickle.dump([train_pred,test_pred],fout)\n",
    "print('done')"
   ]
  },
  {
   "cell_type": "code",
   "execution_count": 7,
   "metadata": {},
   "outputs": [
    {
     "name": "stdout",
     "output_type": "stream",
     "text": [
      "def model done\n"
     ]
    }
   ],
   "source": [
    "def get_nn_model():\n",
    "    embed_size = 128\n",
    "    inp = Input(shape=(maxlen, ))\n",
    "    x = Embedding(max_features, embed_size)(inp)\n",
    "    x = GlobalMaxPool1D()(x)\n",
    "    x = Dropout(0.1)(x)\n",
    "    x = Dense(64, activation=\"relu\")(x)\n",
    "    x = Dropout(0.1)(x)\n",
    "    x = Dense(6, activation=\"sigmoid\")(x)\n",
    "    model = Model(inputs=inp, outputs=x)\n",
    "    model.compile(loss='binary_crossentropy',\n",
    "                  optimizer='adam',\n",
    "                  metrics=['accuracy'])\n",
    "\n",
    "    return model\n",
    "print('def model done')"
   ]
  },
  {
   "cell_type": "code",
   "execution_count": 9,
   "metadata": {},
   "outputs": [
    {
     "name": "stdout",
     "output_type": "stream",
     "text": [
      "Train on 63900 samples, validate on 31951 samples\n",
      "Epoch 1/8\n",
      "63808/63900 [============================>.] - ETA: 0s - loss: 0.1384 - acc: 0.9607Epoch 00001: val_loss improved from inf to 0.09234, saving model to weights_base.best.h5\n",
      "63900/63900 [==============================] - 8s 125us/step - loss: 0.1383 - acc: 0.9607 - val_loss: 0.0923 - val_acc: 0.9692\n",
      "Epoch 2/8\n",
      "63680/63900 [============================>.] - ETA: 0s - loss: 0.0673 - acc: 0.9775Epoch 00002: val_loss improved from 0.09234 to 0.05598, saving model to weights_base.best.h5\n",
      "63900/63900 [==============================] - 8s 121us/step - loss: 0.0672 - acc: 0.9775 - val_loss: 0.0560 - val_acc: 0.9808\n",
      "Epoch 3/8\n",
      "63680/63900 [============================>.] - ETA: 0s - loss: 0.0515 - acc: 0.9815Epoch 00003: val_loss improved from 0.05598 to 0.05358, saving model to weights_base.best.h5\n",
      "63900/63900 [==============================] - 8s 122us/step - loss: 0.0515 - acc: 0.9815 - val_loss: 0.0536 - val_acc: 0.9815\n",
      "Epoch 4/8\n",
      "63488/63900 [============================>.] - ETA: 0s - loss: 0.0451 - acc: 0.9832Epoch 00004: val_loss improved from 0.05358 to 0.05341, saving model to weights_base.best.h5\n",
      "63900/63900 [==============================] - 8s 122us/step - loss: 0.0452 - acc: 0.9832 - val_loss: 0.0534 - val_acc: 0.9815\n",
      "Epoch 5/8\n",
      "63744/63900 [============================>.] - ETA: 0s - loss: 0.0407 - acc: 0.9845Epoch 00005: val_loss did not improve\n",
      "63900/63900 [==============================] - 8s 124us/step - loss: 0.0407 - acc: 0.9845 - val_loss: 0.0538 - val_acc: 0.9813\n",
      "Epoch 6/8\n",
      "63680/63900 [============================>.] - ETA: 0s - loss: 0.0362 - acc: 0.9862Epoch 00006: val_loss did not improve\n",
      "63900/63900 [==============================] - 8s 122us/step - loss: 0.0362 - acc: 0.9862 - val_loss: 0.0570 - val_acc: 0.9814\n",
      "Epoch 7/8\n",
      "63680/63900 [============================>.] - ETA: 0s - loss: 0.0324 - acc: 0.9873Epoch 00007: val_loss did not improve\n",
      "63900/63900 [==============================] - 8s 124us/step - loss: 0.0323 - acc: 0.9873 - val_loss: 0.0592 - val_acc: 0.9813\n",
      "Epoch 8/8\n",
      "63680/63900 [============================>.] - ETA: 0s - loss: 0.0285 - acc: 0.9888Epoch 00008: val_loss did not improve\n",
      "63900/63900 [==============================] - 8s 123us/step - loss: 0.0285 - acc: 0.9888 - val_loss: 0.0602 - val_acc: 0.9813\n",
      "Train on 63901 samples, validate on 31950 samples\n",
      "Epoch 1/8\n",
      "63552/63901 [============================>.] - ETA: 0s - loss: 0.1429 - acc: 0.9615Epoch 00001: val_loss improved from inf to 0.08197, saving model to weights_base.best.h5\n",
      "63901/63901 [==============================] - 8s 125us/step - loss: 0.1426 - acc: 0.9616 - val_loss: 0.0820 - val_acc: 0.9727\n",
      "Epoch 2/8\n",
      "63808/63901 [============================>.] - ETA: 0s - loss: 0.0655 - acc: 0.9781Epoch 00002: val_loss improved from 0.08197 to 0.05964, saving model to weights_base.best.h5\n",
      "63901/63901 [==============================] - 9s 135us/step - loss: 0.0655 - acc: 0.9781 - val_loss: 0.0596 - val_acc: 0.9797\n",
      "Epoch 3/8\n",
      "63616/63901 [============================>.] - ETA: 0s - loss: 0.0524 - acc: 0.9813Epoch 00003: val_loss improved from 0.05964 to 0.05734, saving model to weights_base.best.h5\n",
      "63901/63901 [==============================] - 9s 134us/step - loss: 0.0523 - acc: 0.9814 - val_loss: 0.0573 - val_acc: 0.9803\n",
      "Epoch 4/8\n",
      "63488/63901 [============================>.] - ETA: 0s - loss: 0.0463 - acc: 0.9828Epoch 00004: val_loss improved from 0.05734 to 0.05657, saving model to weights_base.best.h5\n",
      "63901/63901 [==============================] - 8s 130us/step - loss: 0.0463 - acc: 0.9829 - val_loss: 0.0566 - val_acc: 0.9806\n",
      "Epoch 5/8\n",
      "63552/63901 [============================>.] - ETA: 0s - loss: 0.0419 - acc: 0.9841Epoch 00005: val_loss improved from 0.05657 to 0.05627, saving model to weights_base.best.h5\n",
      "63901/63901 [==============================] - 8s 127us/step - loss: 0.0419 - acc: 0.9841 - val_loss: 0.0563 - val_acc: 0.9806\n",
      "Epoch 6/8\n",
      "63680/63901 [============================>.] - ETA: 0s - loss: 0.0375 - acc: 0.9855Epoch 00006: val_loss did not improve\n",
      "63901/63901 [==============================] - 8s 131us/step - loss: 0.0376 - acc: 0.9855 - val_loss: 0.0595 - val_acc: 0.9804\n",
      "Epoch 7/8\n",
      "63616/63901 [============================>.] - ETA: 0s - loss: 0.0338 - acc: 0.9868Epoch 00007: val_loss did not improve\n",
      "63901/63901 [==============================] - 8s 125us/step - loss: 0.0338 - acc: 0.9868 - val_loss: 0.0596 - val_acc: 0.9802\n",
      "Epoch 8/8\n",
      "63872/63901 [============================>.] - ETA: 0s - loss: 0.0301 - acc: 0.9882Epoch 00008: val_loss did not improve\n",
      "63901/63901 [==============================] - 8s 127us/step - loss: 0.0301 - acc: 0.9882 - val_loss: 0.0634 - val_acc: 0.9800\n",
      "Train on 63901 samples, validate on 31950 samples\n",
      "Epoch 1/8\n",
      "63872/63901 [============================>.] - ETA: 0s - loss: 0.1359 - acc: 0.9604Epoch 00001: val_loss improved from inf to 0.09419, saving model to weights_base.best.h5\n",
      "63901/63901 [==============================] - 8s 131us/step - loss: 0.1359 - acc: 0.9604 - val_loss: 0.0942 - val_acc: 0.9700\n",
      "Epoch 2/8\n",
      "63680/63901 [============================>.] - ETA: 0s - loss: 0.0679 - acc: 0.9774Epoch 00002: val_loss improved from 0.09419 to 0.05967, saving model to weights_base.best.h5\n",
      "63901/63901 [==============================] - 8s 128us/step - loss: 0.0678 - acc: 0.9774 - val_loss: 0.0597 - val_acc: 0.9796\n",
      "Epoch 3/8\n",
      "63872/63901 [============================>.] - ETA: 0s - loss: 0.0520 - acc: 0.9816Epoch 00003: val_loss improved from 0.05967 to 0.05630, saving model to weights_base.best.h5\n",
      "63901/63901 [==============================] - 8s 129us/step - loss: 0.0520 - acc: 0.9816 - val_loss: 0.0563 - val_acc: 0.9804\n",
      "Epoch 4/8\n",
      "63808/63901 [============================>.] - ETA: 0s - loss: 0.0455 - acc: 0.9833Epoch 00004: val_loss improved from 0.05630 to 0.05560, saving model to weights_base.best.h5\n",
      "63901/63901 [==============================] - 9s 138us/step - loss: 0.0455 - acc: 0.9833 - val_loss: 0.0556 - val_acc: 0.9804\n",
      "Epoch 5/8\n",
      "63808/63901 [============================>.] - ETA: 0s - loss: 0.0406 - acc: 0.9847Epoch 00005: val_loss did not improve\n",
      "63901/63901 [==============================] - 8s 133us/step - loss: 0.0406 - acc: 0.9847 - val_loss: 0.0563 - val_acc: 0.9805\n",
      "Epoch 6/8\n",
      "63488/63901 [============================>.] - ETA: 0s - loss: 0.0362 - acc: 0.9860Epoch 00006: val_loss did not improve\n",
      "63901/63901 [==============================] - 8s 123us/step - loss: 0.0362 - acc: 0.9860 - val_loss: 0.0569 - val_acc: 0.9802\n",
      "Epoch 7/8\n",
      "63616/63901 [============================>.] - ETA: 0s - loss: 0.0324 - acc: 0.9875Epoch 00007: val_loss did not improve\n",
      "63901/63901 [==============================] - 8s 123us/step - loss: 0.0325 - acc: 0.9875 - val_loss: 0.0596 - val_acc: 0.9804\n",
      "Epoch 8/8\n",
      "63680/63901 [============================>.] - ETA: 0s - loss: 0.0289 - acc: 0.9889Epoch 00008: val_loss did not improve\n",
      "63901/63901 [==============================] - 8s 128us/step - loss: 0.0290 - acc: 0.9888 - val_loss: 0.0619 - val_acc: 0.9801\n",
      "(95851, 6) (226998, 6)\n"
     ]
    }
   ],
   "source": [
    "def kf_train(fold_cnt=3,rnd=1):\n",
    "    kf = KFold(n_splits=fold_cnt, shuffle=True, random_state=233*rnd)\n",
    "    train_pred, test_pred = np.zeros((95851,6)),np.zeros((226998,6))\n",
    "    for train_index, test_index in kf.split(X_train):\n",
    "        # x,y\n",
    "        curr_x,curr_y = X_train[train_index],y[train_index]\n",
    "        hold_out_x,hold_out_y = X_train[test_index],y[test_index]\n",
    "        \n",
    "        # model\n",
    "        model = get_nn_model()\n",
    "        batch_size = 64\n",
    "        epochs = 8\n",
    "        file_path=\"weights_base.best.h5\"\n",
    "        checkpoint = ModelCheckpoint(file_path, monitor='val_loss', verbose=1, save_weights_only=True,\n",
    "                                     save_best_only=True, mode='min')\n",
    "        callbacks_list = [checkpoint] \n",
    "        \n",
    "        # train and pred\n",
    "        model.fit(curr_x, curr_y, batch_size=batch_size, epochs=epochs, \n",
    "                  validation_data=(hold_out_x,hold_out_y), callbacks=callbacks_list)\n",
    "        model.load_weights(file_path)\n",
    "        y_test = model.predict(X_test)\n",
    "        test_pred += y_test\n",
    "        train_pred[test_index] = model.predict(hold_out_x)\n",
    "    test_pred = test_pred / fold_cnt\n",
    "    return train_pred, test_pred\n",
    "\n",
    "\n",
    "train_pred,test_pred = kf_train()\n",
    "print(train_pred.shape,test_pred.shape)"
   ]
  },
  {
   "cell_type": "code",
   "execution_count": 10,
   "metadata": {},
   "outputs": [
    {
     "name": "stdout",
     "output_type": "stream",
     "text": [
      "done\n"
     ]
    }
   ],
   "source": [
    "sample_submission = pd.read_csv(\"../input/sample_submission.csv\")\n",
    "sample_submission[list_classes] = test_pred\n",
    "sample_submission.to_csv(\"../results/nn_2_csv.gz\", index=False, compression='gzip')\n",
    "import pickle\n",
    "with open('../features/nn_2_feat.pkl','wb') as fout:\n",
    "    pickle.dump([train_pred,test_pred],fout)\n",
    "print('done')"
   ]
  }
 ],
 "metadata": {
  "kernelspec": {
   "display_name": "Python 3",
   "language": "python",
   "name": "python3"
  },
  "language_info": {
   "codemirror_mode": {
    "name": "ipython",
    "version": 3
   },
   "file_extension": ".py",
   "mimetype": "text/x-python",
   "name": "python",
   "nbconvert_exporter": "python",
   "pygments_lexer": "ipython3",
   "version": "3.5.2"
  }
 },
 "nbformat": 4,
 "nbformat_minor": 2
}
