{
 "cells": [
  {
   "cell_type": "code",
   "execution_count": 5,
   "metadata": {},
   "outputs": [
    {
     "name": "stdout",
     "output_type": "stream",
     "text": [
      "file path ../features/lr_feat1.pkl\n",
      "(95851, 6) (226998, 6)\n",
      "file path ../features/cnn_1_feat.pkl\n",
      "(95851, 6) (226998, 6)\n",
      "file path ../features/mnb_feat1.pkl\n",
      "(95851, 6) (226998, 6)\n",
      "file path ../features/other_feat.pkl\n",
      "(95851, 16) (226998, 16)\n",
      "file path ../features/mnb_feat2.pkl\n",
      "(95851, 6) (226998, 6)\n",
      "file path ../features/nn_clean_1_feat.pkl\n",
      "(95851, 6) (226998, 6)\n",
      "file path ../features/tfidf_feat1.pkl\n",
      "(95851, 30) (226998, 30)\n",
      "file path ../features/cnn_2_feat.pkl\n",
      "(95851, 6) (226998, 6)\n",
      "file path ../features/nn_2_feat.pkl\n",
      "(95851, 6) (226998, 6)\n",
      "file path ../features/lstm_1_feat.pkl\n",
      "(95851, 6) (226998, 6)\n",
      "file path ../features/lr_feat2.pkl\n",
      "(95851, 6) (226998, 6)\n",
      "file path ../features/cnn_clean_1_feat.pkl\n",
      "(95851, 6) (226998, 6)\n",
      "file path ../features/nn_1_feat.pkl\n",
      "(95851, 6) (226998, 6)\n",
      "file path ../features/tfidf_feat2.pkl\n",
      "(95851, 30) (226998, 30)\n",
      "(95851, 142)\n",
      "(95851, 142)\n"
     ]
    }
   ],
   "source": [
    "import pickle\n",
    "import glob\n",
    "import pandas as pd\n",
    "import numpy as np\n",
    "from sklearn.linear_model import LogisticRegression\n",
    "from sklearn.metrics import log_loss\n",
    "from xgboost import XGBClassifier\n",
    "\n",
    "# load feats\n",
    "train_x,test_x = [],[]\n",
    "for feat in glob.glob('../features/*.pkl'):\n",
    "#     if 'tfidf' in feat or 'lr' in feat or 'mnb' in feat:\n",
    "#         continue\n",
    "    print('file path',feat)\n",
    "    a,b = pickle.load(open(feat,'rb'))\n",
    "    print(a.shape,b.shape)\n",
    "    train_x.append(a)\n",
    "    test_x.append(b)\n",
    "train_x = np.nan_to_num(np.hstack(train_x))\n",
    "test_x = np.nan_to_num(np.hstack(test_x))\n",
    "print(train_x.shape)\n",
    "    \n",
    "# load y\n",
    "train = pd.read_csv(\"../input/train.csv\")\n",
    "list_classes = [\"toxic\", \"severe_toxic\", \"obscene\", \"threat\", \"insult\", \"identity_hate\"]\n",
    "train_y = train[list_classes].values.astype('int')\n",
    "print(train_x.shape)"
   ]
  },
  {
   "cell_type": "code",
   "execution_count": 6,
   "metadata": {},
   "outputs": [
    {
     "name": "stdout",
     "output_type": "stream",
     "text": [
      "[[1 0 0 0 0 0]\n",
      " [0 0 0 0 0 0]\n",
      " [0 0 0 0 0 0]\n",
      " [0 0 0 0 0 0]\n",
      " [0 0 0 0 0 0]\n",
      " [0 0 0 0 0 0]\n",
      " [0 0 0 0 0 0]\n",
      " [0 0 0 0 0 0]\n",
      " [0 0 0 0 0 0]\n",
      " [0 0 0 0 0 0]]\n",
      "95851\n",
      "9237\n"
     ]
    }
   ],
   "source": [
    "print(train_y[:10])\n",
    "print(len(train_y))\n",
    "print(sum(train_y[:,0]))"
   ]
  },
  {
   "cell_type": "code",
   "execution_count": 7,
   "metadata": {},
   "outputs": [
    {
     "name": "stdout",
     "output_type": "stream",
     "text": [
      "done\n"
     ]
    }
   ],
   "source": [
    "from sklearn.model_selection import KFold\n",
    "def simple_ens(model_name,k=3):\n",
    "    kf = KFold(n_splits=k, shuffle=True, random_state=42)\n",
    "    test_pred = np.zeros((226998,6))\n",
    "    all_train_loss_l,all_val_loss_l = 0,0\n",
    "    for train_index, test_index in kf.split(train_x):\n",
    "        # x,y\n",
    "        curr_x,curr_y = train_x[train_index],train_y[train_index]\n",
    "        hold_out_x,hold_out_y = train_x[test_index],train_y[test_index]\n",
    "        val_loss_l,train_loss_l = 0,0\n",
    "        \n",
    "        # train for each class\n",
    "        for i in range(6):\n",
    "            if model_name == 'lr':\n",
    "                model = LogisticRegression()\n",
    "            if model_name == 'xgb':\n",
    "                model = XGBClassifier()\n",
    "            model.fit(curr_x,curr_y[:,i])\n",
    "            print(i)\n",
    "            try:\n",
    "                curr_train_loss = log_loss(curr_y[:,i],model.predict_proba(curr_x))\n",
    "                curr_val_loss = log_loss(hold_out_y[:,i],model.predict_proba(hold_out_x))\n",
    "                print(curr_train_loss,curr_val_loss)\n",
    "                val_loss_l += curr_val_loss\n",
    "                train_loss_l += curr_train_loss\n",
    "            except:\n",
    "                pass\n",
    "            curr_test_pred = model.predict_proba(test_x)[:,1]\n",
    "            test_pred[:,i] += curr_test_pred\n",
    "            \n",
    "        # avg 6 class\n",
    "        train_loss_l = train_loss_l/6\n",
    "        val_loss_l = val_loss_l/6\n",
    "        print('this fold avg train',train_loss_l,'avg val',val_loss_l)\n",
    "        \n",
    "        # avg k fold\n",
    "        all_train_loss_l += train_loss_l/k\n",
    "        all_val_loss_l += val_loss_l/k\n",
    "        print('========================')\n",
    "    test_pred = test_pred/k\n",
    "    print('all train avg',all_train_loss_l,'all val avg',all_val_loss_l)\n",
    "    return test_pred\n",
    "\n",
    "print('done')\n",
    "            \n",
    "                \n",
    "            "
   ]
  },
  {
   "cell_type": "code",
   "execution_count": 9,
   "metadata": {},
   "outputs": [
    {
     "name": "stdout",
     "output_type": "stream",
     "text": [
      "0\n",
      "0.0904575774248 0.0975692401024\n",
      "1\n",
      "0.0186695996197 0.0228616965284\n",
      "2\n",
      "0.0467911080421 0.0502222376972\n",
      "3\n",
      "0.00935013589221 0.013662158496\n",
      "4\n",
      "0.0597594016982 0.0690884261564\n",
      "5\n",
      "0.0242196736192 0.0264549772495\n",
      "this fold avg train 0.0415412493827 avg val 0.046643122705\n",
      "========================\n",
      "0\n",
      "0.0893438847042 0.0992942597412\n",
      "1\n",
      "0.0189930590893 0.0227402921149\n",
      "2\n",
      "0.0457216146413 0.0527207624096\n",
      "3\n",
      "0.00937742294745 0.0133596948236\n",
      "4\n",
      "0.0614368068798 0.0655567427119\n",
      "5\n",
      "0.0226814802397 0.0294618937849\n",
      "this fold avg train 0.0412590447503 avg val 0.047188940931\n",
      "========================\n",
      "0\n",
      "0.0909900858071 0.0955352995305\n",
      "1\n",
      "0.0184835911431 0.0236736499654\n",
      "2\n",
      "0.0452108140987 0.0529192701323\n",
      "3\n",
      "0.00991140130186 0.0122183754017\n",
      "4\n",
      "0.0612944571837 0.0655469527864\n",
      "5\n",
      "0.0236269922671 0.0285991054779\n",
      "this fold avg train 0.0415862236336 avg val 0.0464154422157\n",
      "========================\n",
      "all train avg 0.0414621725889 all val avg 0.0467491686172\n",
      "         id     toxic  severe_toxic   obscene    threat    insult  \\\n",
      "0   6044863  0.005982      0.000065  0.001045  0.000195  0.001259   \n",
      "1   6102620  0.001503      0.000046  0.000243  0.000052  0.000135   \n",
      "2  14563293  0.000944      0.000043  0.000427  0.000051  0.000173   \n",
      "3  21086297  0.015189      0.000108  0.002442  0.000611  0.004176   \n",
      "4  22982444  0.009594      0.000129  0.000851  0.000106  0.000793   \n",
      "\n",
      "   identity_hate  \n",
      "0       0.000370  \n",
      "1       0.000124  \n",
      "2       0.000241  \n",
      "3       0.001278  \n",
      "4       0.000224  \n",
      "save done\n"
     ]
    }
   ],
   "source": [
    "xgb_res = simple_ens('xgb')\n",
    "sample_submission = pd.read_csv(\"../input/sample_submission.csv\")\n",
    "sample_submission[list_classes] = xgb_res\n",
    "sample_submission.to_csv(\"../results/xgb_ens_csv.gz\", index=False, compression='gzip')\n",
    "print(sample_submission.head())\n",
    "print('save done')"
   ]
  }
 ],
 "metadata": {
  "kernelspec": {
   "display_name": "Python 3",
   "language": "python",
   "name": "python3"
  },
  "language_info": {
   "codemirror_mode": {
    "name": "ipython",
    "version": 3
   },
   "file_extension": ".py",
   "mimetype": "text/x-python",
   "name": "python",
   "nbconvert_exporter": "python",
   "pygments_lexer": "ipython3",
   "version": "3.5.2"
  }
 },
 "nbformat": 4,
 "nbformat_minor": 2
}
