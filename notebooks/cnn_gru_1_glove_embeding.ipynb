{
 "cells": [
  {
   "cell_type": "code",
   "execution_count": 1,
   "metadata": {
    "collapsed": false
   },
   "outputs": [
    {
     "name": "stderr",
     "output_type": "stream",
     "text": [
      "Using TensorFlow backend.\n"
     ]
    },
    {
     "name": "stdout",
     "output_type": "stream",
     "text": [
      "(95851, 6)\n"
     ]
    }
   ],
   "source": [
    "# ref: https://www.kaggle.com/jacklinggu/lstm-with-glove-embedding-public-lb-score-0-049\n",
    "\n",
    "import numpy as np # linear algebra\n",
    "import pandas as pd # data processing, CSV file I/O (e.g. pd.read_csv)\n",
    "import re\n",
    "from keras.models import Model, load_model\n",
    "from keras.layers import Dense, Embedding, Input\n",
    "from keras.layers import GRU, Bidirectional, GlobalMaxPool1D, Dropout,GlobalAveragePooling1D,Conv1D\n",
    "from keras.preprocessing import text, sequence\n",
    "from keras.callbacks import EarlyStopping, ModelCheckpoint\n",
    "\n",
    "max_features = 40000\n",
    "maxlen = 150\n",
    "\n",
    "def clean_text( text ):\n",
    "    text = text.lower().split()\n",
    "    text = \" \".join(text)\n",
    "    text = re.sub(r\"[^A-Za-z0-9^,!.\\/'+\\-=]\", \" \", text)\n",
    "    text = re.sub(r\"what's\", \"what is \", text)\n",
    "    text = re.sub(r\"\\'s\", \" \", text)\n",
    "    text = re.sub(r\"\\'ve\", \" have \", text)\n",
    "    text = re.sub(r\"can't\", \"cannot \", text)\n",
    "    text = re.sub(r\"n't\", \" not \", text)\n",
    "    text = re.sub(r\"i'm\", \"i am \", text)\n",
    "    text = re.sub(r\"\\'re\", \" are \", text)\n",
    "    text = re.sub(r\"\\'d\", \" would \", text)\n",
    "    text = re.sub(r\"\\'ll\", \" will \", text)\n",
    "    text = re.sub(r\",\", \" \", text)\n",
    "    text = re.sub(r\"\\.\", \" \", text)\n",
    "    text = re.sub(r\"!\", \" ! \", text)\n",
    "    text = re.sub(r\"\\/\", \" \", text)\n",
    "    text = re.sub(r\"\\^\", \" ^ \", text)\n",
    "    text = re.sub(r\"\\+\", \" + \", text)\n",
    "    text = re.sub(r\"\\-\", \" - \", text)\n",
    "    text = re.sub(r\"\\=\", \" = \", text)\n",
    "    text = re.sub(r\"'\", \" \", text)\n",
    "    text = re.sub(r\"(\\d+)(k)\", r\"\\g<1>000\", text)\n",
    "    text = re.sub(r\":\", \" : \", text)\n",
    "    text = re.sub(r\" e g \", \" eg \", text)\n",
    "    text = re.sub(r\" b g \", \" bg \", text)\n",
    "    text = re.sub(r\" u s \", \" american \", text)\n",
    "    text = re.sub(r\"\\0s\", \"0\", text)\n",
    "    text = re.sub(r\" 9 11 \", \"911\", text)\n",
    "    text = re.sub(r\"e - mail\", \"email\", text)\n",
    "    text = re.sub(r\"j k\", \"jk\", text)\n",
    "    text = re.sub(r\"\\s{2,}\", \" \", text)\n",
    "    #\n",
    "    return text\n",
    "\n",
    "train = pd.read_csv(\"../input/train.csv\")\n",
    "test = pd.read_csv(\"../input/test.csv\")\n",
    "\n",
    "list_sentences_train = train[\"comment_text\"].fillna(\"CVxTz\").apply(clean_text).values\n",
    "list_classes = [\"toxic\", \"severe_toxic\", \"obscene\", \"threat\", \"insult\", \"identity_hate\"]\n",
    "y = train[list_classes].values\n",
    "list_sentences_test = test[\"comment_text\"].fillna(\"CVxTz\").apply(clean_text).values\n",
    "print(y.shape)"
   ]
  },
  {
   "cell_type": "code",
   "execution_count": 2,
   "metadata": {
    "collapsed": false
   },
   "outputs": [
    {
     "data": {
      "text/plain": [
       "array([ 'nonsense kiss off geek what i said is true i will have your account terminated ',\n",
       "       ' please do not vandalize pages as you did with this edit to w s merwin if you continue to do so you will be blocked from editing ',\n",
       "       ' points of interest i removed the points of interest section you added because it seemed kind of spammy i know you probably did not mean to disobey the rules but generally a point of interest tends to be rather touristy and quite irrelevant to an area culture that just my opinion though if you want to reply just put your reply here and add talkback jamiegraham08 on my talkpage ',\n",
       "       'asking some his nationality is a racial offence wow was not aware of it blocking me has shown your support towards your community thanku for that',\n",
       "       'the reader here is not going by my say so for ethereal vocal style and dark lyrical content the cited sources in the external links are saying those things if you feel the sources are unreliable or i did not represent what they said correctly rewrite or delete it '], dtype=object)"
      ]
     },
     "execution_count": 2,
     "metadata": {},
     "output_type": "execute_result"
    }
   ],
   "source": [
    "list_sentences_train[:5]"
   ]
  },
  {
   "cell_type": "code",
   "execution_count": 3,
   "metadata": {
    "collapsed": false
   },
   "outputs": [
    {
     "name": "stdout",
     "output_type": "stream",
     "text": [
      "test len 226998\n"
     ]
    }
   ],
   "source": [
    "print('test len',len(test))"
   ]
  },
  {
   "cell_type": "code",
   "execution_count": 4,
   "metadata": {
    "collapsed": false
   },
   "outputs": [
    {
     "name": "stdout",
     "output_type": "stream",
     "text": [
      "(95851, 150) (226998, 150)\n"
     ]
    }
   ],
   "source": [
    "tokenizer = text.Tokenizer(num_words=max_features)\n",
    "tokenizer.fit_on_texts(list(list_sentences_train))\n",
    "list_tokenized_train = tokenizer.texts_to_sequences(list_sentences_train)\n",
    "list_tokenized_test = tokenizer.texts_to_sequences(list_sentences_test)\n",
    "X_train = sequence.pad_sequences(list_tokenized_train, maxlen=maxlen)\n",
    "X_test = sequence.pad_sequences(list_tokenized_test, maxlen=maxlen)\n",
    "\n",
    "print(X_train.shape,X_test.shape)"
   ]
  },
  {
   "cell_type": "code",
   "execution_count": 5,
   "metadata": {
    "collapsed": false
   },
   "outputs": [
    {
     "name": "stdout",
     "output_type": "stream",
     "text": [
      "dita 69306\n",
      "profs 44872\n",
      "nooooo 62869\n",
      "conservationist 36062\n",
      "rtbf 65749\n",
      "sutff 109790\n"
     ]
    }
   ],
   "source": [
    "# check word_index\n",
    "tmp_cnt = 0\n",
    "for k in tokenizer.word_index:\n",
    "    print(k,tokenizer.word_index[k])\n",
    "    tmp_cnt += 1\n",
    "    if tmp_cnt >5:\n",
    "        break\n",
    "word_idx = tokenizer.word_index"
   ]
  },
  {
   "cell_type": "code",
   "execution_count": 6,
   "metadata": {
    "collapsed": false,
    "scrolled": true
   },
   "outputs": [
    {
     "name": "stdout",
     "output_type": "stream",
     "text": [
      "2196007\n",
      "Preparing embedding matrix\n",
      "Null word embeddings: 3819\n"
     ]
    }
   ],
   "source": [
    "# read word2vec\n",
    "# \n",
    "word_vec_dict = {}\n",
    "with open('../glove.840B.300d.txt') as f:\n",
    "    for line in f:\n",
    "        v_list = line.strip().split(' ')\n",
    "        k = str(v_list[0])\n",
    "        v = np.array([float(x) for x in v_list[1:]])\n",
    "        word_vec_dict[k] = v\n",
    "print(len(word_vec_dict))\n",
    "# print(word_vec_dict['is'])\n",
    "# print(word_vec_dict['are'])\n",
    "\n",
    "print('Preparing embedding matrix')\n",
    "EMBEDDING_DIM = 300\n",
    "nb_words = min(max_features,len(word_idx))\n",
    "embedding_matrix = np.zeros((nb_words, EMBEDDING_DIM))\n",
    "for word,i in word_idx.items():\n",
    "    if i >= max_features:\n",
    "        continue\n",
    "    else:\n",
    "        if word in word_vec_dict:\n",
    "            embedding_matrix[i] = word_vec_dict[word]\n",
    "print('Null word embeddings: %d' % np.sum(np.sum(embedding_matrix, axis=1) == 0))\n",
    "del word_vec_dict"
   ]
  },
  {
   "cell_type": "code",
   "execution_count": 7,
   "metadata": {
    "collapsed": false
   },
   "outputs": [
    {
     "name": "stdout",
     "output_type": "stream",
     "text": [
      "def model done\n"
     ]
    }
   ],
   "source": [
    "from sklearn.metrics import log_loss,accuracy_score\n",
    "from keras.layers import MaxPooling1D\n",
    "\n",
    "def eval_val(y,train_x):\n",
    "    res = 0\n",
    "    acc_res = 0\n",
    "    for i in range(6):\n",
    "        curr_loss = log_loss(y[:,i],train_x[:,i])\n",
    "        acc = accuracy_score(y[:,i],train_x[:,i].round())\n",
    "        print(i,curr_loss,acc)\n",
    "        res += curr_loss\n",
    "        acc_res += acc\n",
    "    print('final',res/6, acc_res/6)\n",
    "\n",
    "def get_lstm_model():\n",
    "    inp = Input(shape=(maxlen, ))\n",
    "    x = Embedding(nb_words, EMBEDDING_DIM, weights=[embedding_matrix],trainable=False)(inp)\n",
    "    x = Dropout(0.2)(x)\n",
    "    main = Conv1D(filters=256, kernel_size=3, padding='same', activation='relu')(x)\n",
    "    main = MaxPooling1D(pool_size=2)(main)\n",
    "    main = GRU(64)(main)\n",
    "    main = Dense(32, activation=\"relu\")(main)\n",
    "    main = Dense(6, activation=\"sigmoid\")(main)\n",
    "    model = Model(inputs=inp, outputs=main)\n",
    "    model.compile(loss='binary_crossentropy', optimizer='adam', metrics=['accuracy'])    \n",
    "    return model\n",
    "    \n",
    "\n",
    "print('def model done')"
   ]
  },
  {
   "cell_type": "code",
   "execution_count": 8,
   "metadata": {
    "collapsed": false
   },
   "outputs": [
    {
     "name": "stdout",
     "output_type": "stream",
     "text": [
      "_________________________________________________________________\n",
      "Layer (type)                 Output Shape              Param #   \n",
      "=================================================================\n",
      "input_1 (InputLayer)         (None, 150)               0         \n",
      "_________________________________________________________________\n",
      "embedding_1 (Embedding)      (None, 150, 300)          12000000  \n",
      "_________________________________________________________________\n",
      "dropout_1 (Dropout)          (None, 150, 300)          0         \n",
      "_________________________________________________________________\n",
      "conv1d_1 (Conv1D)            (None, 150, 256)          230656    \n",
      "_________________________________________________________________\n",
      "max_pooling1d_1 (MaxPooling1 (None, 75, 256)           0         \n",
      "_________________________________________________________________\n",
      "gru_1 (GRU)                  (None, 64)                61632     \n",
      "_________________________________________________________________\n",
      "dense_1 (Dense)              (None, 32)                2080      \n",
      "_________________________________________________________________\n",
      "dense_2 (Dense)              (None, 6)                 198       \n",
      "=================================================================\n",
      "Total params: 12,294,566\n",
      "Trainable params: 294,566\n",
      "Non-trainable params: 12,000,000\n",
      "_________________________________________________________________\n"
     ]
    }
   ],
   "source": [
    "tmp_m = get_lstm_model()\n",
    "tmp_m.summary()"
   ]
  },
  {
   "cell_type": "code",
   "execution_count": 9,
   "metadata": {
    "collapsed": false,
    "scrolled": false
   },
   "outputs": [
    {
     "name": "stdout",
     "output_type": "stream",
     "text": [
      "Train on 63900 samples, validate on 31951 samples\n",
      "Epoch 1/8\n",
      "63872/63900 [============================>.] - ETA: 0s - loss: 0.0631 - acc: 0.9782Epoch 00001: val_loss improved from inf to 0.04661, saving model to weights_base.best.h5\n",
      "63900/63900 [==============================] - 93s 1ms/step - loss: 0.0631 - acc: 0.9782 - val_loss: 0.0466 - val_acc: 0.9824\n",
      "Epoch 2/8\n",
      "63872/63900 [============================>.] - ETA: 0s - loss: 0.0449 - acc: 0.9829Epoch 00002: val_loss improved from 0.04661 to 0.04449, saving model to weights_base.best.h5\n",
      "63900/63900 [==============================] - 88s 1ms/step - loss: 0.0450 - acc: 0.9829 - val_loss: 0.0445 - val_acc: 0.9827\n",
      "Epoch 3/8\n",
      "63872/63900 [============================>.] - ETA: 0s - loss: 0.0405 - acc: 0.9840Epoch 00003: val_loss did not improve\n",
      "63900/63900 [==============================] - 88s 1ms/step - loss: 0.0405 - acc: 0.9840 - val_loss: 0.0445 - val_acc: 0.9833\n",
      "Epoch 4/8\n",
      "63872/63900 [============================>.] - ETA: 0s - loss: 0.0367 - acc: 0.9855Epoch 00004: val_loss improved from 0.04449 to 0.04377, saving model to weights_base.best.h5\n",
      "63900/63900 [==============================] - 88s 1ms/step - loss: 0.0367 - acc: 0.9855 - val_loss: 0.0438 - val_acc: 0.9828\n",
      "Epoch 5/8\n",
      "63872/63900 [============================>.] - ETA: 0s - loss: 0.0329 - acc: 0.9869Epoch 00005: val_loss did not improve\n",
      "63900/63900 [==============================] - 88s 1ms/step - loss: 0.0329 - acc: 0.9869 - val_loss: 0.0453 - val_acc: 0.9826\n",
      "Epoch 6/8\n",
      "63872/63900 [============================>.] - ETA: 0s - loss: 0.0300 - acc: 0.9881Epoch 00006: val_loss did not improve\n",
      "63900/63900 [==============================] - 88s 1ms/step - loss: 0.0300 - acc: 0.9881 - val_loss: 0.0470 - val_acc: 0.9819\n",
      "Epoch 7/8\n",
      "63872/63900 [============================>.] - ETA: 0s - loss: 0.0271 - acc: 0.9891Epoch 00007: val_loss did not improve\n",
      "63900/63900 [==============================] - 89s 1ms/step - loss: 0.0271 - acc: 0.9891 - val_loss: 0.0480 - val_acc: 0.9819\n",
      "Epoch 8/8\n",
      "63872/63900 [============================>.] - ETA: 0s - loss: 0.0243 - acc: 0.9904Epoch 00008: val_loss did not improve\n",
      "63900/63900 [==============================] - 89s 1ms/step - loss: 0.0243 - acc: 0.9904 - val_loss: 0.0503 - val_acc: 0.9811\n",
      "Train on 63901 samples, validate on 31950 samples\n",
      "Epoch 1/8\n",
      "63872/63901 [============================>.] - ETA: 0s - loss: 0.0614 - acc: 0.9787Epoch 00001: val_loss improved from inf to 0.04698, saving model to weights_base.best.h5\n",
      "63901/63901 [==============================] - 90s 1ms/step - loss: 0.0614 - acc: 0.9787 - val_loss: 0.0470 - val_acc: 0.9822\n",
      "Epoch 2/8\n",
      "63872/63901 [============================>.] - ETA: 0s - loss: 0.0446 - acc: 0.9830Epoch 00002: val_loss improved from 0.04698 to 0.04598, saving model to weights_base.best.h5\n",
      "63901/63901 [==============================] - 90s 1ms/step - loss: 0.0446 - acc: 0.9830 - val_loss: 0.0460 - val_acc: 0.9831\n",
      "Epoch 3/8\n",
      "63872/63901 [============================>.] - ETA: 0s - loss: 0.0405 - acc: 0.9844Epoch 00003: val_loss improved from 0.04598 to 0.04391, saving model to weights_base.best.h5\n",
      "63901/63901 [==============================] - 91s 1ms/step - loss: 0.0405 - acc: 0.9844 - val_loss: 0.0439 - val_acc: 0.9830\n",
      "Epoch 4/8\n",
      "63872/63901 [============================>.] - ETA: 0s - loss: 0.0365 - acc: 0.9856Epoch 00004: val_loss improved from 0.04391 to 0.04312, saving model to weights_base.best.h5\n",
      "63901/63901 [==============================] - 89s 1ms/step - loss: 0.0365 - acc: 0.9856 - val_loss: 0.0431 - val_acc: 0.9834\n",
      "Epoch 5/8\n",
      "63872/63901 [============================>.] - ETA: 0s - loss: 0.0334 - acc: 0.9868Epoch 00005: val_loss did not improve\n",
      "63901/63901 [==============================] - 89s 1ms/step - loss: 0.0334 - acc: 0.9868 - val_loss: 0.0447 - val_acc: 0.9831\n",
      "Epoch 6/8\n",
      "63872/63901 [============================>.] - ETA: 0s - loss: 0.0303 - acc: 0.9878Epoch 00006: val_loss did not improve\n",
      "63901/63901 [==============================] - 89s 1ms/step - loss: 0.0303 - acc: 0.9878 - val_loss: 0.0456 - val_acc: 0.9826\n",
      "Epoch 7/8\n",
      "63872/63901 [============================>.] - ETA: 0s - loss: 0.0278 - acc: 0.9890Epoch 00007: val_loss did not improve\n",
      "63901/63901 [==============================] - 89s 1ms/step - loss: 0.0278 - acc: 0.9890 - val_loss: 0.0461 - val_acc: 0.9828\n",
      "Epoch 8/8\n",
      "63872/63901 [============================>.] - ETA: 0s - loss: 0.0248 - acc: 0.9902Epoch 00008: val_loss did not improve\n",
      "63901/63901 [==============================] - 89s 1ms/step - loss: 0.0248 - acc: 0.9902 - val_loss: 0.0496 - val_acc: 0.9822\n",
      "Train on 63901 samples, validate on 31950 samples\n",
      "Epoch 1/8\n",
      "63872/63901 [============================>.] - ETA: 0s - loss: 0.0600 - acc: 0.9790Epoch 00001: val_loss improved from inf to 0.04792, saving model to weights_base.best.h5\n",
      "63901/63901 [==============================] - 92s 1ms/step - loss: 0.0600 - acc: 0.9790 - val_loss: 0.0479 - val_acc: 0.9821\n",
      "Epoch 2/8\n",
      "63872/63901 [============================>.] - ETA: 0s - loss: 0.0446 - acc: 0.9830Epoch 00002: val_loss improved from 0.04792 to 0.04541, saving model to weights_base.best.h5\n",
      "63901/63901 [==============================] - 91s 1ms/step - loss: 0.0446 - acc: 0.9830 - val_loss: 0.0454 - val_acc: 0.9823\n",
      "Epoch 3/8\n",
      "63872/63901 [============================>.] - ETA: 0s - loss: 0.0404 - acc: 0.9846Epoch 00003: val_loss did not improve\n",
      "63901/63901 [==============================] - 91s 1ms/step - loss: 0.0404 - acc: 0.9845 - val_loss: 0.0470 - val_acc: 0.9827\n",
      "Epoch 4/8\n",
      "63872/63901 [============================>.] - ETA: 0s - loss: 0.0364 - acc: 0.9857Epoch 00004: val_loss improved from 0.04541 to 0.04517, saving model to weights_base.best.h5\n",
      "63901/63901 [==============================] - 90s 1ms/step - loss: 0.0364 - acc: 0.9857 - val_loss: 0.0452 - val_acc: 0.9828\n",
      "Epoch 5/8\n",
      "63872/63901 [============================>.] - ETA: 0s - loss: 0.0329 - acc: 0.9870Epoch 00005: val_loss did not improve\n",
      "63901/63901 [==============================] - 91s 1ms/step - loss: 0.0329 - acc: 0.9870 - val_loss: 0.0458 - val_acc: 0.9827\n",
      "Epoch 6/8\n",
      "63872/63901 [============================>.] - ETA: 0s - loss: 0.0294 - acc: 0.9883Epoch 00006: val_loss did not improve\n",
      "63901/63901 [==============================] - 91s 1ms/step - loss: 0.0294 - acc: 0.9883 - val_loss: 0.0479 - val_acc: 0.9820\n",
      "Epoch 7/8\n",
      "63872/63901 [============================>.] - ETA: 0s - loss: 0.0264 - acc: 0.9895Epoch 00007: val_loss did not improve\n",
      "63901/63901 [==============================] - 90s 1ms/step - loss: 0.0264 - acc: 0.9895 - val_loss: 0.0514 - val_acc: 0.9810\n",
      "Epoch 8/8\n",
      "63872/63901 [============================>.] - ETA: 0s - loss: 0.0239 - acc: 0.9905Epoch 00008: val_loss did not improve\n",
      "63901/63901 [==============================] - 91s 1ms/step - loss: 0.0239 - acc: 0.9905 - val_loss: 0.0576 - val_acc: 0.9815\n",
      "-------------------------------\n",
      "0 0.0962681934504 0.964058799595\n",
      "1 0.0235241979138 0.989848827868\n",
      "2 0.048919074393 0.981346047511\n",
      "3 0.0103345443676 0.996922306497\n",
      "4 0.0626355111049 0.973344044402\n",
      "5 0.0224298325395 0.992425744124\n",
      "final 0.0440185589615 0.982990961666\n",
      "all eval None\n",
      "(95851, 6) (226998, 6)\n",
      "done\n"
     ]
    }
   ],
   "source": [
    "from sklearn.model_selection import KFold\n",
    "def kf_train(fold_cnt=3,rnd=1):\n",
    "    kf = KFold(n_splits=fold_cnt, shuffle=False, random_state=233*rnd)\n",
    "    train_pred, test_pred = np.zeros((95851,6)),np.zeros((226998,6))\n",
    "    for train_index, test_index in kf.split(X_train):\n",
    "        # x,y\n",
    "        curr_x,curr_y = X_train[train_index],y[train_index]\n",
    "        hold_out_x,hold_out_y = X_train[test_index],y[test_index]\n",
    "        \n",
    "        # model\n",
    "        model = get_lstm_model()\n",
    "        batch_size = 64\n",
    "        epochs = 8\n",
    "        file_path=\"weights_base.best.h5\"\n",
    "        checkpoint = ModelCheckpoint(file_path, monitor='val_loss', verbose=1, save_best_only=True, mode='min')\n",
    "        callbacks_list = [checkpoint] \n",
    "        \n",
    "        # train and pred\n",
    "        model.fit(curr_x, curr_y, batch_size=batch_size, epochs=epochs, \n",
    "                  validation_data=(hold_out_x,hold_out_y), callbacks=callbacks_list)\n",
    "        model = load_model(file_path)\n",
    "        y_test = model.predict(X_test)\n",
    "        test_pred += y_test\n",
    "        hold_out_pred = model.predict(hold_out_x)\n",
    "        train_pred[test_index] = hold_out_pred\n",
    "    test_pred = test_pred / fold_cnt\n",
    "    print('-------------------------------')\n",
    "    print('all eval',eval_val(y,train_pred))\n",
    "    return train_pred, test_pred\n",
    "\n",
    "\n",
    "train_pred,test_pred = kf_train()\n",
    "print(train_pred.shape,test_pred.shape)\n",
    "sample_submission = pd.read_csv(\"../input/sample_submission.csv\")\n",
    "sample_submission[list_classes] = test_pred\n",
    "sample_submission.to_csv(\"../results/cnn_gru_glove_1_csv.gz\", index=False, compression='gzip')\n",
    "import pickle\n",
    "with open('../features/cnn_gru_glove_1_feat.pkl','wb') as fout:\n",
    "    pickle.dump([train_pred,test_pred],fout)\n",
    "print('done')\n",
    "\n",
    "# pre 0.04337 0.04435 0.04584\n",
    "# add embed dropout\n",
    "# new 0.04377 0.04312 0.04517"
   ]
  },
  {
   "cell_type": "code",
   "execution_count": 10,
   "metadata": {
    "collapsed": false
   },
   "outputs": [
    {
     "data": {
      "text/plain": [
       "array([[ 0.317,  0.001,  0.011,  0.   ,  0.05 ,  0.001],\n",
       "       [ 0.001,  0.   ,  0.   ,  0.   ,  0.   ,  0.   ],\n",
       "       [ 0.001,  0.   ,  0.   ,  0.   ,  0.   ,  0.   ],\n",
       "       [ 0.002,  0.   ,  0.   ,  0.   ,  0.   ,  0.   ],\n",
       "       [ 0.   ,  0.   ,  0.   ,  0.   ,  0.   ,  0.   ],\n",
       "       [ 0.103,  0.002,  0.006,  0.   ,  0.064,  0.009],\n",
       "       [ 0.002,  0.   ,  0.   ,  0.   ,  0.   ,  0.   ],\n",
       "       [ 0.569,  0.013,  0.01 ,  0.229,  0.026,  0.012],\n",
       "       [ 0.001,  0.   ,  0.   ,  0.   ,  0.   ,  0.   ],\n",
       "       [ 0.001,  0.   ,  0.   ,  0.   ,  0.   ,  0.   ]])"
      ]
     },
     "execution_count": 10,
     "metadata": {},
     "output_type": "execute_result"
    }
   ],
   "source": [
    "train_pred[:10].round(3)"
   ]
  },
  {
   "cell_type": "code",
   "execution_count": 11,
   "metadata": {
    "collapsed": false
   },
   "outputs": [
    {
     "data": {
      "text/plain": [
       "array([[1, 0, 0, 0, 0, 0],\n",
       "       [0, 0, 0, 0, 0, 0],\n",
       "       [0, 0, 0, 0, 0, 0],\n",
       "       [0, 0, 0, 0, 0, 0],\n",
       "       [0, 0, 0, 0, 0, 0],\n",
       "       [0, 0, 0, 0, 0, 0],\n",
       "       [0, 0, 0, 0, 0, 0],\n",
       "       [0, 0, 0, 0, 0, 0],\n",
       "       [0, 0, 0, 0, 0, 0],\n",
       "       [0, 0, 0, 0, 0, 0]])"
      ]
     },
     "execution_count": 11,
     "metadata": {},
     "output_type": "execute_result"
    }
   ],
   "source": [
    "y[:10]"
   ]
  }
 ],
 "metadata": {
  "kernelspec": {
   "display_name": "Python 3",
   "language": "python",
   "name": "python3"
  },
  "language_info": {
   "codemirror_mode": {
    "name": "ipython",
    "version": 3
   },
   "file_extension": ".py",
   "mimetype": "text/x-python",
   "name": "python",
   "nbconvert_exporter": "python",
   "pygments_lexer": "ipython3",
   "version": "3.5.2"
  }
 },
 "nbformat": 4,
 "nbformat_minor": 2
}
