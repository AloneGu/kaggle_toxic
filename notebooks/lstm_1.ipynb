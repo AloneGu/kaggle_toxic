{
 "cells": [
  {
   "cell_type": "code",
   "execution_count": 1,
   "metadata": {},
   "outputs": [
    {
     "name": "stderr",
     "output_type": "stream",
     "text": [
      "Using TensorFlow backend.\n"
     ]
    },
    {
     "name": "stdout",
     "output_type": "stream",
     "text": [
      "(95851, 6)\n"
     ]
    }
   ],
   "source": [
    "import numpy as np # linear algebra\n",
    "import pandas as pd # data processing, CSV file I/O (e.g. pd.read_csv)\n",
    "\n",
    "from keras.models import Model,load_model\n",
    "from keras.layers import Dense, Embedding, Input\n",
    "from keras.layers import LSTM, Bidirectional, GlobalMaxPool1D, Dropout\n",
    "from keras.preprocessing import text, sequence\n",
    "from keras.callbacks import EarlyStopping, ModelCheckpoint\n",
    "\n",
    "max_features = 20000\n",
    "maxlen = 100\n",
    "\n",
    "\n",
    "train = pd.read_csv(\"../input/train.csv\")\n",
    "test = pd.read_csv(\"../input/test.csv\")\n",
    "\n",
    "\n",
    "list_sentences_train = train[\"comment_text\"].fillna(\"CVxTz\").values\n",
    "list_classes = [\"toxic\", \"severe_toxic\", \"obscene\", \"threat\", \"insult\", \"identity_hate\"]\n",
    "y = train[list_classes].values\n",
    "list_sentences_test = test[\"comment_text\"].fillna(\"CVxTz\").values\n",
    "print(y.shape)"
   ]
  },
  {
   "cell_type": "code",
   "execution_count": 2,
   "metadata": {},
   "outputs": [
    {
     "name": "stdout",
     "output_type": "stream",
     "text": [
      "test len 226998\n"
     ]
    }
   ],
   "source": [
    "print('test len',len(test))\n",
    "from sklearn.metrics import log_loss,accuracy_score\n",
    "\n",
    "def eval_val(y,train_x):\n",
    "    res = 0\n",
    "    acc_res = 0\n",
    "    for i in range(6):\n",
    "        curr_loss = log_loss(y[:,i],train_x[:,i])\n",
    "        acc = accuracy_score(y[:,i],train_x[:,i].round())\n",
    "        print(i,curr_loss,acc)\n",
    "        res += curr_loss\n",
    "        acc_res += acc\n",
    "    print('final',res/6, acc_res/6)"
   ]
  },
  {
   "cell_type": "code",
   "execution_count": 3,
   "metadata": {},
   "outputs": [
    {
     "name": "stdout",
     "output_type": "stream",
     "text": [
      "(95851, 100) (226998, 100)\n",
      "def model done\n"
     ]
    }
   ],
   "source": [
    "tokenizer = text.Tokenizer(num_words=max_features)\n",
    "tokenizer.fit_on_texts(list(list_sentences_train))\n",
    "list_tokenized_train = tokenizer.texts_to_sequences(list_sentences_train)\n",
    "list_tokenized_test = tokenizer.texts_to_sequences(list_sentences_test)\n",
    "X_train = sequence.pad_sequences(list_tokenized_train, maxlen=maxlen)\n",
    "X_test = sequence.pad_sequences(list_tokenized_test, maxlen=maxlen)\n",
    "\n",
    "print(X_train.shape,X_test.shape)\n",
    "\n",
    "def get_lstm_model():\n",
    "    embed_size = 128\n",
    "    inp = Input(shape=(maxlen, ))\n",
    "    x = Embedding(max_features, embed_size)(inp)\n",
    "    x = Bidirectional(LSTM(64, return_sequences=True))(x)\n",
    "    x = GlobalMaxPool1D()(x)\n",
    "    x = Dropout(0.1)(x)\n",
    "    x = Dense(64, activation=\"relu\")(x)\n",
    "    x = Dropout(0.1)(x)\n",
    "    x = Dense(6, activation=\"sigmoid\")(x)\n",
    "    model = Model(inputs=inp, outputs=x)\n",
    "    model.compile(loss='binary_crossentropy',\n",
    "                  optimizer='adam',\n",
    "                  metrics=['accuracy'])\n",
    "\n",
    "    return model\n",
    "print('def model done')"
   ]
  },
  {
   "cell_type": "code",
   "execution_count": 4,
   "metadata": {},
   "outputs": [
    {
     "name": "stdout",
     "output_type": "stream",
     "text": [
      "Train on 63900 samples, validate on 31951 samples\n",
      "Epoch 1/4\n",
      "63872/63900 [============================>.] - ETA: 0s - loss: 0.0887 - acc: 0.9721Epoch 00001: val_loss improved from inf to 0.05166, saving model to weights_base.best.h5\n",
      "63900/63900 [==============================] - 222s 3ms/step - loss: 0.0886 - acc: 0.9721 - val_loss: 0.0517 - val_acc: 0.9816\n",
      "Epoch 2/4\n",
      "63872/63900 [============================>.] - ETA: 0s - loss: 0.0489 - acc: 0.9821Epoch 00002: val_loss improved from 0.05166 to 0.05089, saving model to weights_base.best.h5\n",
      "63900/63900 [==============================] - 228s 4ms/step - loss: 0.0489 - acc: 0.9821 - val_loss: 0.0509 - val_acc: 0.9816\n",
      "Epoch 3/4\n",
      "63872/63900 [============================>.] - ETA: 0s - loss: 0.0424 - acc: 0.9840Epoch 00003: val_loss did not improve\n",
      "63900/63900 [==============================] - 238s 4ms/step - loss: 0.0424 - acc: 0.9840 - val_loss: 0.0535 - val_acc: 0.9815\n",
      "Epoch 4/4\n",
      "63872/63900 [============================>.] - ETA: 0s - loss: 0.0374 - acc: 0.9855Epoch 00004: val_loss did not improve\n",
      "63900/63900 [==============================] - 212s 3ms/step - loss: 0.0374 - acc: 0.9855 - val_loss: 0.0608 - val_acc: 0.9815\n",
      "Train on 63901 samples, validate on 31950 samples\n",
      "Epoch 1/4\n",
      "63872/63901 [============================>.] - ETA: 0s - loss: 0.0892 - acc: 0.9728Epoch 00001: val_loss improved from inf to 0.05459, saving model to weights_base.best.h5\n",
      "63901/63901 [==============================] - 209s 3ms/step - loss: 0.0892 - acc: 0.9728 - val_loss: 0.0546 - val_acc: 0.9806\n",
      "Epoch 2/4\n",
      "63872/63901 [============================>.] - ETA: 0s - loss: 0.0490 - acc: 0.9821Epoch 00002: val_loss improved from 0.05459 to 0.05242, saving model to weights_base.best.h5\n",
      "63901/63901 [==============================] - 208s 3ms/step - loss: 0.0490 - acc: 0.9821 - val_loss: 0.0524 - val_acc: 0.9812\n",
      "Epoch 3/4\n",
      "63872/63901 [============================>.] - ETA: 0s - loss: 0.0417 - acc: 0.9843Epoch 00003: val_loss did not improve\n",
      "63901/63901 [==============================] - 209s 3ms/step - loss: 0.0417 - acc: 0.9843 - val_loss: 0.0580 - val_acc: 0.9805\n",
      "Epoch 4/4\n",
      "63872/63901 [============================>.] - ETA: 0s - loss: 0.0374 - acc: 0.9857Epoch 00004: val_loss did not improve\n",
      "63901/63901 [==============================] - 219s 3ms/step - loss: 0.0375 - acc: 0.9857 - val_loss: 0.0588 - val_acc: 0.9806\n",
      "Train on 63901 samples, validate on 31950 samples\n",
      "Epoch 1/4\n",
      "63872/63901 [============================>.] - ETA: 0s - loss: 0.0927 - acc: 0.9718Epoch 00001: val_loss improved from inf to 0.05206, saving model to weights_base.best.h5\n",
      "63901/63901 [==============================] - 215s 3ms/step - loss: 0.0927 - acc: 0.9718 - val_loss: 0.0521 - val_acc: 0.9815\n",
      "Epoch 2/4\n",
      "63872/63901 [============================>.] - ETA: 0s - loss: 0.0498 - acc: 0.9820Epoch 00002: val_loss improved from 0.05206 to 0.05058, saving model to weights_base.best.h5\n",
      "63901/63901 [==============================] - 219s 3ms/step - loss: 0.0498 - acc: 0.9820 - val_loss: 0.0506 - val_acc: 0.9817\n",
      "Epoch 3/4\n",
      "63872/63901 [============================>.] - ETA: 0s - loss: 0.0433 - acc: 0.9835Epoch 00003: val_loss did not improve\n",
      "63901/63901 [==============================] - 217s 3ms/step - loss: 0.0433 - acc: 0.9835 - val_loss: 0.0522 - val_acc: 0.9815\n",
      "Epoch 4/4\n",
      "63872/63901 [============================>.] - ETA: 0s - loss: 0.0375 - acc: 0.9855Epoch 00004: val_loss did not improve\n",
      "63901/63901 [==============================] - 211s 3ms/step - loss: 0.0375 - acc: 0.9854 - val_loss: 0.0551 - val_acc: 0.9817\n",
      "-------------------------------\n",
      "0 0.109967143515 0.960636821734\n",
      "1 0.0240318920605 0.990057485055\n",
      "2 0.0562805697475 0.979029952739\n",
      "3 0.014872348453 0.996817977903\n",
      "4 0.0711797667347 0.970767128147\n",
      "5 0.031423488535 0.991507652502\n",
      "final 0.051292534841 0.981469503013\n",
      "all eval None\n",
      "(95851, 6) (226998, 6)\n"
     ]
    }
   ],
   "source": [
    "from sklearn.model_selection import KFold\n",
    "def kf_train(fold_cnt=3,rnd=1):\n",
    "    kf = KFold(n_splits=fold_cnt, shuffle=True, random_state=233*rnd)\n",
    "    train_pred, test_pred = np.zeros((95851,6)),np.zeros((226998,6))\n",
    "    for train_index, test_index in kf.split(X_train):\n",
    "        # x,y\n",
    "        curr_x,curr_y = X_train[train_index],y[train_index]\n",
    "        hold_out_x,hold_out_y = X_train[test_index],y[test_index]\n",
    "        \n",
    "        # model\n",
    "        model = get_lstm_model()\n",
    "        batch_size = 64\n",
    "        epochs = 4\n",
    "        file_path=\"weights_base.best.h5\"\n",
    "        checkpoint = ModelCheckpoint(file_path, monitor='val_loss', verbose=1, save_best_only=True, mode='min')\n",
    "        callbacks_list = [checkpoint] \n",
    "        \n",
    "        # train and pred\n",
    "        model.fit(curr_x, curr_y, batch_size=batch_size, epochs=epochs, \n",
    "                  validation_data=(hold_out_x,hold_out_y), callbacks=callbacks_list)\n",
    "        model = load_model(file_path)\n",
    "        y_test = model.predict(X_test)\n",
    "        test_pred += y_test\n",
    "        hold_out_pred = model.predict(hold_out_x)\n",
    "        train_pred[test_index] = hold_out_pred\n",
    "        #print('temp eval')\n",
    "        #eval_val(hold_out_y,hold_out_pred)\n",
    "    test_pred = test_pred / fold_cnt\n",
    "    print('-------------------------------')\n",
    "    print('all eval',eval_val(y,train_pred))\n",
    "    return train_pred, test_pred\n",
    "\n",
    "\n",
    "train_pred,test_pred = kf_train()\n",
    "print(train_pred.shape,test_pred.shape)"
   ]
  },
  {
   "cell_type": "code",
   "execution_count": 5,
   "metadata": {},
   "outputs": [
    {
     "name": "stdout",
     "output_type": "stream",
     "text": [
      "done\n"
     ]
    }
   ],
   "source": [
    "sample_submission = pd.read_csv(\"../input/sample_submission.csv\")\n",
    "sample_submission[list_classes] = test_pred\n",
    "sample_submission.to_csv(\"../results/lstm_1_csv.gz\", index=False, compression='gzip')\n",
    "import pickle\n",
    "with open('../features/lstm_1_feat.pkl','wb') as fout:\n",
    "    pickle.dump([train_pred,test_pred],fout)\n",
    "print('done')"
   ]
  }
 ],
 "metadata": {
  "kernelspec": {
   "display_name": "Python 3",
   "language": "python",
   "name": "python3"
  },
  "language_info": {
   "codemirror_mode": {
    "name": "ipython",
    "version": 3
   },
   "file_extension": ".py",
   "mimetype": "text/x-python",
   "name": "python",
   "nbconvert_exporter": "python",
   "pygments_lexer": "ipython3",
   "version": "3.5.2"
  }
 },
 "nbformat": 4,
 "nbformat_minor": 2
}
