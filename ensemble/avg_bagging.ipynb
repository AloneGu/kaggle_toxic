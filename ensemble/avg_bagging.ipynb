{
 "cells": [
  {
   "cell_type": "code",
   "execution_count": 8,
   "metadata": {},
   "outputs": [
    {
     "name": "stdout",
     "output_type": "stream",
     "text": [
      "(4, 153164, 6)\n",
      "(153164, 6)\n"
     ]
    }
   ],
   "source": [
    "import pickle\n",
    "\n",
    "test_x = []\n",
    "def get_feat(f):\n",
    "    with open(f,'rb') as fin:\n",
    "        a,b = pickle.load(fin)\n",
    "        return b\n",
    "\n",
    "feat_files = [\n",
    "    '../features/glove_cnn_gru_4_feat.pkl',\n",
    "    '../features/glove_cudnn_gru_4_feat.pkl',\n",
    "    '../features/glove_lstm_v1_4_feat.pkl',\n",
    "    '../features/glove_gru_v1_4_feat.pkl'\n",
    "]\n",
    "for f in feat_files:\n",
    "    b = get_feat(f)\n",
    "    test_x.append(b)\n",
    "\n",
    "import numpy as np\n",
    "test_x = np.array(test_x)\n",
    "print(test_x.shape)\n",
    "mean_test_x = np.mean(test_x,axis=0)\n",
    "print(mean_test_x.shape)"
   ]
  },
  {
   "cell_type": "code",
   "execution_count": 9,
   "metadata": {},
   "outputs": [
    {
     "name": "stdout",
     "output_type": "stream",
     "text": [
      "                 id     toxic  severe_toxic   obscene    threat    insult  \\\n",
      "0  00001cee341fdb12  0.995861      0.465433  0.965190  0.157851  0.916416   \n",
      "1  0000247867823ef7  0.000473      0.000004  0.000121  0.000003  0.000058   \n",
      "2  00013b17ad220c46  0.001627      0.000072  0.000693  0.000064  0.000392   \n",
      "3  00017563c3f7919a  0.000332      0.000002  0.000076  0.000006  0.000047   \n",
      "4  00017695ad8997eb  0.007078      0.000040  0.001054  0.000080  0.000575   \n",
      "\n",
      "   identity_hate  \n",
      "0       0.497567  \n",
      "1       0.000016  \n",
      "2       0.000145  \n",
      "3       0.000009  \n",
      "4       0.000124  \n",
      "save done\n"
     ]
    }
   ],
   "source": [
    "import pandas as pd\n",
    "sample_submission = pd.read_csv(\"../input/sample_submission.csv\")\n",
    "list_classes = [\"toxic\", \"severe_toxic\", \"obscene\", \"threat\", \"insult\", \"identity_hate\"]\n",
    "sample_submission[list_classes] = mean_test_x\n",
    "sample_submission.to_csv(\"../results/avg_bagging.csv.gz\", index=False, compression='gzip')\n",
    "print(sample_submission.head())\n",
    "print('save done')"
   ]
  }
 ],
 "metadata": {
  "kernelspec": {
   "display_name": "Python 3",
   "language": "python",
   "name": "python3"
  },
  "language_info": {
   "codemirror_mode": {
    "name": "ipython",
    "version": 3
   },
   "file_extension": ".py",
   "mimetype": "text/x-python",
   "name": "python",
   "nbconvert_exporter": "python",
   "pygments_lexer": "ipython3",
   "version": "3.5.2"
  }
 },
 "nbformat": 4,
 "nbformat_minor": 2
}
