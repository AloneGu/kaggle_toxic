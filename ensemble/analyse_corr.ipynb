{
 "cells": [
  {
   "cell_type": "code",
   "execution_count": 6,
   "metadata": {},
   "outputs": [
    {
     "name": "stdout",
     "output_type": "stream",
     "text": [
      "../features/fasttext_cnn2d_4_feat.pkl\n",
      "../features/fasttext_cnn_gru_4_feat.pkl\n",
      "../features/fasttext_cnn_v1_4_feat.pkl\n",
      "../features/fasttext_cnn_v2_4_feat.pkl\n",
      "../features/fasttext_cudnn_gru_4_feat.pkl\n",
      "../features/fasttext_gru_v1_4_feat.pkl\n",
      "../features/fasttext_lstm_v1_4_feat.pkl\n",
      "../features/glove_cnn2d_4_feat.pkl\n",
      "../features/glove_cnn_gru_4_feat.pkl\n",
      "../features/glove_cnn_v1_4_feat.pkl\n",
      "../features/glove_cnn_v2_4_feat.pkl\n",
      "../features/glove_cudnn_gru_4_feat.pkl\n",
      "../features/glove_gru_v1_4_feat.pkl\n",
      "../features/glove_lstm_v1_4_feat.pkl\n",
      "../features/lr_feat1.pkl\n",
      "../features/lr_feat2.pkl\n",
      "../features/lstm_attention_fasttext_10_feat.pkl\n",
      "../features/lstm_attention_fasttext_4_feat.pkl\n",
      "../features/lstm_attention_fasttext_adj2_4_feat.pkl\n",
      "../features/lstm_attention_glove_4_feat.pkl\n",
      "../features/mnb_feat1.pkl\n",
      "../features/mnb_feat2.pkl\n",
      "../features/muse_cnn2d_4_feat.pkl\n",
      "../features/muse_cnn_gru_4_feat.pkl\n",
      "../features/muse_cnn_v1_4_feat.pkl\n",
      "../features/muse_cnn_v2_4_feat.pkl\n",
      "../features/muse_cudnn_gru_4_feat.pkl\n",
      "../features/muse_gru_v1_4_feat.pkl\n",
      "../features/muse_lstm_v1_4_feat.pkl\n",
      "../features/no_pretrained_cnn2d_4_feat.pkl\n",
      "../features/no_pretrained_cnn_gru_4_feat.pkl\n",
      "../features/no_pretrained_cnn_v1_4_feat.pkl\n",
      "../features/no_pretrained_cnn_v2_4_feat.pkl\n",
      "../features/no_pretrained_cudnn_gru_4_feat.pkl\n",
      "../features/no_pretrained_gru_v1_4_feat.pkl\n",
      "../features/no_pretrained_lstm_v1_4_feat.pkl\n",
      "../features/pool_gru_fasttext_4_feat.pkl\n",
      "../features/pool_gru_fasttext_adj1_10_feat.pkl\n",
      "../features/pool_gru_fasttext_adj2_4_feat.pkl\n",
      "../features/pool_gru_glove_4_feat.pkl\n",
      "load data done\n"
     ]
    }
   ],
   "source": [
    "import numpy as np\n",
    "import pickle\n",
    "import glob\n",
    "\n",
    "def cal_corr(a,b,one_row=True):\n",
    "    if one_row is True:\n",
    "        return np.corrcoef(a[:,0],b[:,0])[0][1]\n",
    "    else:\n",
    "        res = [np.corrcoef(a[:,i],b[:,i])[0][1] for i in range(6)]\n",
    "        return np.mean(res)\n",
    "\n",
    "train_x = []\n",
    "fl = []\n",
    "for f in sorted(glob.glob('../features/*.pkl')):\n",
    "    if 'tfidf' not in f and 'other' not in f and '3_feat' not in f:\n",
    "        fl.append(f)\n",
    "        \n",
    "for f in fl:\n",
    "    a,b = pickle.load(open(f,'rb'))\n",
    "    train_x.append(a)\n",
    "    print(f)\n",
    "print('load data done')"
   ]
  },
  {
   "cell_type": "code",
   "execution_count": 7,
   "metadata": {},
   "outputs": [
    {
     "name": "stdout",
     "output_type": "stream",
     "text": [
      "cal done (40, 40)\n"
     ]
    }
   ],
   "source": [
    "fl_cnt = len(fl)\n",
    "res_mat = np.zeros((fl_cnt,fl_cnt))\n",
    "for i in range(fl_cnt-1):\n",
    "    for j in range(i+1,fl_cnt):\n",
    "        tmp_corr = cal_corr(train_x[i],train_x[j],False)\n",
    "        res_mat[i][j] = tmp_corr\n",
    "        res_mat[j][i] = tmp_corr\n",
    "print('cal done',res_mat.shape)\n",
    "res_mat = np.nan_to_num(res_mat)"
   ]
  },
  {
   "cell_type": "code",
   "execution_count": 8,
   "metadata": {},
   "outputs": [
    {
     "name": "stdout",
     "output_type": "stream",
     "text": [
      "0.958165109825\n",
      "[[  1.48037798e-04   6.22054535e-12   4.26454420e-07   2.00402912e-08\n",
      "    4.00732660e-07   5.78328745e-08]\n",
      " [  3.19964369e-04   9.11831721e-11   1.69163718e-06   9.12725682e-08\n",
      "    3.44289970e-06   1.14663372e-07]\n",
      " [  9.89913009e-03   1.83154789e-08   3.08969902e-05   1.45045715e-05\n",
      "    1.59370480e-04   2.01673242e-06]\n",
      " [  9.29472735e-05   1.57616357e-12   1.86410304e-07   6.67472762e-08\n",
      "    4.59105848e-07   7.00673608e-09]\n",
      " [  2.42924318e-01   7.27610241e-05   9.20102466e-03   1.21467200e-03\n",
      "    4.97309566e-02   1.64749753e-03]]\n",
      "[[  4.92525147e-03   7.41951135e-06   6.33513206e-04   1.21387620e-05\n",
      "    3.52815812e-04   2.84401849e-05]\n",
      " [  3.83770937e-04   2.06647269e-06   5.53762256e-05   2.66920847e-06\n",
      "    7.07801955e-05   1.67529142e-05]\n",
      " [  2.48246687e-03   1.02686136e-05   2.49065779e-04   2.98265131e-05\n",
      "    1.67565624e-04   2.36932829e-05]\n",
      " [  6.85612758e-05   4.59551721e-08   5.51765788e-06   9.87170452e-08\n",
      "    5.03219235e-06   3.50690186e-07]\n",
      " [  2.10395269e-02   1.85794779e-04   2.24792096e-03   7.25224032e-04\n",
      "    4.67054825e-03   2.13185718e-04]]\n",
      "15858.2501337\n"
     ]
    }
   ],
   "source": [
    "test_a = train_x[0]\n",
    "test_b = train_x[12]\n",
    "print(cal_corr(test_a,test_b))\n",
    "print(test_a[:5])\n",
    "print(test_b[:5])\n",
    "print(np.sum(test_b[:,0]))"
   ]
  },
  {
   "cell_type": "code",
   "execution_count": 10,
   "metadata": {},
   "outputs": [
    {
     "name": "stdout",
     "output_type": "stream",
     "text": [
      "[0.67939489540431774, 0.69155702611337344, 0.7756592044156374, 'mnb_feat2.pkl']\n",
      "[0.68752591898409865, 0.70142962873679982, 0.76471669594415115, 'mnb_feat1.pkl']\n",
      "[0.74652333143437244, 0.74937099711340649, 0.95254571882786465, 'no_pretrained_lstm_v1_4_feat.pkl']\n",
      "[0.75183614045571168, 0.75498645020972477, 0.95254571882786465, 'no_pretrained_gru_v1_4_feat.pkl']\n",
      "[0.75432590699253044, 0.76078637165563245, 0.90414914849568795, 'no_pretrained_cudnn_gru_4_feat.pkl']\n",
      "[0.78728445836563643, 0.81381975569547227, 0.87705720426002243, 'no_pretrained_cnn_v1_4_feat.pkl']\n",
      "[0.78823646485083709, 0.81818037178936787, 0.96594914935110021, 'lr_feat1.pkl']\n",
      "[0.80249414961679177, 0.82408846531988023, 0.8737809495106782, 'no_pretrained_cnn_gru_4_feat.pkl']\n",
      "[0.80712415180426544, 0.83050594952498025, 0.89799976102516699, 'no_pretrained_cnn2d_4_feat.pkl']\n",
      "[0.80946157102108174, 0.84234945940572736, 0.96594914935110021, 'lr_feat2.pkl']\n",
      "[0.81622079269691228, 0.84175283240522769, 0.89799976102516699, 'no_pretrained_cnn_v2_4_feat.pkl']\n",
      "[0.84343309163461311, 0.89191194801711515, 0.92591615325307652, 'fasttext_cnn_v2_4_feat.pkl']\n",
      "[0.84386701279505727, 0.89142001403404769, 0.94010966585674272, 'glove_cnn_v2_4_feat.pkl']\n",
      "[0.84539060664387955, 0.89303022744204097, 0.93186452475168757, 'fasttext_cnn_v1_4_feat.pkl']\n",
      "[0.84908691171812012, 0.89646515352392231, 0.93771416310985745, 'pool_gru_fasttext_adj2_4_feat.pkl']\n",
      "[0.84943574137511424, 0.89209006206372188, 0.94185814663489975, 'muse_cnn2d_4_feat.pkl']\n",
      "[0.84945640942129974, 0.89622981148907421, 0.93061685976627173, 'glove_cnn_gru_4_feat.pkl']\n",
      "[0.85069877079521139, 0.89958372900834305, 0.94010966585674272, 'glove_cnn2d_4_feat.pkl']\n",
      "[0.85119254705205594, 0.90659291210637516, 0.92718253839954923, 'muse_cnn_gru_4_feat.pkl']\n",
      "[0.85137952953321461, 0.89987284801206646, 0.93186452475168757, 'fasttext_cnn2d_4_feat.pkl']\n",
      "[0.85204197139118421, 0.89191017035663434, 0.94185814663489975, 'muse_cnn_v2_4_feat.pkl']\n",
      "[0.85306711114108147, 0.90543944041605617, 0.93360416432579763, 'fasttext_cnn_gru_4_feat.pkl']\n",
      "[0.8531244668629594, 0.89879629849212028, 0.93593467034999867, 'fasttext_cudnn_gru_4_feat.pkl']\n",
      "[0.85332379600745989, 0.89243484167671838, 0.95214073216101436, 'muse_lstm_v1_4_feat.pkl']\n",
      "[0.8535038602769498, 0.90514122545894315, 0.93143468843594979, 'muse_cudnn_gru_4_feat.pkl']\n",
      "[0.85380843322587552, 0.90449166404311265, 0.93353897303202915, 'glove_cnn_v1_4_feat.pkl']\n",
      "[0.8538550590879046, 0.90023770511352486, 0.93401069101940726, 'lstm_attention_glove_4_feat.pkl']\n",
      "[0.85435366087460363, 0.90104481678068926, 0.93641679573279368, 'glove_cudnn_gru_4_feat.pkl']\n",
      "[0.85599735118756537, 0.90007086130405201, 0.94378835943629669, 'pool_gru_glove_4_feat.pkl']\n",
      "[0.85643012672180663, 0.90337206874048315, 0.94156353748678434, 'muse_cnn_v1_4_feat.pkl']\n",
      "[0.85695183540736186, 0.90401831330670124, 0.94802365603170868, 'pool_gru_fasttext_adj1_10_feat.pkl']\n",
      "[0.85785861324331414, 0.9007356602426605, 0.95214073216101436, 'muse_gru_v1_4_feat.pkl']\n",
      "[0.85790284394321215, 0.90724638124105583, 0.95053890187872925, 'lstm_attention_fasttext_adj2_4_feat.pkl']\n",
      "[0.86223717569586322, 0.91206880505875954, 0.95129481376138003, 'fasttext_lstm_v1_4_feat.pkl']\n",
      "[0.863108413922274, 0.91441428038516581, 0.94967710960583951, 'fasttext_gru_v1_4_feat.pkl']\n",
      "[0.86343289853838634, 0.91394533735444838, 0.95072404685194412, 'glove_gru_v1_4_feat.pkl']\n",
      "[0.86413259781091512, 0.91319747212178659, 0.95593698333011001, 'lstm_attention_fasttext_4_feat.pkl']\n",
      "[0.86445679307535206, 0.9146110355531869, 0.95072404685194412, 'glove_lstm_v1_4_feat.pkl']\n",
      "[0.8653319996019313, 0.9144266268313237, 0.95593698333011001, 'lstm_attention_fasttext_10_feat.pkl']\n",
      "[0.86547760766673121, 0.91532687615010855, 0.95403391978661611, 'pool_gru_fasttext_4_feat.pkl']\n"
     ]
    }
   ],
   "source": [
    "analyse_res = []\n",
    "for i in range(fl_cnt):\n",
    "    analyse_res.append([np.mean(res_mat[i]),np.median(res_mat[i]),np.max(res_mat[i]),fl[i][12:]])\n",
    "analyse_res = sorted(analyse_res,key = lambda x:x[0])\n",
    "for r in analyse_res:\n",
    "    print(r)"
   ]
  }
 ],
 "metadata": {
  "kernelspec": {
   "display_name": "Python 3",
   "language": "python",
   "name": "python3"
  },
  "language_info": {
   "codemirror_mode": {
    "name": "ipython",
    "version": 3
   },
   "file_extension": ".py",
   "mimetype": "text/x-python",
   "name": "python",
   "nbconvert_exporter": "python",
   "pygments_lexer": "ipython3",
   "version": "3.5.2"
  }
 },
 "nbformat": 4,
 "nbformat_minor": 2
}
