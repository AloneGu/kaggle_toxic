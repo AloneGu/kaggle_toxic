{
 "cells": [
  {
   "cell_type": "code",
   "execution_count": 16,
   "metadata": {},
   "outputs": [
    {
     "name": "stdout",
     "output_type": "stream",
     "text": [
      "../features/glove_cnn2d_4_feat.pkl\n",
      "../features/glove_cnn_gru_4_feat.pkl\n",
      "../features/glove_cnn_v1_4_feat.pkl\n",
      "../features/glove_cnn_v2_4_feat.pkl\n",
      "../features/glove_cudnn_gru_4_feat.pkl\n",
      "../features/glove_gru_v1_4_feat.pkl\n",
      "../features/glove_lstm_v1_4_feat.pkl\n",
      "../features/lr_feat1.pkl\n",
      "../features/lr_feat2.pkl\n",
      "../features/lstm_attention_fasttext_10_feat.pkl\n",
      "../features/lstm_attention_fasttext_4_feat.pkl\n",
      "../features/lstm_attention_glove_4_feat.pkl\n",
      "../features/mnb_feat1.pkl\n",
      "../features/mnb_feat2.pkl\n",
      "../features/muse_cnn2d_4_feat.pkl\n",
      "../features/muse_cnn_gru_4_feat.pkl\n",
      "../features/muse_cnn_v1_4_feat.pkl\n",
      "../features/muse_cnn_v2_4_feat.pkl\n",
      "../features/muse_cudnn_gru_4_feat.pkl\n",
      "../features/muse_gru_v1_4_feat.pkl\n",
      "../features/muse_lstm_v1_4_feat.pkl\n",
      "../features/no_pretrained_cnn2d_4_feat.pkl\n",
      "../features/no_pretrained_cnn_gru_4_feat.pkl\n",
      "../features/no_pretrained_cnn_v1_4_feat.pkl\n",
      "../features/no_pretrained_cnn_v2_4_feat.pkl\n",
      "../features/no_pretrained_cudnn_gru_4_feat.pkl\n",
      "../features/no_pretrained_gru_v1_4_feat.pkl\n",
      "../features/no_pretrained_lstm_v1_4_feat.pkl\n",
      "../features/pool_gru_fasttext_4_feat.pkl\n",
      "../features/pool_gru_fasttext_adj1_10_feat.pkl\n",
      "../features/pool_gru_glove_4_feat.pkl\n",
      "load data done\n"
     ]
    }
   ],
   "source": [
    "import numpy as np\n",
    "import pickle\n",
    "import glob\n",
    "\n",
    "def cal_corr(a,b,one_row=True):\n",
    "    if one_row is True:\n",
    "        return np.corrcoef(a[:,0],b[:,0])[0][1]\n",
    "    else:\n",
    "        res = [np.corrcoef(a[:,i],b[:,i])[0][1] for i in range(6)]\n",
    "        return np.mean(res)\n",
    "\n",
    "train_x = []\n",
    "fl = []\n",
    "for f in sorted(glob.glob('../features/*.pkl')):\n",
    "    if 'tfidf' not in f and 'other' not in f and '3_f' not in f:\n",
    "        fl.append(f)\n",
    "        \n",
    "for f in fl:\n",
    "    a,b = pickle.load(open(f,'rb'))\n",
    "    train_x.append(a)\n",
    "    print(f)\n",
    "print('load data done')"
   ]
  },
  {
   "cell_type": "code",
   "execution_count": 17,
   "metadata": {},
   "outputs": [
    {
     "name": "stdout",
     "output_type": "stream",
     "text": [
      "cal done (31, 31)\n"
     ]
    }
   ],
   "source": [
    "fl_cnt = len(fl)\n",
    "res_mat = np.zeros((fl_cnt,fl_cnt))\n",
    "for i in range(fl_cnt-1):\n",
    "    for j in range(i+1,fl_cnt):\n",
    "        tmp_corr = cal_corr(train_x[i],train_x[j])\n",
    "        res_mat[i][j] = tmp_corr\n",
    "        res_mat[j][i] = tmp_corr\n",
    "print('cal done',res_mat.shape)\n",
    "res_mat = np.nan_to_num(res_mat)"
   ]
  },
  {
   "cell_type": "code",
   "execution_count": 18,
   "metadata": {},
   "outputs": [
    {
     "name": "stdout",
     "output_type": "stream",
     "text": [
      "0.876716655578\n",
      "[[  3.18066287e-03   1.46607393e-10   6.69709843e-05   1.39526080e-09\n",
      "    5.61561728e-06   8.94634677e-09]\n",
      " [  6.85001200e-04   2.75963592e-11   9.62780996e-06   3.32025629e-09\n",
      "    4.69579248e-07   8.01703681e-09]\n",
      " [  1.74629688e-02   1.02030704e-07   4.83402342e-04   2.70689657e-06\n",
      "    2.13257299e-04   3.89799334e-06]\n",
      " [  6.94290929e-06   3.67692847e-16   3.37240280e-08   1.14471789e-12\n",
      "    9.11267117e-10   8.15947028e-13]\n",
      " [  8.93487409e-02   2.33398023e-05   3.91921075e-03   1.93998843e-04\n",
      "    7.56848650e-03   2.71176861e-04]]\n",
      "[[  1.76546197e-02   3.50080481e-04   6.66535786e-03   5.29894606e-05\n",
      "    6.53072580e-03   2.62805095e-04]\n",
      " [  1.50524393e-02   7.24923868e-04   3.42386751e-03   1.99011435e-04\n",
      "    3.73284645e-03   8.02658926e-04]\n",
      " [  5.44785295e-02   5.91223394e-05   1.02516519e-02   1.18098348e-06\n",
      "    1.02670761e-02   5.41385091e-05]\n",
      " [  2.20330909e-04   5.20939922e-06   6.64223569e-05   1.58785154e-06\n",
      "    5.27213414e-05   1.11970962e-05]\n",
      " [  1.29794267e-01   7.24766191e-04   6.97152123e-02   1.30267943e-04\n",
      "    5.86215661e-02   1.77005433e-03]]\n",
      "14580.2121592\n"
     ]
    }
   ],
   "source": [
    "test_a = train_x[0]\n",
    "test_b = train_x[12]\n",
    "print(cal_corr(test_a,test_b))\n",
    "print(test_a[:5])\n",
    "print(test_b[:5])\n",
    "print(np.sum(test_b[:,0]))"
   ]
  },
  {
   "cell_type": "code",
   "execution_count": 20,
   "metadata": {},
   "outputs": [
    {
     "name": "stdout",
     "output_type": "stream",
     "text": [
      "0.911877386582 0.953160043451 glove_cnn2d_4_feat.pkl\n",
      "0.912418264323 0.952879443178 glove_cnn_gru_4_feat.pkl\n",
      "0.914138353512 0.954377088874 glove_cnn_v1_4_feat.pkl\n",
      "0.908405652523 0.946695680891 glove_cnn_v2_4_feat.pkl\n",
      "0.916505892379 0.95654374303 glove_cudnn_gru_4_feat.pkl\n",
      "0.919767398718 0.959213128966 glove_gru_v1_4_feat.pkl\n",
      "0.920876298046 0.96140664513 glove_lstm_v1_4_feat.pkl\n",
      "0.887427390973 0.917563579234 lr_feat1.pkl\n",
      "0.894702195461 0.924334913168 lr_feat2.pkl\n",
      "0.918560967839 0.955763247039 lstm_attention_fasttext_10_feat.pkl\n",
      "0.917846360785 0.953440930752 lstm_attention_fasttext_4_feat.pkl\n",
      "0.917131677884 0.957183053493 lstm_attention_glove_4_feat.pkl\n",
      "0.848727290515 0.874596655898 mnb_feat1.pkl\n",
      "0.787793171025 0.809951854823 mnb_feat2.pkl\n",
      "0.909987380577 0.948304011743 muse_cnn2d_4_feat.pkl\n",
      "0.911032248405 0.954697953505 muse_cnn_gru_4_feat.pkl\n",
      "0.911880269914 0.950286500873 muse_cnn_v1_4_feat.pkl\n",
      "0.909280932312 0.948386572926 muse_cnn_v2_4_feat.pkl\n",
      "0.913200222339 0.956526298622 muse_cudnn_gru_4_feat.pkl\n",
      "0.918851894061 0.957990776581 muse_gru_v1_4_feat.pkl\n",
      "0.916481910785 0.955954506024 muse_lstm_v1_4_feat.pkl\n",
      "0.900682569631 0.93583038837 no_pretrained_cnn2d_4_feat.pkl\n",
      "0.899718252281 0.9362513927 no_pretrained_cnn_gru_4_feat.pkl\n",
      "0.901283904822 0.935961740311 no_pretrained_cnn_v1_4_feat.pkl\n",
      "0.900957990369 0.936463048263 no_pretrained_cnn_v2_4_feat.pkl\n",
      "0.901557589596 0.939094541901 no_pretrained_cudnn_gru_4_feat.pkl\n",
      "0.905878410159 0.941181713574 no_pretrained_gru_v1_4_feat.pkl\n",
      "0.908562385507 0.945981037307 no_pretrained_lstm_v1_4_feat.pkl\n",
      "0.9207133204 0.955461157568 pool_gru_fasttext_4_feat.pkl\n",
      "0.914597845159 0.948022497774 pool_gru_fasttext_adj1_10_feat.pkl\n",
      "0.917466790117 0.956947280729 pool_gru_glove_4_feat.pkl\n"
     ]
    }
   ],
   "source": [
    "for i in range(fl_cnt):\n",
    "    print(np.mean(res_mat[i]),np.median(res_mat[i]),fl[i][12:])"
   ]
  }
 ],
 "metadata": {
  "kernelspec": {
   "display_name": "Python 3",
   "language": "python",
   "name": "python3"
  },
  "language_info": {
   "codemirror_mode": {
    "name": "ipython",
    "version": 3
   },
   "file_extension": ".py",
   "mimetype": "text/x-python",
   "name": "python",
   "nbconvert_exporter": "python",
   "pygments_lexer": "ipython3",
   "version": "3.5.2"
  }
 },
 "nbformat": 4,
 "nbformat_minor": 2
}
