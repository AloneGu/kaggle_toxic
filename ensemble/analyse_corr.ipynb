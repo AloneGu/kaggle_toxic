{
 "cells": [
  {
   "cell_type": "code",
   "execution_count": 1,
   "metadata": {},
   "outputs": [
    {
     "name": "stdout",
     "output_type": "stream",
     "text": [
      "../features/fasttext_cnn2d_5_feat.pkl\n",
      "../features/fasttext_cnn_gru_5_feat.pkl\n",
      "../features/fasttext_cnn_v1_5_feat.pkl\n",
      "../features/fasttext_cnn_v2_5_feat.pkl\n",
      "../features/fasttext_cudnn_gru_5_feat.pkl\n",
      "../features/fasttext_gru_v1_5_feat.pkl\n",
      "../features/fasttext_lstm_v1_5_feat.pkl\n",
      "../features/glove_cnn2d_5_feat.pkl\n",
      "../features/glove_cnn_gru_5_feat.pkl\n",
      "../features/glove_cnn_v1_5_feat.pkl\n",
      "../features/glove_cnn_v2_5_feat.pkl\n",
      "../features/glove_cudnn_gru_5_feat.pkl\n",
      "../features/glove_gru_v1_5_feat.pkl\n",
      "../features/glove_lstm_v1_5_feat.pkl\n",
      "../features/lgb1_feat.pkl\n",
      "../features/lr_feat1.pkl\n",
      "../features/lr_feat2.pkl\n",
      "../features/lstm_attention_fasttext_10_feat.pkl\n",
      "../features/lstm_attention_fasttext_4_feat.pkl\n",
      "../features/lstm_attention_fasttext_adj2_4_feat.pkl\n",
      "../features/lstm_attention_glove_5_feat.pkl\n",
      "../features/mnb_feat1.pkl\n",
      "../features/mnb_feat2.pkl\n",
      "../features/muse_cnn2d_5_feat.pkl\n",
      "../features/muse_cnn_gru_5_feat.pkl\n",
      "../features/muse_cnn_v1_5_feat.pkl\n",
      "../features/muse_cnn_v2_5_feat.pkl\n",
      "../features/muse_cudnn_gru_5_feat.pkl\n",
      "../features/muse_gru_v1_5_feat.pkl\n",
      "../features/muse_lstm_v1_5_feat.pkl\n",
      "../features/no_pretrained_cnn2d_5_feat.pkl\n",
      "../features/no_pretrained_cnn_gru_5_feat.pkl\n",
      "../features/no_pretrained_cnn_v1_5_feat.pkl\n",
      "../features/no_pretrained_cnn_v2_5_feat.pkl\n",
      "../features/no_pretrained_cudnn_gru_5_feat.pkl\n",
      "../features/no_pretrained_gru_v1_5_feat.pkl\n",
      "../features/no_pretrained_lstm_v1_5_feat.pkl\n",
      "../features/pool_gru_fasttext_5_feat.pkl\n",
      "../features/pool_gru_fasttext_adj1_10_feat.pkl\n",
      "../features/pool_gru_fasttext_adj2_10_feat.pkl\n",
      "../features/pool_gru_fasttext_adj2_5_feat.pkl\n",
      "../features/pool_gru_glove_5_feat.pkl\n",
      "../features/ridge_feat1.pkl\n",
      "../features/ridge_feat2.pkl\n",
      "../features/tilli_lr_feat.pkl\n",
      "../features/wordbatch_feat.pkl\n",
      "load data done\n"
     ]
    }
   ],
   "source": [
    "import numpy as np\n",
    "import pickle\n",
    "import glob\n",
    "\n",
    "def cal_corr(a,b,one_row=True):\n",
    "    if one_row is True:\n",
    "        return np.corrcoef(a[:,0],b[:,0])[0][1]\n",
    "    else:\n",
    "        res = [np.corrcoef(a[:,i],b[:,i])[0][1] for i in range(6)]\n",
    "        return np.mean(res)\n",
    "\n",
    "train_x = []\n",
    "fl = []\n",
    "for f in sorted(glob.glob('../features/*.pkl')):\n",
    "    if 'tfidf' not in f and 'other' not in f and '3_feat' not in f:\n",
    "        fl.append(f)\n",
    "        \n",
    "for f in fl:\n",
    "    a,b = pickle.load(open(f,'rb'))\n",
    "    train_x.append(a)\n",
    "    print(f)\n",
    "print('load data done')"
   ]
  },
  {
   "cell_type": "code",
   "execution_count": 2,
   "metadata": {},
   "outputs": [
    {
     "name": "stdout",
     "output_type": "stream",
     "text": [
      "cal done (46, 46)\n"
     ]
    }
   ],
   "source": [
    "fl_cnt = len(fl)\n",
    "res_mat = np.zeros((fl_cnt,fl_cnt))\n",
    "for i in range(fl_cnt-1):\n",
    "    for j in range(i+1,fl_cnt):\n",
    "        tmp_corr = cal_corr(train_x[i],train_x[j],False)\n",
    "        res_mat[i][j] = tmp_corr\n",
    "        res_mat[j][i] = tmp_corr\n",
    "print('cal done',res_mat.shape)\n",
    "res_mat = np.nan_to_num(res_mat)"
   ]
  },
  {
   "cell_type": "code",
   "execution_count": 3,
   "metadata": {},
   "outputs": [
    {
     "name": "stdout",
     "output_type": "stream",
     "text": [
      "0.9608924978796024\n",
      "[[3.20521576e-05 3.98428599e-12 1.90362641e-07 4.36426484e-15\n",
      "  3.14909670e-07 2.49261084e-10]\n",
      " [1.42907200e-04 1.69840975e-10 1.77110860e-06 2.18906295e-12\n",
      "  6.21336949e-06 3.83308940e-09]\n",
      " [8.76327744e-04 3.68509806e-10 2.25334020e-06 3.22176147e-10\n",
      "  1.03769216e-05 2.05179180e-08]\n",
      " [6.77179269e-05 1.01267345e-12 7.35122470e-08 1.18939851e-13\n",
      "  2.61967642e-07 3.69467651e-10]\n",
      " [8.36364850e-02 6.14278042e-06 1.11312210e-03 5.75979470e-07\n",
      "  1.33209294e-02 6.68102366e-05]]\n",
      "[[1.35820569e-03 2.64602491e-08 7.45805519e-05 1.51826526e-07\n",
      "  1.06049876e-04 7.13351540e-07]\n",
      " [1.64261408e-04 3.51814489e-09 6.80392168e-06 1.90888585e-07\n",
      "  2.81400480e-05 1.16106300e-07]\n",
      " [9.12487623e-04 7.20722149e-09 7.75391163e-06 9.09238952e-06\n",
      "  4.81078714e-05 3.81973223e-07]\n",
      " [3.42990279e-05 4.78161122e-11 3.10370297e-07 5.62037350e-08\n",
      "  1.28343720e-06 2.04692041e-09]\n",
      " [4.14993539e-02 1.94548102e-05 1.26035721e-03 3.88235028e-04\n",
      "  7.76835298e-03 8.30181671e-05]]\n",
      "15277.997762671866\n"
     ]
    }
   ],
   "source": [
    "test_a = train_x[0]\n",
    "test_b = train_x[12]\n",
    "print(cal_corr(test_a,test_b))\n",
    "print(test_a[:5])\n",
    "print(test_b[:5])\n",
    "print(np.sum(test_b[:,0]))"
   ]
  },
  {
   "cell_type": "code",
   "execution_count": 4,
   "metadata": {},
   "outputs": [
    {
     "name": "stdout",
     "output_type": "stream",
     "text": [
      "[0.6776730756098152, 0.6831025090173419, 0.8068040734973191, 'mnb_feat2.pkl']\n",
      "[0.7053671890334733, 0.7174104709524456, 0.7826823308344061, 'mnb_feat1.pkl']\n",
      "[0.7701159003601533, 0.7881957613928954, 0.8420258316646626, 'no_pretrained_cudnn_gru_5_feat.pkl']\n",
      "[0.7716015805065265, 0.7811111139804376, 0.922205032541375, 'wordbatch_feat.pkl']\n",
      "[0.78167986509406, 0.8041786749880966, 0.8445985173440086, 'no_pretrained_cnn_gru_5_feat.pkl']\n",
      "[0.7825262667485557, 0.7979910041000231, 0.8845445301090394, 'tilli_lr_feat.pkl']\n",
      "[0.7841201811159287, 0.8031708339234738, 0.8711954613322591, 'no_pretrained_cnn2d_5_feat.pkl']\n",
      "[0.7898881146376171, 0.8044102797029311, 0.9693219675022369, 'ridge_feat1.pkl']\n",
      "[0.7927920330797893, 0.8161793180443441, 0.8711954613322591, 'no_pretrained_cnn_v2_5_feat.pkl']\n",
      "[0.799934879784759, 0.8229530974661494, 0.8613799902665544, 'no_pretrained_cnn_v1_5_feat.pkl']\n",
      "[0.803750052164476, 0.8257089518365823, 0.9671418540417513, 'lr_feat1.pkl']\n",
      "[0.8053997878816356, 0.823547397511804, 0.9693219675022369, 'ridge_feat2.pkl']\n",
      "[0.8124207220133988, 0.842923716068601, 0.9066297538549574, 'lgb1_feat.pkl']\n",
      "[0.8223764198267425, 0.8469751686012377, 0.9671418540417513, 'lr_feat2.pkl']\n",
      "[0.8295644198654885, 0.8589502970516417, 0.8812798619685035, 'no_pretrained_lstm_v1_5_feat.pkl']\n",
      "[0.8313089044654957, 0.8638038821617234, 0.8828610705470781, 'no_pretrained_gru_v1_5_feat.pkl']\n",
      "[0.8316081195393926, 0.8687200917341771, 0.9043625330096327, 'glove_cnn_v2_5_feat.pkl']\n",
      "[0.8366388545260844, 0.8787739401695945, 0.9082449294843516, 'glove_cnn_gru_5_feat.pkl']\n",
      "[0.8366980453714631, 0.8739285800126907, 0.9099444269339084, 'glove_cnn2d_5_feat.pkl']\n",
      "[0.8407618248016789, 0.8790947621037463, 0.9234210701495412, 'muse_cudnn_gru_5_feat.pkl']\n",
      "[0.8429576730768475, 0.881150820685267, 0.9188233153052835, 'glove_cnn_v1_5_feat.pkl']\n",
      "[0.8437308961257344, 0.879331510131987, 0.9173828704383479, 'glove_cudnn_gru_5_feat.pkl']\n",
      "[0.8464696224866792, 0.8838012446696614, 0.925275176526534, 'muse_cnn_v2_5_feat.pkl']\n",
      "[0.8486237548534395, 0.8819541674184698, 0.928718589424881, 'muse_cnn2d_5_feat.pkl']\n",
      "[0.8495008092057235, 0.8924442610153561, 0.9270013801315592, 'fasttext_cnn_v2_5_feat.pkl']\n",
      "[0.8498459218702663, 0.8940211743122314, 0.9317024958606405, 'fasttext_cnn_gru_5_feat.pkl']\n",
      "[0.8500869264980714, 0.8962628112257921, 0.9208447669409194, 'muse_cnn_gru_5_feat.pkl']\n",
      "[0.8502578307608587, 0.894692492164042, 0.9256840656598481, 'fasttext_cudnn_gru_5_feat.pkl']\n",
      "[0.8509661154484006, 0.8870847372825139, 0.9545739133609206, 'pool_gru_fasttext_adj2_5_feat.pkl']\n",
      "[0.8522967768777419, 0.895366476944151, 0.9281964250012757, 'fasttext_cnn_v1_5_feat.pkl']\n",
      "[0.8526453308960645, 0.8933480602627758, 0.9342302343129881, 'glove_lstm_v1_5_feat.pkl']\n",
      "[0.8529927628910178, 0.8927062910937595, 0.933414566171666, 'lstm_attention_glove_5_feat.pkl']\n",
      "[0.85366954142802, 0.8966810041052502, 0.9281964250012757, 'fasttext_cnn2d_5_feat.pkl']\n",
      "[0.8539284571293174, 0.8930110454017801, 0.9545739133609206, 'pool_gru_fasttext_adj2_10_feat.pkl']\n",
      "[0.8540423889007901, 0.8936705525475939, 0.928718589424881, 'muse_cnn_v1_5_feat.pkl']\n",
      "[0.8544220795464076, 0.8938194883224371, 0.9388402431617705, 'fasttext_gru_v1_5_feat.pkl']\n",
      "[0.8548359297802526, 0.8996761658302592, 0.939153937964571, 'muse_gru_v1_5_feat.pkl']\n",
      "[0.855264258966452, 0.8957945146238461, 0.9446133805630305, 'pool_gru_glove_5_feat.pkl']\n",
      "[0.8557680966708489, 0.8964132862242944, 0.9328397243643058, 'glove_gru_v1_5_feat.pkl']\n",
      "[0.8583124404575961, 0.8993244951114112, 0.9505389018787292, 'lstm_attention_fasttext_adj2_4_feat.pkl']\n",
      "[0.8586145889946721, 0.8981807306850594, 0.9578281800707718, 'pool_gru_fasttext_adj1_10_feat.pkl']\n",
      "[0.8587982240972948, 0.904202823546969, 0.939153937964571, 'muse_lstm_v1_5_feat.pkl']\n",
      "[0.8603307966178212, 0.9028799847169858, 0.943679980282672, 'fasttext_lstm_v1_5_feat.pkl']\n",
      "[0.8637399912065675, 0.9042298063960275, 0.95593698333011, 'lstm_attention_fasttext_4_feat.pkl']\n",
      "[0.8639864923451539, 0.9050942042927765, 0.9578281800707718, 'pool_gru_fasttext_5_feat.pkl']\n",
      "[0.8649547851517674, 0.9079982855562234, 0.95593698333011, 'lstm_attention_fasttext_10_feat.pkl']\n"
     ]
    }
   ],
   "source": [
    "analyse_res = []\n",
    "for i in range(fl_cnt):\n",
    "    analyse_res.append([np.mean(res_mat[i]),np.median(res_mat[i]),np.max(res_mat[i]),fl[i][12:]])\n",
    "analyse_res = sorted(analyse_res,key = lambda x:x[0])\n",
    "for r in analyse_res:\n",
    "    print(r)"
   ]
  }
 ],
 "metadata": {
  "kernelspec": {
   "display_name": "Python 3",
   "language": "python",
   "name": "python3"
  },
  "language_info": {
   "codemirror_mode": {
    "name": "ipython",
    "version": 3
   },
   "file_extension": ".py",
   "mimetype": "text/x-python",
   "name": "python",
   "nbconvert_exporter": "python",
   "pygments_lexer": "ipython3",
   "version": "3.5.2"
  }
 },
 "nbformat": 4,
 "nbformat_minor": 2
}
