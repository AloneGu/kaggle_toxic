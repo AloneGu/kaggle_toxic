{
 "cells": [
  {
   "cell_type": "code",
   "execution_count": 5,
   "metadata": {},
   "outputs": [
    {
     "name": "stdout",
     "output_type": "stream",
     "text": [
      "../features/glove_cnn2d_4_feat.pkl\n",
      "../features/glove_cnn_gru_4_feat.pkl\n",
      "../features/glove_cnn_v1_4_feat.pkl\n",
      "../features/glove_cnn_v2_4_feat.pkl\n",
      "../features/glove_cudnn_gru_4_feat.pkl\n",
      "../features/glove_gru_v1_4_feat.pkl\n",
      "../features/glove_lstm_v1_4_feat.pkl\n",
      "../features/lr_feat1.pkl\n",
      "../features/lr_feat2.pkl\n",
      "../features/lstm_attention_fasttext_10_feat.pkl\n",
      "../features/lstm_attention_fasttext_4_feat.pkl\n",
      "../features/lstm_attention_glove_4_feat.pkl\n",
      "../features/mnb_feat1.pkl\n",
      "../features/mnb_feat2.pkl\n",
      "../features/muse_cnn2d_4_feat.pkl\n",
      "../features/muse_cnn_gru_4_feat.pkl\n",
      "../features/muse_cnn_v1_4_feat.pkl\n",
      "../features/muse_cnn_v2_4_feat.pkl\n",
      "../features/muse_cudnn_gru_4_feat.pkl\n",
      "../features/muse_gru_v1_4_feat.pkl\n",
      "../features/muse_lstm_v1_4_feat.pkl\n",
      "../features/no_pretrained_cnn2d_4_feat.pkl\n",
      "../features/no_pretrained_cnn_gru_4_feat.pkl\n",
      "../features/no_pretrained_cnn_v1_4_feat.pkl\n",
      "../features/no_pretrained_cnn_v2_4_feat.pkl\n",
      "../features/no_pretrained_cudnn_gru_4_feat.pkl\n",
      "../features/no_pretrained_gru_v1_4_feat.pkl\n",
      "../features/no_pretrained_lstm_v1_4_feat.pkl\n",
      "../features/pool_gru_fasttext_4_feat.pkl\n",
      "../features/pool_gru_fasttext_adj1_10_feat.pkl\n",
      "../features/pool_gru_glove_4_feat.pkl\n",
      "load data done\n"
     ]
    }
   ],
   "source": [
    "import numpy as np\n",
    "import pickle\n",
    "import glob\n",
    "\n",
    "def cal_corr(a,b,one_row=True):\n",
    "    if one_row is True:\n",
    "        return np.corrcoef(a[:,0],b[:,0])[0][1]\n",
    "    else:\n",
    "        res = [np.corrcoef(a[:,i],b[:,i])[0][1] for i in range(6)]\n",
    "        return np.mean(res)\n",
    "\n",
    "train_x = []\n",
    "fl = []\n",
    "for f in sorted(glob.glob('../features/*.pkl')):\n",
    "    if 'tfidf' not in f and 'other' not in f and '3_feat' not in f:\n",
    "        fl.append(f)\n",
    "        \n",
    "for f in fl:\n",
    "    a,b = pickle.load(open(f,'rb'))\n",
    "    train_x.append(a)\n",
    "    print(f)\n",
    "print('load data done')"
   ]
  },
  {
   "cell_type": "code",
   "execution_count": 6,
   "metadata": {},
   "outputs": [
    {
     "name": "stdout",
     "output_type": "stream",
     "text": [
      "cal done (31, 31)\n"
     ]
    }
   ],
   "source": [
    "fl_cnt = len(fl)\n",
    "res_mat = np.zeros((fl_cnt,fl_cnt))\n",
    "for i in range(fl_cnt-1):\n",
    "    for j in range(i+1,fl_cnt):\n",
    "        tmp_corr = cal_corr(train_x[i],train_x[j],False)\n",
    "        res_mat[i][j] = tmp_corr\n",
    "        res_mat[j][i] = tmp_corr\n",
    "print('cal done',res_mat.shape)\n",
    "res_mat = np.nan_to_num(res_mat)"
   ]
  },
  {
   "cell_type": "code",
   "execution_count": 7,
   "metadata": {},
   "outputs": [
    {
     "name": "stdout",
     "output_type": "stream",
     "text": [
      "0.876716655578\n",
      "[[  3.18066287e-03   1.46607393e-10   6.69709843e-05   1.39526080e-09\n",
      "    5.61561728e-06   8.94634677e-09]\n",
      " [  6.85001200e-04   2.75963592e-11   9.62780996e-06   3.32025629e-09\n",
      "    4.69579248e-07   8.01703681e-09]\n",
      " [  1.74629688e-02   1.02030704e-07   4.83402342e-04   2.70689657e-06\n",
      "    2.13257299e-04   3.89799334e-06]\n",
      " [  6.94290929e-06   3.67692847e-16   3.37240280e-08   1.14471789e-12\n",
      "    9.11267117e-10   8.15947028e-13]\n",
      " [  8.93487409e-02   2.33398023e-05   3.91921075e-03   1.93998843e-04\n",
      "    7.56848650e-03   2.71176861e-04]]\n",
      "[[  1.76546197e-02   3.50080481e-04   6.66535786e-03   5.29894606e-05\n",
      "    6.53072580e-03   2.62805095e-04]\n",
      " [  1.50524393e-02   7.24923868e-04   3.42386751e-03   1.99011435e-04\n",
      "    3.73284645e-03   8.02658926e-04]\n",
      " [  5.44785295e-02   5.91223394e-05   1.02516519e-02   1.18098348e-06\n",
      "    1.02670761e-02   5.41385091e-05]\n",
      " [  2.20330909e-04   5.20939922e-06   6.64223569e-05   1.58785154e-06\n",
      "    5.27213414e-05   1.11970962e-05]\n",
      " [  1.29794267e-01   7.24766191e-04   6.97152123e-02   1.30267943e-04\n",
      "    5.86215661e-02   1.77005433e-03]]\n",
      "14580.2121592\n"
     ]
    }
   ],
   "source": [
    "test_a = train_x[0]\n",
    "test_b = train_x[12]\n",
    "print(cal_corr(test_a,test_b))\n",
    "print(test_a[:5])\n",
    "print(test_b[:5])\n",
    "print(np.sum(test_b[:,0]))"
   ]
  },
  {
   "cell_type": "code",
   "execution_count": 8,
   "metadata": {},
   "outputs": [
    {
     "name": "stdout",
     "output_type": "stream",
     "text": [
      "0.834933316399 0.898137218428 glove_cnn2d_4_feat.pkl\n",
      "0.833850562823 0.891460950624 glove_cnn_gru_4_feat.pkl\n",
      "0.837103567165 0.900314215662 glove_cnn_v1_4_feat.pkl\n",
      "0.828995981189 0.889953619084 glove_cnn_v2_4_feat.pkl\n",
      "0.837544660357 0.896188911495 glove_cudnn_gru_4_feat.pkl\n",
      "0.846849916103 0.9124164408 glove_gru_v1_4_feat.pkl\n",
      "0.848567049689 0.907022531962 glove_lstm_v1_4_feat.pkl\n",
      "0.779876472135 0.819301166485 lr_feat1.pkl\n",
      "0.798951809834 0.840311221061 lr_feat2.pkl\n",
      "0.845889844362 0.904467899579 lstm_attention_fasttext_10_feat.pkl\n",
      "0.844770517072 0.907906841756 lstm_attention_fasttext_4_feat.pkl\n",
      "0.837625159954 0.89919235918 lstm_attention_glove_4_feat.pkl\n",
      "0.685445458246 0.702562220821 mnb_feat1.pkl\n",
      "0.678850837031 0.69358549891 mnb_feat2.pkl\n",
      "0.835917960866 0.891034863941 muse_cnn2d_4_feat.pkl\n",
      "0.835728861164 0.904718058601 muse_cnn_gru_4_feat.pkl\n",
      "0.84195439925 0.900983940668 muse_cnn_v1_4_feat.pkl\n",
      "0.840279182161 0.890526479343 muse_cnn_v2_4_feat.pkl\n",
      "0.839559311816 0.906178582201 muse_cudnn_gru_4_feat.pkl\n",
      "0.844742501871 0.89919235918 muse_gru_v1_4_feat.pkl\n",
      "0.841993404253 0.892670689811 muse_lstm_v1_4_feat.pkl\n",
      "0.801731563196 0.832975293423 no_pretrained_cnn2d_4_feat.pkl\n",
      "0.797449279489 0.827031968077 no_pretrained_cnn_gru_4_feat.pkl\n",
      "0.781006666238 0.814982629352 no_pretrained_cnn_v1_4_feat.pkl\n",
      "0.808507850706 0.841612142333 no_pretrained_cnn_v2_4_feat.pkl\n",
      "0.753926748304 0.765183169269 no_pretrained_cudnn_gru_4_feat.pkl\n",
      "0.753150471511 0.762918220397 no_pretrained_gru_v1_4_feat.pkl\n",
      "0.747754152635 0.756675984601 no_pretrained_lstm_v1_4_feat.pkl\n",
      "0.847959855131 0.911189035348 pool_gru_fasttext_4_feat.pkl\n",
      "0.837297773656 0.893145260186 pool_gru_fasttext_adj1_10_feat.pkl\n",
      "0.839435882754 0.897451265608 pool_gru_glove_4_feat.pkl\n"
     ]
    }
   ],
   "source": [
    "for i in range(fl_cnt):\n",
    "    print(np.mean(res_mat[i]),np.median(res_mat[i]),fl[i][12:])"
   ]
  }
 ],
 "metadata": {
  "kernelspec": {
   "display_name": "Python 3",
   "language": "python",
   "name": "python3"
  },
  "language_info": {
   "codemirror_mode": {
    "name": "ipython",
    "version": 3
   },
   "file_extension": ".py",
   "mimetype": "text/x-python",
   "name": "python",
   "nbconvert_exporter": "python",
   "pygments_lexer": "ipython3",
   "version": "3.5.2"
  }
 },
 "nbformat": 4,
 "nbformat_minor": 2
}
