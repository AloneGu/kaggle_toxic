{
 "cells": [
  {
   "cell_type": "code",
   "execution_count": 1,
   "metadata": {},
   "outputs": [
    {
     "name": "stdout",
     "output_type": "stream",
     "text": [
      "../features/fasttext_cnn2d_5_feat.pkl\n",
      "../features/fasttext_cnn_v1_5_feat.pkl\n",
      "../features/fasttext_cnn_v2_5_feat.pkl\n",
      "../features/glove_cnn2d_5_feat.pkl\n",
      "../features/glove_cnn_gru_5_feat.pkl\n",
      "../features/glove_cnn_v1_5_feat.pkl\n",
      "../features/glove_cnn_v2_5_feat.pkl\n",
      "../features/glove_cudnn_gru_5_feat.pkl\n",
      "../features/glove_lstm_v1_5_feat.pkl\n",
      "../features/lgb1_feat.pkl\n",
      "../features/lr_feat1.pkl\n",
      "../features/lr_feat2.pkl\n",
      "../features/lstm_attention_fasttext_10_feat.pkl\n",
      "../features/lstm_attention_fasttext_4_feat.pkl\n",
      "../features/lstm_attention_fasttext_adj2_4_feat.pkl\n",
      "../features/lstm_attention_glove_4_feat.pkl\n",
      "../features/mnb_feat1.pkl\n",
      "../features/mnb_feat2.pkl\n",
      "../features/muse_cnn2d_5_feat.pkl\n",
      "../features/muse_cnn_v1_5_feat.pkl\n",
      "../features/muse_cnn_v2_5_feat.pkl\n",
      "../features/no_pretrained_cnn2d_5_feat.pkl\n",
      "../features/no_pretrained_cnn_v1_5_feat.pkl\n",
      "../features/no_pretrained_cnn_v2_5_feat.pkl\n",
      "../features/no_pretrained_cudnn_gru_5_feat.pkl\n",
      "../features/no_pretrained_lstm_v1_5_feat.pkl\n",
      "../features/pool_gru_fasttext_4_feat.pkl\n",
      "../features/pool_gru_fasttext_adj1_10_feat.pkl\n",
      "../features/pool_gru_fasttext_adj2_4_feat.pkl\n",
      "../features/pool_gru_glove_4_feat.pkl\n",
      "../features/tilli_lr_feat.pkl\n",
      "../features/wordbatch_feat.pkl\n",
      "load data done\n"
     ]
    }
   ],
   "source": [
    "import numpy as np\n",
    "import pickle\n",
    "import glob\n",
    "\n",
    "def cal_corr(a,b,one_row=True):\n",
    "    if one_row is True:\n",
    "        return np.corrcoef(a[:,0],b[:,0])[0][1]\n",
    "    else:\n",
    "        res = [np.corrcoef(a[:,i],b[:,i])[0][1] for i in range(6)]\n",
    "        return np.mean(res)\n",
    "\n",
    "train_x = []\n",
    "fl = []\n",
    "for f in sorted(glob.glob('../features/*.pkl')):\n",
    "    if 'tfidf' not in f and 'other' not in f and '3_feat' not in f:\n",
    "        fl.append(f)\n",
    "        \n",
    "for f in fl:\n",
    "    a,b = pickle.load(open(f,'rb'))\n",
    "    train_x.append(a)\n",
    "    print(f)\n",
    "print('load data done')"
   ]
  },
  {
   "cell_type": "code",
   "execution_count": 2,
   "metadata": {},
   "outputs": [
    {
     "name": "stdout",
     "output_type": "stream",
     "text": [
      "cal done (32, 32)\n"
     ]
    }
   ],
   "source": [
    "fl_cnt = len(fl)\n",
    "res_mat = np.zeros((fl_cnt,fl_cnt))\n",
    "for i in range(fl_cnt-1):\n",
    "    for j in range(i+1,fl_cnt):\n",
    "        tmp_corr = cal_corr(train_x[i],train_x[j],False)\n",
    "        res_mat[i][j] = tmp_corr\n",
    "        res_mat[j][i] = tmp_corr\n",
    "print('cal done',res_mat.shape)\n",
    "res_mat = np.nan_to_num(res_mat)"
   ]
  },
  {
   "cell_type": "code",
   "execution_count": 3,
   "metadata": {},
   "outputs": [
    {
     "name": "stdout",
     "output_type": "stream",
     "text": [
      "0.9663118576128644\n",
      "[[3.20521576e-05 3.98428599e-12 1.90362641e-07 4.36426484e-15\n",
      "  3.14909670e-07 2.49261084e-10]\n",
      " [1.42907200e-04 1.69840975e-10 1.77110860e-06 2.18906295e-12\n",
      "  6.21336949e-06 3.83308940e-09]\n",
      " [8.76327744e-04 3.68509806e-10 2.25334020e-06 3.22176147e-10\n",
      "  1.03769216e-05 2.05179180e-08]\n",
      " [6.77179269e-05 1.01267345e-12 7.35122470e-08 1.18939851e-13\n",
      "  2.61967642e-07 3.69467651e-10]\n",
      " [8.36364850e-02 6.14278042e-06 1.11312210e-03 5.75979470e-07\n",
      "  1.33209294e-02 6.68102366e-05]]\n",
      "[[2.24582688e-03 9.65133950e-07 1.97498142e-04 1.45198072e-07\n",
      "  1.26763989e-04 6.83112512e-06]\n",
      " [5.02874027e-04 9.03989132e-07 1.92534018e-04 2.13694989e-07\n",
      "  5.27212615e-05 9.49222431e-06]\n",
      " [7.47771049e-03 9.74748764e-06 5.50848607e-04 2.27356177e-05\n",
      "  2.56774510e-04 4.81136522e-05]\n",
      " [5.51091398e-05 7.48407203e-08 2.39244437e-05 1.59624093e-07\n",
      "  3.67898542e-06 5.06723723e-07]\n",
      " [2.72715539e-02 6.04423331e-05 9.51594033e-04 2.43143331e-05\n",
      "  7.39213591e-03 1.43210025e-04]]\n",
      "15213.853590585255\n"
     ]
    }
   ],
   "source": [
    "test_a = train_x[0]\n",
    "test_b = train_x[12]\n",
    "print(cal_corr(test_a,test_b))\n",
    "print(test_a[:5])\n",
    "print(test_b[:5])\n",
    "print(np.sum(test_b[:,0]))"
   ]
  },
  {
   "cell_type": "code",
   "execution_count": 4,
   "metadata": {},
   "outputs": [
    {
     "name": "stdout",
     "output_type": "stream",
     "text": [
      "[0.6733609398093214, 0.6902905608333516, 0.806306273924274, 'mnb_feat2.pkl']\n",
      "[0.6933640720136542, 0.7128597328759887, 0.775895041658026, 'mnb_feat1.pkl']\n",
      "[0.7604460140975465, 0.7890864947422669, 0.8420258316646626, 'no_pretrained_cudnn_gru_5_feat.pkl']\n",
      "[0.7623455205237994, 0.7929359478350391, 0.8316928088944776, 'wordbatch_feat.pkl']\n",
      "[0.770773727619467, 0.7966758123490769, 0.8316928088944776, 'tilli_lr_feat.pkl']\n",
      "[0.7763785125265076, 0.8080163630598354, 0.8711954613322591, 'no_pretrained_cnn2d_5_feat.pkl']\n",
      "[0.7837229875612535, 0.8178378028960596, 0.8711954613322591, 'no_pretrained_cnn_v2_5_feat.pkl']\n",
      "[0.7887465520218181, 0.8212442550139227, 0.9667546674469629, 'lr_feat1.pkl']\n",
      "[0.7902791933575011, 0.8225164280445383, 0.8613799902665544, 'no_pretrained_cnn_v1_5_feat.pkl']\n",
      "[0.7994435262925064, 0.842923716068601, 0.9044671642577465, 'lgb1_feat.pkl']\n",
      "[0.8088046985902586, 0.8419135555937716, 0.9667546674469629, 'lr_feat2.pkl']\n",
      "[0.8176408522647542, 0.8541852665534357, 0.8810226337633025, 'no_pretrained_lstm_v1_5_feat.pkl']\n",
      "[0.8215619230374422, 0.8727106178451913, 0.9077131588806635, 'glove_cnn_gru_5_feat.pkl']\n",
      "[0.8219886582381966, 0.8737591848702311, 0.9043625330096327, 'glove_cnn_v2_5_feat.pkl']\n",
      "[0.8264244913858336, 0.8771536541660762, 0.9099444269339084, 'glove_cnn2d_5_feat.pkl']\n",
      "[0.827596657369722, 0.8734151185619639, 0.9151902943494495, 'glove_cudnn_gru_5_feat.pkl']\n",
      "[0.8321329098071171, 0.8800580271480283, 0.9188233153052835, 'glove_cnn_v1_5_feat.pkl']\n",
      "[0.8337009689153103, 0.8773942321981181, 0.9364022192313243, 'pool_gru_fasttext_adj2_4_feat.pkl']\n",
      "[0.8338837935089998, 0.8838012446696614, 0.925275176526534, 'muse_cnn_v2_5_feat.pkl']\n",
      "[0.8364924271529743, 0.8802224242853618, 0.928718589424881, 'muse_cnn2d_5_feat.pkl']\n",
      "[0.837436193209474, 0.8873217097310526, 0.9342302343129881, 'glove_lstm_v1_5_feat.pkl']\n",
      "[0.8389253880678065, 0.8919590228730365, 0.9270013801315592, 'fasttext_cnn_v2_5_feat.pkl']\n",
      "[0.8391543264923383, 0.8885080007078726, 0.9340106910194073, 'lstm_attention_glove_4_feat.pkl']\n",
      "[0.8392431886333261, 0.8828780947750459, 0.943475613733877, 'pool_gru_glove_4_feat.pkl']\n",
      "[0.8400396134900819, 0.8942166711506496, 0.9281964250012757, 'fasttext_cnn_v1_5_feat.pkl']\n",
      "[0.8405344543368838, 0.8920857413182529, 0.928718589424881, 'muse_cnn_v1_5_feat.pkl']\n",
      "[0.8417512507570759, 0.8874195389898046, 0.9480236560317087, 'pool_gru_fasttext_adj1_10_feat.pkl']\n",
      "[0.8421389844999037, 0.8973368470694767, 0.9281964250012757, 'fasttext_cnn2d_5_feat.pkl']\n",
      "[0.8428054016252344, 0.8943568213453803, 0.9505389018787292, 'lstm_attention_fasttext_adj2_4_feat.pkl']\n",
      "[0.8485262149506865, 0.8964322167884375, 0.95593698333011, 'lstm_attention_fasttext_4_feat.pkl']\n",
      "[0.8495612486142947, 0.8958713082276866, 0.95593698333011, 'lstm_attention_fasttext_10_feat.pkl']\n",
      "[0.8498837101894747, 0.8957188977893964, 0.9540339197866161, 'pool_gru_fasttext_4_feat.pkl']\n"
     ]
    }
   ],
   "source": [
    "analyse_res = []\n",
    "for i in range(fl_cnt):\n",
    "    analyse_res.append([np.mean(res_mat[i]),np.median(res_mat[i]),np.max(res_mat[i]),fl[i][12:]])\n",
    "analyse_res = sorted(analyse_res,key = lambda x:x[0])\n",
    "for r in analyse_res:\n",
    "    print(r)"
   ]
  }
 ],
 "metadata": {
  "kernelspec": {
   "display_name": "Python 3",
   "language": "python",
   "name": "python3"
  },
  "language_info": {
   "codemirror_mode": {
    "name": "ipython",
    "version": 3
   },
   "file_extension": ".py",
   "mimetype": "text/x-python",
   "name": "python",
   "nbconvert_exporter": "python",
   "pygments_lexer": "ipython3",
   "version": "3.5.2"
  }
 },
 "nbformat": 4,
 "nbformat_minor": 2
}
