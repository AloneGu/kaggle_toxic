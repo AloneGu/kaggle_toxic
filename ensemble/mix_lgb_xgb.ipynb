{
 "cells": [
  {
   "cell_type": "code",
   "execution_count": 2,
   "metadata": {},
   "outputs": [
    {
     "name": "stdout",
     "output_type": "stream",
     "text": [
      "                 id     toxic  severe_toxic   obscene    threat    insult  \\\n",
      "0  00001cee341fdb12  0.999037      0.341054  0.980209  0.146159  0.927558   \n",
      "1  0000247867823ef7  0.000385      0.000026  0.000057  0.000024  0.000052   \n",
      "2  00013b17ad220c46  0.000291      0.000027  0.000152  0.000031  0.000391   \n",
      "3  00017563c3f7919a  0.000097      0.000027  0.000037  0.000029  0.000045   \n",
      "4  00017695ad8997eb  0.001779      0.000034  0.000162  0.000031  0.000299   \n",
      "\n",
      "   identity_hate  \n",
      "0       0.432333  \n",
      "1       0.000053  \n",
      "2       0.000090  \n",
      "3       0.000056  \n",
      "4       0.000083  \n"
     ]
    }
   ],
   "source": [
    "import pandas as pd\n",
    "\n",
    "sample_submission = pd.read_csv(\"../input/sample_submission.csv\")\n",
    "list_classes = [\"toxic\", \"severe_toxic\", \"obscene\", \"threat\", \"insult\", \"identity_hate\"]\n",
    "\n",
    "df1 = pd.read_csv('../results/lgb_9866_stratified.gz')\n",
    "df2 = pd.read_csv('../results/xgb_9866_stratified.gz')\n",
    "xgb_idx = [0,3]\n",
    "p = 0.8\n",
    "q = 0.2\n",
    "for i,col in enumerate(list_classes):\n",
    "    if i in xgb_idx:\n",
    "        sample_submission[col] = p * df2[col] + q * df1[col]\n",
    "    else:\n",
    "        sample_submission[col] = q * df2[col] + p * df1[col]\n",
    "print(sample_submission.head())\n",
    "sample_submission.to_csv(\"../results/mix_lgb_xgb.csv.gz\", index=False, compression='gzip') # 9866"
   ]
  },
  {
   "cell_type": "code",
   "execution_count": null,
   "metadata": {},
   "outputs": [],
   "source": []
  }
 ],
 "metadata": {
  "kernelspec": {
   "display_name": "Python 3",
   "language": "python",
   "name": "python3"
  },
  "language_info": {
   "codemirror_mode": {
    "name": "ipython",
    "version": 3
   },
   "file_extension": ".py",
   "mimetype": "text/x-python",
   "name": "python",
   "nbconvert_exporter": "python",
   "pygments_lexer": "ipython3",
   "version": "3.5.2"
  }
 },
 "nbformat": 4,
 "nbformat_minor": 2
}
