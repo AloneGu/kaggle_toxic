{
 "cells": [
  {
   "cell_type": "code",
   "execution_count": 1,
   "metadata": {},
   "outputs": [
    {
     "name": "stdout",
     "output_type": "stream",
     "text": [
      "(2, 153164, 6)\n",
      "(153164, 6)\n"
     ]
    }
   ],
   "source": [
    "import pickle\n",
    "\n",
    "test_x = []\n",
    "def get_feat(f):\n",
    "    with open(f,'rb') as fin:\n",
    "        a,b = pickle.load(fin)\n",
    "        return b\n",
    "\n",
    "feat_files = [\n",
    "    '../features/glove_cnn_gru_5_feat.pkl',\n",
    "    '../features/glove_cudnn_gru_5_feat.pkl'\n",
    "]\n",
    "for f in feat_files:\n",
    "    b = get_feat(f)\n",
    "    test_x.append(b)\n",
    "\n",
    "import numpy as np\n",
    "test_x = np.array(test_x)\n",
    "print(test_x.shape)\n",
    "mean_test_x = np.mean(test_x,axis=0)\n",
    "print(mean_test_x.shape)"
   ]
  },
  {
   "cell_type": "code",
   "execution_count": 2,
   "metadata": {},
   "outputs": [
    {
     "name": "stdout",
     "output_type": "stream",
     "text": [
      "                 id     toxic  severe_toxic   obscene    threat    insult  \\\n",
      "0  00001cee341fdb12  0.997157      0.427596  0.963735  0.107044  0.910842   \n",
      "1  0000247867823ef7  0.000522      0.000002  0.000063  0.000002  0.000044   \n",
      "2  00013b17ad220c46  0.000956      0.000015  0.000242  0.000015  0.000247   \n",
      "3  00017563c3f7919a  0.000362      0.000001  0.000042  0.000003  0.000037   \n",
      "4  00017695ad8997eb  0.003783      0.000015  0.000427  0.000036  0.000295   \n",
      "\n",
      "   identity_hate  \n",
      "0       0.448712  \n",
      "1       0.000007  \n",
      "2       0.000066  \n",
      "3       0.000005  \n",
      "4       0.000053  \n",
      "save done\n"
     ]
    }
   ],
   "source": [
    "import pandas as pd\n",
    "sample_submission = pd.read_csv(\"../input/sample_submission.csv\")\n",
    "list_classes = [\"toxic\", \"severe_toxic\", \"obscene\", \"threat\", \"insult\", \"identity_hate\"]\n",
    "sample_submission[list_classes] = mean_test_x\n",
    "sample_submission.to_csv(\"../results/avg_bagging.csv.gz\", index=False, compression='gzip')\n",
    "print(sample_submission.head())\n",
    "print('save done')"
   ]
  },
  {
   "cell_type": "code",
   "execution_count": 14,
   "metadata": {
    "scrolled": true
   },
   "outputs": [
    {
     "name": "stdout",
     "output_type": "stream",
     "text": [
      "(22, 153164, 6)\n",
      "(153164, 6)\n",
      "                 id     toxic  severe_toxic   obscene    threat    insult  \\\n",
      "0  00001cee341fdb12  0.997531      0.435057  0.967589  0.123694  0.917497   \n",
      "1  0000247867823ef7  0.000370      0.000005  0.000078  0.000003  0.000055   \n",
      "2  00013b17ad220c46  0.000797      0.000034  0.000313  0.000016  0.000176   \n",
      "3  00017563c3f7919a  0.000172      0.000003  0.000038  0.000009  0.000037   \n",
      "4  00017695ad8997eb  0.004124      0.000034  0.000520  0.000054  0.000303   \n",
      "\n",
      "   identity_hate  \n",
      "0       0.494255  \n",
      "1       0.000008  \n",
      "2       0.000049  \n",
      "3       0.000004  \n",
      "4       0.000034  \n",
      "save done\n"
     ]
    }
   ],
   "source": [
    "# avg all jac models\n",
    "import glob\n",
    "fl = [\n",
    "'../features/fasttext_cnn2d_5_feat.pkl',\n",
    "'../features/fasttext_cnn_gru_5_feat.pkl',\n",
    "'../features/fasttext_cnn_v1_5_feat.pkl',\n",
    "'../features/fasttext_cnn_v2_5_feat.pkl',\n",
    "'../features/fasttext_cudnn_gru_5_feat.pkl',\n",
    "'../features/fasttext_gru_v1_5_feat.pkl',\n",
    "'../features/fasttext_lstm_v1_5_feat.pkl',\n",
    "#'../features/glove_cnn2d_5_feat.pkl',\n",
    "'../features/glove_cnn_gru_5_feat.pkl',\n",
    "# '../features/glove_cnn_v1_5_feat.pkl',\n",
    "# '../features/glove_cnn_v2_5_feat.pkl',\n",
    "'../features/glove_cudnn_gru_5_feat.pkl',\n",
    "'../features/glove_gru_v1_5_feat.pkl',\n",
    "'../features/glove_lstm_v1_5_feat.pkl',\n",
    "'../features/lstm_attention_fasttext_10_feat.pkl',\n",
    "#'../features/lstm_attention_fasttext_4_feat.pkl',\n",
    "'../features/lstm_attention_fasttext_adj2_4_feat.pkl',\n",
    "'../features/lstm_attention_glove_5_feat.pkl',\n",
    "#'../features/muse_cnn2d_5_feat.pkl',\n",
    "'../features/muse_cnn_gru_5_feat.pkl',\n",
    "#'../features/muse_cnn_v1_5_feat.pkl',\n",
    "#'../features/muse_cnn_v2_5_feat.pkl',\n",
    "'../features/muse_cudnn_gru_5_feat.pkl',\n",
    "'../features/muse_gru_v1_5_feat.pkl',\n",
    "'../features/muse_lstm_v1_5_feat.pkl',\n",
    "'../features/pool_gru_fasttext_5_feat.pkl',\n",
    "'../features/pool_gru_fasttext_adj1_10_feat.pkl',\n",
    "'../features/pool_gru_fasttext_adj2_4_feat.pkl',\n",
    "'../features/pool_gru_glove_4_feat.pkl',\n",
    "]\n",
    "        \n",
    "test_x = []      \n",
    "for f in fl:\n",
    "    b = get_feat(f)\n",
    "    test_x.append(b)\n",
    "\n",
    "test_x = np.array(test_x)\n",
    "print(test_x.shape)\n",
    "mean_test_x = np.mean(test_x,axis=0)\n",
    "print(mean_test_x.shape)\n",
    "\n",
    "sample_submission[list_classes] = mean_test_x\n",
    "sample_submission.to_csv(\"../results/jac_some_nn_avg_bagging.csv.gz\", index=False, compression='gzip')\n",
    "print(sample_submission.head())\n",
    "print('save done')  \n",
    "# all feat, PUB 9862, seems have to use good models to avg, diverse models to stack\n",
    "# select 22 NN models, PUB 9863"
   ]
  },
  {
   "cell_type": "code",
   "execution_count": 6,
   "metadata": {},
   "outputs": [
    {
     "name": "stdout",
     "output_type": "stream",
     "text": [
      "                 id     toxic  severe_toxic   obscene    threat    insult  \\\n",
      "0  00001cee341fdb12  0.955983      0.381610  0.936782  0.167000  0.883776   \n",
      "1  0000247867823ef7  0.060441      0.059071  0.058615  0.058820  0.059562   \n",
      "2  00013b17ad220c46  0.064049      0.059244  0.061237  0.059115  0.059853   \n",
      "3  00017563c3f7919a  0.057586      0.058447  0.057910  0.059281  0.058011   \n",
      "4  00017695ad8997eb  0.065506      0.058640  0.060358  0.058743  0.060734   \n",
      "\n",
      "   identity_hate  \n",
      "0       0.406433  \n",
      "1       0.059167  \n",
      "2       0.059419  \n",
      "3       0.058869  \n",
      "4       0.059469  \n",
      "save done\n"
     ]
    }
   ],
   "source": [
    "def avg_res(res_files):\n",
    "    test_x = []\n",
    "    for f in res_files:\n",
    "        test_x.append(pd.read_csv(f)[list_classes].values)\n",
    "    return np.mean(test_x,axis=0)\n",
    "\n",
    "res_fs = ['../results/pub9868.csv','../results/team9871.csv']\n",
    "avg_sub = avg_res(res_fs)\n",
    "sample_submission[list_classes] = avg_sub\n",
    "sample_submission.to_csv(\"../results/avg_sub.csv.gz\", index=False, compression='gzip')\n",
    "print(sample_submission.head())\n",
    "print('save done')"
   ]
  },
  {
   "cell_type": "code",
   "execution_count": 7,
   "metadata": {},
   "outputs": [],
   "source": [
    "# def pow_avg_res(res_files):\n",
    "#     test_x = []\n",
    "#     for f in res_files:\n",
    "#         test_x.append(pd.read_csv(f)[list_classes].values)\n",
    "#     file_cnt = len(res_files)\n",
    "#     base = test_x[0]\n",
    "#     for j in range(file_cnt-1):\n",
    "#         for i in range(6):\n",
    "#             base[:,i] = base[:,i]*test_x[j+1][:,i]\n",
    "#     base = base ** (1/file_cnt)\n",
    "#     return base\n",
    "\n",
    "# res_fs = ['../results/pub9854.csv','../results/xgb9856.gz']\n",
    "# avg_sub = pow_avg_res(res_fs)\n",
    "# sample_submission[list_classes] = avg_sub\n",
    "# sample_submission.to_csv(\"../results/pow_avg_sub.csv.gz\", index=False, compression='gzip')\n",
    "# print(sample_submission.head())\n",
    "# print('save done')"
   ]
  },
  {
   "cell_type": "code",
   "execution_count": 10,
   "metadata": {},
   "outputs": [
    {
     "name": "stdout",
     "output_type": "stream",
     "text": [
      "                 id     toxic  severe_toxic   obscene    threat    insult  \\\n",
      "0  00001cee341fdb12  0.968105      0.372753  0.948769  0.141757  0.895957   \n",
      "1  0000247867823ef7  0.029432      0.028556  0.028370  0.028418  0.029125   \n",
      "2  00013b17ad220c46  0.031435      0.028643  0.029600  0.028568  0.029384   \n",
      "3  00017563c3f7919a  0.027870      0.028225  0.027982  0.028659  0.028358   \n",
      "4  00017695ad8997eb  0.032732      0.028332  0.029278  0.028402  0.029806   \n",
      "\n",
      "   identity_hate  \n",
      "0       0.420662  \n",
      "1       0.028618  \n",
      "2       0.028739  \n",
      "3       0.028470  \n",
      "4       0.028780  \n",
      "save done\n"
     ]
    }
   ],
   "source": [
    "# play with weight\n",
    "df1 = pd.read_csv('../results/pub9868.csv')[list_classes].values\n",
    "df2 = pd.read_csv('../results/lgb_9870_fold10.gz')[list_classes].values\n",
    "df3 = pd.read_csv('../results/team9871.csv')[list_classes].values\n",
    "df4 = pd.read_csv('../results/rua9867.csv')[list_classes].values\n",
    "\n",
    "play_res = df1*0.1+df2*0.3+df3*0.3+df4*0.3\n",
    "sample_submission[list_classes] = play_res\n",
    "sample_submission.to_csv(\"../results/weighted_avg_sub.csv.gz\", index=False, compression='gzip') # always 9870\n",
    "print(sample_submission.head())\n",
    "print('save done')"
   ]
  },
  {
   "cell_type": "code",
   "execution_count": null,
   "metadata": {},
   "outputs": [],
   "source": []
  },
  {
   "cell_type": "code",
   "execution_count": null,
   "metadata": {},
   "outputs": [],
   "source": []
  }
 ],
 "metadata": {
  "kernelspec": {
   "display_name": "Python 3",
   "language": "python",
   "name": "python3"
  },
  "language_info": {
   "codemirror_mode": {
    "name": "ipython",
    "version": 3
   },
   "file_extension": ".py",
   "mimetype": "text/x-python",
   "name": "python",
   "nbconvert_exporter": "python",
   "pygments_lexer": "ipython3",
   "version": "3.5.2"
  }
 },
 "nbformat": 4,
 "nbformat_minor": 2
}
