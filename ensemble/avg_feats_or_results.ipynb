{
 "cells": [
  {
   "cell_type": "code",
   "execution_count": 1,
   "metadata": {},
   "outputs": [
    {
     "name": "stdout",
     "output_type": "stream",
     "text": [
      "(4, 153164, 6)\n",
      "(153164, 6)\n"
     ]
    }
   ],
   "source": [
    "import pickle\n",
    "\n",
    "test_x = []\n",
    "def get_feat(f):\n",
    "    with open(f,'rb') as fin:\n",
    "        a,b = pickle.load(fin)\n",
    "        return b\n",
    "\n",
    "feat_files = [\n",
    "    '../features/glove_cnn_gru_4_feat.pkl',\n",
    "    '../features/glove_cudnn_gru_4_feat.pkl',\n",
    "    '../features/glove_lstm_v1_4_feat.pkl',\n",
    "    '../features/glove_gru_v1_4_feat.pkl'\n",
    "]\n",
    "for f in feat_files:\n",
    "    b = get_feat(f)\n",
    "    test_x.append(b)\n",
    "\n",
    "import numpy as np\n",
    "test_x = np.array(test_x)\n",
    "print(test_x.shape)\n",
    "mean_test_x = np.mean(test_x,axis=0)\n",
    "print(mean_test_x.shape)"
   ]
  },
  {
   "cell_type": "code",
   "execution_count": 2,
   "metadata": {},
   "outputs": [
    {
     "name": "stdout",
     "output_type": "stream",
     "text": [
      "                 id     toxic  severe_toxic   obscene    threat    insult  \\\n",
      "0  00001cee341fdb12  0.995861      0.465433  0.965190  0.157851  0.916416   \n",
      "1  0000247867823ef7  0.000473      0.000004  0.000121  0.000003  0.000058   \n",
      "2  00013b17ad220c46  0.001627      0.000072  0.000693  0.000064  0.000392   \n",
      "3  00017563c3f7919a  0.000332      0.000002  0.000076  0.000006  0.000047   \n",
      "4  00017695ad8997eb  0.007078      0.000040  0.001054  0.000080  0.000575   \n",
      "\n",
      "   identity_hate  \n",
      "0       0.497567  \n",
      "1       0.000016  \n",
      "2       0.000145  \n",
      "3       0.000009  \n",
      "4       0.000124  \n",
      "save done\n"
     ]
    }
   ],
   "source": [
    "import pandas as pd\n",
    "sample_submission = pd.read_csv(\"../input/sample_submission.csv\")\n",
    "list_classes = [\"toxic\", \"severe_toxic\", \"obscene\", \"threat\", \"insult\", \"identity_hate\"]\n",
    "sample_submission[list_classes] = mean_test_x\n",
    "sample_submission.to_csv(\"../results/avg_bagging.csv.gz\", index=False, compression='gzip')\n",
    "print(sample_submission.head())\n",
    "print('save done')"
   ]
  },
  {
   "cell_type": "code",
   "execution_count": 4,
   "metadata": {},
   "outputs": [
    {
     "name": "stdout",
     "output_type": "stream",
     "text": [
      "                 id     toxic  severe_toxic   obscene    threat    insult  \\\n",
      "0  00001cee341fdb12  0.979936      0.284694  0.952809  0.118262  0.888514   \n",
      "1  0000247867823ef7  0.000553      0.000122  0.000300  0.000027  0.000249   \n",
      "2  00013b17ad220c46  0.005728      0.000612  0.002268  0.000131  0.001661   \n",
      "3  00017563c3f7919a  0.000751      0.000077  0.000289  0.000072  0.000347   \n",
      "4  00017695ad8997eb  0.004916      0.000114  0.000918  0.000065  0.000824   \n",
      "\n",
      "   identity_hate  \n",
      "0       0.443627  \n",
      "1       0.000117  \n",
      "2       0.000441  \n",
      "3       0.000061  \n",
      "4       0.000108  \n",
      "save done\n"
     ]
    }
   ],
   "source": [
    "def avg_res(res_files):\n",
    "    test_x = []\n",
    "    for f in res_files:\n",
    "        test_x.append(pd.read_csv(f)[list_classes].values)\n",
    "    return np.mean(test_x,axis=0)\n",
    "\n",
    "res_fs = ['../results/pub9848.csv','../results/xgb9853.gz']\n",
    "avg_sub = avg_res(res_fs)\n",
    "sample_submission[list_classes] = avg_sub\n",
    "sample_submission.to_csv(\"../results/avg_sub.csv.gz\", index=False, compression='gzip')\n",
    "print(sample_submission.head())\n",
    "print('save done')"
   ]
  },
  {
   "cell_type": "code",
   "execution_count": 9,
   "metadata": {},
   "outputs": [
    {
     "name": "stdout",
     "output_type": "stream",
     "text": [
      "                 id     toxic  severe_toxic   obscene    threat    insult  \\\n",
      "0  00001cee341fdb12  0.979815      0.284618  0.952727  0.113660  0.888494   \n",
      "1  0000247867823ef7  0.000433      0.000087  0.000220  0.000026  0.000142   \n",
      "2  00013b17ad220c46  0.003804      0.000293  0.001666  0.000103  0.001269   \n",
      "3  00017563c3f7919a  0.000653      0.000065  0.000245  0.000063  0.000234   \n",
      "4  00017695ad8997eb  0.004903      0.000095  0.000914  0.000062  0.000776   \n",
      "\n",
      "   identity_hate  \n",
      "0       0.442075  \n",
      "1       0.000095  \n",
      "2       0.000390  \n",
      "3       0.000059  \n",
      "4       0.000107  \n",
      "save done\n"
     ]
    }
   ],
   "source": [
    "def pow_avg_res(res_files):\n",
    "    test_x = []\n",
    "    for f in res_files:\n",
    "        test_x.append(pd.read_csv(f)[list_classes].values)\n",
    "    file_cnt = len(res_files)\n",
    "    base = test_x[0]\n",
    "    for j in range(file_cnt-1):\n",
    "        for i in range(6):\n",
    "            base[:,i] = base[:,i]*test_x[j+1][:,i]\n",
    "    base = base ** (1/file_cnt)\n",
    "    return base\n",
    "\n",
    "res_fs = ['../results/pub9848.csv','../results/xgb9853.gz','../results/avg9857.csv.gz']\n",
    "avg_sub = pow_avg_res(res_fs)\n",
    "sample_submission[list_classes] = avg_sub\n",
    "sample_submission.to_csv(\"../results/pow_avg_sub.csv.gz\", index=False, compression='gzip')\n",
    "print(sample_submission.head())\n",
    "print('save done')"
   ]
  },
  {
   "cell_type": "code",
   "execution_count": 11,
   "metadata": {},
   "outputs": [
    {
     "name": "stdout",
     "output_type": "stream",
     "text": [
      "                 id     toxic  severe_toxic   obscene    threat    insult  \\\n",
      "0  00001cee341fdb12  0.987482      0.281484  0.958949  0.134110  0.885619   \n",
      "1  0000247867823ef7  0.000393      0.000083  0.000207  0.000025  0.000159   \n",
      "2  00013b17ad220c46  0.003801      0.000381  0.001563  0.000093  0.001167   \n",
      "3  00017563c3f7919a  0.000576      0.000058  0.000217  0.000056  0.000231   \n",
      "4  00017695ad8997eb  0.005089      0.000084  0.000877  0.000055  0.000690   \n",
      "\n",
      "   identity_hate  \n",
      "0       0.461777  \n",
      "1       0.000085  \n",
      "2       0.000343  \n",
      "3       0.000053  \n",
      "4       0.000099  \n",
      "save done\n"
     ]
    }
   ],
   "source": [
    "# play with weight\n",
    "df1 = pd.read_csv('../results/pub9848.csv')[list_classes].values\n",
    "df2 = pd.read_csv('../results/xgb9853.gz')[list_classes].values\n",
    "play_res = df1*0.3+df2*0.7\n",
    "sample_submission[list_classes] = play_res\n",
    "sample_submission.to_csv(\"../results/weighted_add_sub.csv.gz\", index=False, compression='gzip')\n",
    "print(sample_submission.head())\n",
    "print('save done')"
   ]
  },
  {
   "cell_type": "code",
   "execution_count": null,
   "metadata": {},
   "outputs": [],
   "source": []
  },
  {
   "cell_type": "code",
   "execution_count": null,
   "metadata": {},
   "outputs": [],
   "source": []
  }
 ],
 "metadata": {
  "kernelspec": {
   "display_name": "Python 3",
   "language": "python",
   "name": "python3"
  },
  "language_info": {
   "codemirror_mode": {
    "name": "ipython",
    "version": 3
   },
   "file_extension": ".py",
   "mimetype": "text/x-python",
   "name": "python",
   "nbconvert_exporter": "python",
   "pygments_lexer": "ipython3",
   "version": "3.5.2"
  }
 },
 "nbformat": 4,
 "nbformat_minor": 2
}
