{
 "cells": [
  {
   "cell_type": "code",
   "execution_count": 47,
   "metadata": {},
   "outputs": [
    {
     "name": "stdout",
     "output_type": "stream",
     "text": [
      "(4, 153164, 6)\n",
      "(153164, 6)\n"
     ]
    }
   ],
   "source": [
    "import pickle\n",
    "\n",
    "test_x = []\n",
    "def get_feat(f):\n",
    "    with open(f,'rb') as fin:\n",
    "        a,b = pickle.load(fin)\n",
    "        return b\n",
    "\n",
    "feat_files = [\n",
    "    '../features/glove_cnn_gru_4_feat.pkl',\n",
    "    '../features/glove_cudnn_gru_4_feat.pkl',\n",
    "    '../features/glove_lstm_v1_4_feat.pkl',\n",
    "    '../features/glove_gru_v1_4_feat.pkl'\n",
    "]\n",
    "for f in feat_files:\n",
    "    b = get_feat(f)\n",
    "    test_x.append(b)\n",
    "\n",
    "import numpy as np\n",
    "test_x = np.array(test_x)\n",
    "print(test_x.shape)\n",
    "mean_test_x = np.mean(test_x,axis=0)\n",
    "print(mean_test_x.shape)"
   ]
  },
  {
   "cell_type": "code",
   "execution_count": 48,
   "metadata": {},
   "outputs": [
    {
     "name": "stdout",
     "output_type": "stream",
     "text": [
      "                 id     toxic  severe_toxic   obscene    threat    insult  \\\n",
      "0  00001cee341fdb12  0.995861      0.465433  0.965190  0.157851  0.916416   \n",
      "1  0000247867823ef7  0.000473      0.000004  0.000121  0.000003  0.000058   \n",
      "2  00013b17ad220c46  0.001627      0.000072  0.000693  0.000064  0.000392   \n",
      "3  00017563c3f7919a  0.000332      0.000002  0.000076  0.000006  0.000047   \n",
      "4  00017695ad8997eb  0.007078      0.000040  0.001054  0.000080  0.000575   \n",
      "\n",
      "   identity_hate  \n",
      "0       0.497567  \n",
      "1       0.000016  \n",
      "2       0.000145  \n",
      "3       0.000009  \n",
      "4       0.000124  \n",
      "save done\n"
     ]
    }
   ],
   "source": [
    "import pandas as pd\n",
    "sample_submission = pd.read_csv(\"../input/sample_submission.csv\")\n",
    "list_classes = [\"toxic\", \"severe_toxic\", \"obscene\", \"threat\", \"insult\", \"identity_hate\"]\n",
    "sample_submission[list_classes] = mean_test_x\n",
    "sample_submission.to_csv(\"../results/avg_bagging.csv.gz\", index=False, compression='gzip')\n",
    "print(sample_submission.head())\n",
    "print('save done')"
   ]
  },
  {
   "cell_type": "code",
   "execution_count": 51,
   "metadata": {},
   "outputs": [
    {
     "name": "stdout",
     "output_type": "stream",
     "text": [
      "                 id     toxic  severe_toxic   obscene    threat    insult  \\\n",
      "0  00001cee341fdb12  0.992304      0.356113  0.970673  0.150726  0.919923   \n",
      "1  0000247867823ef7  0.000966      0.000378  0.000531  0.000042  0.000588   \n",
      "2  00013b17ad220c46  0.003808      0.000625  0.001785  0.000108  0.001243   \n",
      "3  00017563c3f7919a  0.000648      0.000148  0.000315  0.000100  0.000398   \n",
      "4  00017695ad8997eb  0.005718      0.000188  0.000903  0.000088  0.001192   \n",
      "\n",
      "   identity_hate  \n",
      "0       0.423459  \n",
      "1       0.000230  \n",
      "2       0.000392  \n",
      "3       0.000075  \n",
      "4       0.000149  \n",
      "save done\n"
     ]
    }
   ],
   "source": [
    "def avg_res(res_files):\n",
    "    test_x = []\n",
    "    for f in res_files:\n",
    "        test_x.append(pd.read_csv(f)[list_classes].values)\n",
    "    return np.mean(test_x,axis=0)\n",
    "\n",
    "res_fs = ['../results/pub9854.csv','../results/xgb9863_fold10.gz']\n",
    "avg_sub = avg_res(res_fs)\n",
    "sample_submission[list_classes] = avg_sub\n",
    "sample_submission.to_csv(\"../results/avg_sub.csv.gz\", index=False, compression='gzip')\n",
    "print(sample_submission.head())\n",
    "print('save done')"
   ]
  },
  {
   "cell_type": "code",
   "execution_count": null,
   "metadata": {},
   "outputs": [],
   "source": [
    "# def pow_avg_res(res_files):\n",
    "#     test_x = []\n",
    "#     for f in res_files:\n",
    "#         test_x.append(pd.read_csv(f)[list_classes].values)\n",
    "#     file_cnt = len(res_files)\n",
    "#     base = test_x[0]\n",
    "#     for j in range(file_cnt-1):\n",
    "#         for i in range(6):\n",
    "#             base[:,i] = base[:,i]*test_x[j+1][:,i]\n",
    "#     base = base ** (1/file_cnt)\n",
    "#     return base\n",
    "\n",
    "# res_fs = ['../results/pub9854.csv','../results/xgb9856.gz']\n",
    "# avg_sub = pow_avg_res(res_fs)\n",
    "# sample_submission[list_classes] = avg_sub\n",
    "# sample_submission.to_csv(\"../results/pow_avg_sub.csv.gz\", index=False, compression='gzip')\n",
    "# print(sample_submission.head())\n",
    "# print('save done')"
   ]
  },
  {
   "cell_type": "code",
   "execution_count": 52,
   "metadata": {},
   "outputs": [
    {
     "name": "stdout",
     "output_type": "stream",
     "text": [
      "                 id     toxic  severe_toxic   obscene    threat    insult  \\\n",
      "0  00001cee341fdb12  0.996279      0.304595  0.972031  0.207249  0.911433   \n",
      "1  0000247867823ef7  0.000465      0.000165  0.000256  0.000029  0.000257   \n",
      "2  00013b17ad220c46  0.001803      0.000269  0.000865  0.000062  0.000702   \n",
      "3  00017563c3f7919a  0.000388      0.000079  0.000181  0.000054  0.000205   \n",
      "4  00017695ad8997eb  0.004606      0.000104  0.000629  0.000055  0.000759   \n",
      "\n",
      "   identity_hate  \n",
      "0       0.483341  \n",
      "1       0.000113  \n",
      "2       0.000266  \n",
      "3       0.000058  \n",
      "4       0.000102  \n",
      "save done\n"
     ]
    }
   ],
   "source": [
    "# play with weight\n",
    "df1 = pd.read_csv('../results/pub9854.csv')[list_classes].values\n",
    "df2 = pd.read_csv('../results/xgb9863_fold10.gz')[list_classes].values\n",
    "play_res = df1*0.3+df2*0.7\n",
    "sample_submission[list_classes] = play_res\n",
    "sample_submission.to_csv(\"../results/weighted_avg_sub.csv.gz\", index=False, compression='gzip')\n",
    "print(sample_submission.head())\n",
    "print('save done')"
   ]
  },
  {
   "cell_type": "code",
   "execution_count": null,
   "metadata": {},
   "outputs": [],
   "source": []
  },
  {
   "cell_type": "code",
   "execution_count": null,
   "metadata": {},
   "outputs": [],
   "source": []
  }
 ],
 "metadata": {
  "kernelspec": {
   "display_name": "Python 3",
   "language": "python",
   "name": "python3"
  },
  "language_info": {
   "codemirror_mode": {
    "name": "ipython",
    "version": 3
   },
   "file_extension": ".py",
   "mimetype": "text/x-python",
   "name": "python",
   "nbconvert_exporter": "python",
   "pygments_lexer": "ipython3",
   "version": "3.5.2"
  }
 },
 "nbformat": 4,
 "nbformat_minor": 2
}
