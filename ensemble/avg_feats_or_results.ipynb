{
 "cells": [
  {
   "cell_type": "code",
   "execution_count": 1,
   "metadata": {},
   "outputs": [
    {
     "name": "stdout",
     "output_type": "stream",
     "text": [
      "(4, 153164, 6)\n",
      "(153164, 6)\n"
     ]
    }
   ],
   "source": [
    "import pickle\n",
    "\n",
    "test_x = []\n",
    "def get_feat(f):\n",
    "    with open(f,'rb') as fin:\n",
    "        a,b = pickle.load(fin)\n",
    "        return b\n",
    "\n",
    "feat_files = [\n",
    "    '../features/glove_cnn_gru_4_feat.pkl',\n",
    "    '../features/glove_cudnn_gru_4_feat.pkl',\n",
    "    '../features/glove_lstm_v1_4_feat.pkl',\n",
    "    '../features/glove_gru_v1_4_feat.pkl'\n",
    "]\n",
    "for f in feat_files:\n",
    "    b = get_feat(f)\n",
    "    test_x.append(b)\n",
    "\n",
    "import numpy as np\n",
    "test_x = np.array(test_x)\n",
    "print(test_x.shape)\n",
    "mean_test_x = np.mean(test_x,axis=0)\n",
    "print(mean_test_x.shape)"
   ]
  },
  {
   "cell_type": "code",
   "execution_count": 2,
   "metadata": {},
   "outputs": [
    {
     "name": "stdout",
     "output_type": "stream",
     "text": [
      "                 id     toxic  severe_toxic   obscene    threat    insult  \\\n",
      "0  00001cee341fdb12  0.995861      0.465433  0.965190  0.157851  0.916416   \n",
      "1  0000247867823ef7  0.000473      0.000004  0.000121  0.000003  0.000058   \n",
      "2  00013b17ad220c46  0.001627      0.000072  0.000693  0.000064  0.000392   \n",
      "3  00017563c3f7919a  0.000332      0.000002  0.000076  0.000006  0.000047   \n",
      "4  00017695ad8997eb  0.007078      0.000040  0.001054  0.000080  0.000575   \n",
      "\n",
      "   identity_hate  \n",
      "0       0.497567  \n",
      "1       0.000016  \n",
      "2       0.000145  \n",
      "3       0.000009  \n",
      "4       0.000124  \n",
      "save done\n"
     ]
    }
   ],
   "source": [
    "import pandas as pd\n",
    "sample_submission = pd.read_csv(\"../input/sample_submission.csv\")\n",
    "list_classes = [\"toxic\", \"severe_toxic\", \"obscene\", \"threat\", \"insult\", \"identity_hate\"]\n",
    "sample_submission[list_classes] = mean_test_x\n",
    "sample_submission.to_csv(\"../results/avg_bagging.csv.gz\", index=False, compression='gzip')\n",
    "print(sample_submission.head())\n",
    "print('save done')"
   ]
  },
  {
   "cell_type": "code",
   "execution_count": 3,
   "metadata": {},
   "outputs": [
    {
     "name": "stdout",
     "output_type": "stream",
     "text": [
      "                 id     toxic  severe_toxic   obscene    threat    insult  \\\n",
      "0  00001cee341fdb12  0.995120      0.313308  0.970358  0.138673  0.912845   \n",
      "1  0000247867823ef7  0.000926      0.000246  0.000378  0.000042  0.000465   \n",
      "2  00013b17ad220c46  0.002538      0.000344  0.001156  0.000098  0.000898   \n",
      "3  00017563c3f7919a  0.000441      0.000109  0.000232  0.000084  0.000279   \n",
      "4  00017695ad8997eb  0.004520      0.000164  0.000768  0.000114  0.000870   \n",
      "\n",
      "   identity_hate  \n",
      "0       0.408604  \n",
      "1       0.000170  \n",
      "2       0.000258  \n",
      "3       0.000071  \n",
      "4       0.000129  \n",
      "save done\n"
     ]
    }
   ],
   "source": [
    "def avg_res(res_files):\n",
    "    test_x = []\n",
    "    for f in res_files:\n",
    "        test_x.append(pd.read_csv(f)[list_classes].values)\n",
    "    return np.mean(test_x,axis=0)\n",
    "\n",
    "res_fs = ['../results/pub9861.csv','../results/lgb9865_fold10.gz']\n",
    "avg_sub = avg_res(res_fs)\n",
    "sample_submission[list_classes] = avg_sub\n",
    "sample_submission.to_csv(\"../results/avg_sub.csv.gz\", index=False, compression='gzip')\n",
    "print(sample_submission.head())\n",
    "print('save done')"
   ]
  },
  {
   "cell_type": "code",
   "execution_count": 4,
   "metadata": {},
   "outputs": [],
   "source": [
    "# def pow_avg_res(res_files):\n",
    "#     test_x = []\n",
    "#     for f in res_files:\n",
    "#         test_x.append(pd.read_csv(f)[list_classes].values)\n",
    "#     file_cnt = len(res_files)\n",
    "#     base = test_x[0]\n",
    "#     for j in range(file_cnt-1):\n",
    "#         for i in range(6):\n",
    "#             base[:,i] = base[:,i]*test_x[j+1][:,i]\n",
    "#     base = base ** (1/file_cnt)\n",
    "#     return base\n",
    "\n",
    "# res_fs = ['../results/pub9854.csv','../results/xgb9856.gz']\n",
    "# avg_sub = pow_avg_res(res_fs)\n",
    "# sample_submission[list_classes] = avg_sub\n",
    "# sample_submission.to_csv(\"../results/pow_avg_sub.csv.gz\", index=False, compression='gzip')\n",
    "# print(sample_submission.head())\n",
    "# print('save done')"
   ]
  },
  {
   "cell_type": "code",
   "execution_count": 7,
   "metadata": {},
   "outputs": [
    {
     "name": "stdout",
     "output_type": "stream",
     "text": [
      "                 id     toxic  severe_toxic   obscene    threat    insult  \\\n",
      "0  00001cee341fdb12  0.974852      0.320108  0.954874  0.174277  0.898612   \n",
      "1  0000247867823ef7  0.002085      0.000174  0.000494  0.000041  0.000462   \n",
      "2  00013b17ad220c46  0.004732      0.000421  0.001639  0.000073  0.000923   \n",
      "3  00017563c3f7919a  0.000673      0.000081  0.000436  0.000056  0.000445   \n",
      "4  00017695ad8997eb  0.005422      0.000117  0.000880  0.000067  0.001463   \n",
      "\n",
      "   identity_hate  \n",
      "0       0.425665  \n",
      "1       0.000283  \n",
      "2       0.000384  \n",
      "3       0.000141  \n",
      "4       0.000283  \n",
      "save done\n"
     ]
    }
   ],
   "source": [
    "# play with weight\n",
    "df1 = pd.read_csv('../results/pub9861.csv')[list_classes].values\n",
    "df2 = pd.read_csv('../results/lgb9865_fold10.gz')[list_classes].values\n",
    "df3 = pd.read_csv('../results/jetou_9861.csv')[list_classes].values\n",
    "df4 = pd.read_csv('../results/xgb_adj_9866_fold10.gz')[list_classes].values\n",
    "play_res = df1*0.05+df2*0.05+df3*0.4+df4*0.5\n",
    "sample_submission[list_classes] = play_res\n",
    "sample_submission.to_csv(\"../results/weighted_avg_sub.csv.gz\", index=False, compression='gzip')\n",
    "print(sample_submission.head())\n",
    "print('save done')"
   ]
  },
  {
   "cell_type": "code",
   "execution_count": null,
   "metadata": {},
   "outputs": [],
   "source": []
  },
  {
   "cell_type": "code",
   "execution_count": null,
   "metadata": {},
   "outputs": [],
   "source": []
  }
 ],
 "metadata": {
  "kernelspec": {
   "display_name": "Python 3",
   "language": "python",
   "name": "python3"
  },
  "language_info": {
   "codemirror_mode": {
    "name": "ipython",
    "version": 3
   },
   "file_extension": ".py",
   "mimetype": "text/x-python",
   "name": "python",
   "nbconvert_exporter": "python",
   "pygments_lexer": "ipython3",
   "version": "3.5.2"
  }
 },
 "nbformat": 4,
 "nbformat_minor": 2
}
