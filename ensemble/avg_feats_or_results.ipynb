{
 "cells": [
  {
   "cell_type": "code",
   "execution_count": 36,
   "metadata": {},
   "outputs": [
    {
     "name": "stdout",
     "output_type": "stream",
     "text": [
      "(4, 153164, 6)\n",
      "(153164, 6)\n"
     ]
    }
   ],
   "source": [
    "import pickle\n",
    "\n",
    "test_x = []\n",
    "def get_feat(f):\n",
    "    with open(f,'rb') as fin:\n",
    "        a,b = pickle.load(fin)\n",
    "        return b\n",
    "\n",
    "feat_files = [\n",
    "    '../features/glove_cnn_gru_4_feat.pkl',\n",
    "    '../features/glove_cudnn_gru_4_feat.pkl',\n",
    "    '../features/glove_lstm_v1_4_feat.pkl',\n",
    "    '../features/glove_gru_v1_4_feat.pkl'\n",
    "]\n",
    "for f in feat_files:\n",
    "    b = get_feat(f)\n",
    "    test_x.append(b)\n",
    "\n",
    "import numpy as np\n",
    "test_x = np.array(test_x)\n",
    "print(test_x.shape)\n",
    "mean_test_x = np.mean(test_x,axis=0)\n",
    "print(mean_test_x.shape)"
   ]
  },
  {
   "cell_type": "code",
   "execution_count": 37,
   "metadata": {},
   "outputs": [
    {
     "name": "stdout",
     "output_type": "stream",
     "text": [
      "                 id     toxic  severe_toxic   obscene    threat    insult  \\\n",
      "0  00001cee341fdb12  0.995861      0.465433  0.965190  0.157851  0.916416   \n",
      "1  0000247867823ef7  0.000473      0.000004  0.000121  0.000003  0.000058   \n",
      "2  00013b17ad220c46  0.001627      0.000072  0.000693  0.000064  0.000392   \n",
      "3  00017563c3f7919a  0.000332      0.000002  0.000076  0.000006  0.000047   \n",
      "4  00017695ad8997eb  0.007078      0.000040  0.001054  0.000080  0.000575   \n",
      "\n",
      "   identity_hate  \n",
      "0       0.497567  \n",
      "1       0.000016  \n",
      "2       0.000145  \n",
      "3       0.000009  \n",
      "4       0.000124  \n",
      "save done\n"
     ]
    }
   ],
   "source": [
    "import pandas as pd\n",
    "sample_submission = pd.read_csv(\"../input/sample_submission.csv\")\n",
    "list_classes = [\"toxic\", \"severe_toxic\", \"obscene\", \"threat\", \"insult\", \"identity_hate\"]\n",
    "sample_submission[list_classes] = mean_test_x\n",
    "sample_submission.to_csv(\"../results/avg_bagging.csv.gz\", index=False, compression='gzip')\n",
    "print(sample_submission.head())\n",
    "print('save done')"
   ]
  },
  {
   "cell_type": "code",
   "execution_count": 38,
   "metadata": {},
   "outputs": [
    {
     "name": "stdout",
     "output_type": "stream",
     "text": [
      "                 id     toxic  severe_toxic   obscene    threat    insult  \\\n",
      "0  00001cee341fdb12  0.992345      0.352109  0.970125  0.128779  0.910723   \n",
      "1  0000247867823ef7  0.000990      0.000377  0.000530  0.000046  0.000583   \n",
      "2  00013b17ad220c46  0.004031      0.000623  0.001828  0.000111  0.001259   \n",
      "3  00017563c3f7919a  0.000662      0.000145  0.000312  0.000101  0.000391   \n",
      "4  00017695ad8997eb  0.006054      0.000186  0.000989  0.000088  0.001257   \n",
      "\n",
      "   identity_hate  \n",
      "0       0.415043  \n",
      "1       0.000230  \n",
      "2       0.000385  \n",
      "3       0.000076  \n",
      "4       0.000154  \n",
      "save done\n"
     ]
    }
   ],
   "source": [
    "def avg_res(res_files):\n",
    "    test_x = []\n",
    "    for f in res_files:\n",
    "        test_x.append(pd.read_csv(f)[list_classes].values)\n",
    "    return np.mean(test_x,axis=0)\n",
    "\n",
    "res_fs = ['../results/pub9854.csv','../results/xgb9858.gz']\n",
    "avg_sub = avg_res(res_fs)\n",
    "sample_submission[list_classes] = avg_sub\n",
    "sample_submission.to_csv(\"../results/avg_sub.csv.gz\", index=False, compression='gzip')\n",
    "print(sample_submission.head())\n",
    "print('save done')"
   ]
  },
  {
   "cell_type": "code",
   "execution_count": 39,
   "metadata": {},
   "outputs": [],
   "source": [
    "# def pow_avg_res(res_files):\n",
    "#     test_x = []\n",
    "#     for f in res_files:\n",
    "#         test_x.append(pd.read_csv(f)[list_classes].values)\n",
    "#     file_cnt = len(res_files)\n",
    "#     base = test_x[0]\n",
    "#     for j in range(file_cnt-1):\n",
    "#         for i in range(6):\n",
    "#             base[:,i] = base[:,i]*test_x[j+1][:,i]\n",
    "#     base = base ** (1/file_cnt)\n",
    "#     return base\n",
    "\n",
    "# res_fs = ['../results/pub9854.csv','../results/xgb9856.gz']\n",
    "# avg_sub = pow_avg_res(res_fs)\n",
    "# sample_submission[list_classes] = avg_sub\n",
    "# sample_submission.to_csv(\"../results/pow_avg_sub.csv.gz\", index=False, compression='gzip')\n",
    "# print(sample_submission.head())\n",
    "# print('save done')"
   ]
  },
  {
   "cell_type": "code",
   "execution_count": 40,
   "metadata": {},
   "outputs": [
    {
     "name": "stdout",
     "output_type": "stream",
     "text": [
      "                 id     toxic  severe_toxic   obscene    threat    insult  \\\n",
      "0  00001cee341fdb12  0.993679      0.334136  0.970468  0.143230  0.906053   \n",
      "1  0000247867823ef7  0.000828      0.000306  0.000438  0.000042  0.000472   \n",
      "2  00013b17ad220c46  0.003408      0.000504  0.001531  0.000097  0.001082   \n",
      "3  00017563c3f7919a  0.000577      0.000122  0.000267  0.000086  0.000325   \n",
      "4  00017695ad8997eb  0.005750      0.000157  0.000914  0.000077  0.001126   \n",
      "\n",
      "   identity_hate  \n",
      "0       0.433321  \n",
      "1       0.000191  \n",
      "2       0.000342  \n",
      "3       0.000070  \n",
      "4       0.000139  \n",
      "save done\n"
     ]
    }
   ],
   "source": [
    "# play with weight\n",
    "df1 = pd.read_csv('../results/pub9854.csv')[list_classes].values\n",
    "df2 = pd.read_csv('../results/xgb9858.gz')[list_classes].values\n",
    "play_res = df1*0.4+df2*0.6\n",
    "sample_submission[list_classes] = play_res\n",
    "sample_submission.to_csv(\"../results/weighted_avg_sub.csv.gz\", index=False, compression='gzip')\n",
    "print(sample_submission.head())\n",
    "print('save done')"
   ]
  },
  {
   "cell_type": "code",
   "execution_count": null,
   "metadata": {},
   "outputs": [],
   "source": []
  },
  {
   "cell_type": "code",
   "execution_count": null,
   "metadata": {},
   "outputs": [],
   "source": []
  }
 ],
 "metadata": {
  "kernelspec": {
   "display_name": "Python 3",
   "language": "python",
   "name": "python3"
  },
  "language_info": {
   "codemirror_mode": {
    "name": "ipython",
    "version": 3
   },
   "file_extension": ".py",
   "mimetype": "text/x-python",
   "name": "python",
   "nbconvert_exporter": "python",
   "pygments_lexer": "ipython3",
   "version": "3.5.2"
  }
 },
 "nbformat": 4,
 "nbformat_minor": 2
}
